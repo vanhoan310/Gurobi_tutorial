{
 "cells": [
  {
   "cell_type": "code",
   "execution_count": 1,
   "metadata": {},
   "outputs": [],
   "source": [
    "import os"
   ]
  },
  {
   "cell_type": "code",
   "execution_count": 2,
   "metadata": {},
   "outputs": [],
   "source": [
    "import numpy as np\n",
    "import pandas as pd"
   ]
  },
  {
   "cell_type": "code",
   "execution_count": 3,
   "metadata": {},
   "outputs": [
    {
     "name": "stdout",
     "output_type": "stream",
     "text": [
      "0.8.2\n"
     ]
    }
   ],
   "source": [
    "#from igraph import *\n",
    "import igraph # import igraph module\n",
    "print(igraph.__version__)"
   ]
  },
  {
   "cell_type": "code",
   "execution_count": 4,
   "metadata": {},
   "outputs": [],
   "source": [
    "%load_ext autoreload\n",
    "%autoreload 2"
   ]
  },
  {
   "cell_type": "markdown",
   "metadata": {},
   "source": [
    "## References\n",
    "* [Official python-igraph tutorial](https://igraph.org/python/doc/tutorial/tutorial.html)\n",
    "* [API Documentation](https://igraph.org/python/doc/python-igraph.pdf)\n",
    "* [Visualising Graph Data with python-igraph](https://towardsdatascience.com/visualising-graph-data-with-python-igraph-b3cc81a495cf)\n",
    "* [Newbies Guide to python-igraph](https://towardsdatascience.com/newbies-guide-to-python-igraph-4e51689c35b4)"
   ]
  },
  {
   "cell_type": "markdown",
   "metadata": {},
   "source": [
    "### My auxiliary functions"
   ]
  },
  {
   "cell_type": "code",
   "execution_count": 5,
   "metadata": {},
   "outputs": [],
   "source": [
    "import graph_utils as gru"
   ]
  },
  {
   "cell_type": "code",
   "execution_count": 6,
   "metadata": {},
   "outputs": [],
   "source": [
    "#edge_set_df[['parent', 'child']]"
   ]
  },
  {
   "cell_type": "markdown",
   "metadata": {},
   "source": [
    "### Parse **String Tie** Data"
   ]
  },
  {
   "cell_type": "markdown",
   "metadata": {},
   "source": [
    "- **Parse** `splice_graph_st.tsv` file into two **dataframes** corresponding to the  `node_set` and `edge_set` of the splice graph"
   ]
  },
  {
   "cell_type": "code",
   "execution_count": 7,
   "metadata": {},
   "outputs": [],
   "source": [
    "#node_set_df, edge_set_df = gru.string_tie_graph_to_dataframe(file=\"splice_graph_st.tsv\")\n",
    "node_set_df, edge_set_df = gru.string_tie_graph_to_dataframe(file=\"splice_graph_st.tsv\", output_dir='')"
   ]
  },
  {
   "cell_type": "code",
   "execution_count": 8,
   "metadata": {},
   "outputs": [],
   "source": [
    "#print(node_set_df.head())\n",
    "#node_set_df.shape"
   ]
  },
  {
   "cell_type": "code",
   "execution_count": 9,
   "metadata": {},
   "outputs": [],
   "source": [
    "#print(edge_set_df.head())\n",
    "#edge_set_df.shape"
   ]
  },
  {
   "cell_type": "markdown",
   "metadata": {},
   "source": [
    "# Python-igraph Tutorial"
   ]
  },
  {
   "cell_type": "markdown",
   "metadata": {},
   "source": [
    "## Load graph Data"
   ]
  },
  {
   "cell_type": "markdown",
   "metadata": {},
   "source": [
    "- **Load** graph from splice graph `node_set` and `edge_set` data"
   ]
  },
  {
   "cell_type": "code",
   "execution_count": 10,
   "metadata": {},
   "outputs": [
    {
     "name": "stdout",
     "output_type": "stream",
     "text": [
      "     name      start        end  sum_coverage  length   coverage\n",
      "0  source          0          0          0.00       1   0.000000\n",
      "1       1  147928397  147928578       2548.00     182  14.000000\n",
      "2       2  147936627  147936686       1415.50      60  23.591667\n",
      "3       3  147938714  147938817       3082.25     104  29.637020\n",
      "4       4  147943438  147943544       3201.00     107  29.915888\n"
     ]
    }
   ],
   "source": [
    "node_set_df = pd.read_csv('splice_graph.nodes', sep='\\t')\n",
    "print(node_set_df.head())\n",
    "#node_set_df\n",
    "#node_set_df.shape"
   ]
  },
  {
   "cell_type": "code",
   "execution_count": 11,
   "metadata": {},
   "outputs": [
    {
     "name": "stdout",
     "output_type": "stream",
     "text": [
      "   from  to  weight\n",
      "0     0   1       1\n",
      "1     1   2       1\n",
      "2     2   3       1\n",
      "3     3   4       1\n",
      "4     4   5       1\n"
     ]
    }
   ],
   "source": [
    "edge_set_df = pd.read_csv('splice_graph.edges', sep='\\t')\n",
    "print(edge_set_df.head())\n",
    "#edge_set_df\n",
    "#edge_set_df.shape"
   ]
  },
  {
   "cell_type": "code",
   "execution_count": 12,
   "metadata": {},
   "outputs": [],
   "source": [
    "# https://stackoverflow.com/questions/32513650/can-import-edgelist-to-igraph-python\n",
    "#sg = igraph.Graph.Read_Ncol('splice_graph.edges', directed=True)\n",
    "#print(sg)"
   ]
  },
  {
   "cell_type": "markdown",
   "metadata": {},
   "source": [
    "## Creating a graph from pandas DataFrame(s)"
   ]
  },
  {
   "cell_type": "markdown",
   "metadata": {},
   "source": [
    "**Note**: there are many options for generating graph see - [Graph generation](https://igraph.org/python/doc/tutorial/generation.html#) for more info."
   ]
  },
  {
   "cell_type": "markdown",
   "metadata": {},
   "source": [
    "A common practice is to store edges in a `pandas.DataFrame`, where the two first columns are the **source** and **target** `vertex ids`, and any additional column indicates **edge** `attributes`.\n",
    "\n",
    "You can generate a graph via `Graph.DataFrame()`:"
   ]
  },
  {
   "cell_type": "code",
   "execution_count": 13,
   "metadata": {},
   "outputs": [],
   "source": [
    "#g = igraph.Graph.DataFrame(edge_set_df, directed=True)"
   ]
  },
  {
   "cell_type": "markdown",
   "metadata": {},
   "source": [
    "It is possible to set **vertex** `attributes` at the same time via a separate `DataFrame`. \n",
    "\n",
    "The first column is assumed to contain all `vertex ids` (including any vertices without edges) and any additional columns are **vertex** `attributes`:"
   ]
  },
  {
   "cell_type": "code",
   "execution_count": 14,
   "metadata": {},
   "outputs": [],
   "source": [
    "#g = Graph.DataFrame(edges, directed=False, vertices=vertices)"
   ]
  },
  {
   "cell_type": "markdown",
   "metadata": {},
   "source": [
    "## Creating a graph from scratch"
   ]
  },
  {
   "cell_type": "markdown",
   "metadata": {},
   "source": [
    "Create an **undirected graph** with no vertices or edges and assign it to the variable g"
   ]
  },
  {
   "cell_type": "code",
   "execution_count": 15,
   "metadata": {},
   "outputs": [
    {
     "data": {
      "text/plain": [
       "<igraph.Graph at 0x7f9e20449250>"
      ]
     },
     "execution_count": 15,
     "metadata": {},
     "output_type": "execute_result"
    }
   ],
   "source": [
    "g = igraph.Graph()\n",
    "g # g is an instance of igraph’s `Graph` class and that it is currently living at the memory address 0x7f35650."
   ]
  },
  {
   "cell_type": "markdown",
   "metadata": {},
   "source": [
    "Create an **directed graph** with no vertices or edges and assign it to the variable g"
   ]
  },
  {
   "cell_type": "code",
   "execution_count": 16,
   "metadata": {},
   "outputs": [
    {
     "data": {
      "text/plain": [
       "<igraph.Graph at 0x7f9e20449350>"
      ]
     },
     "execution_count": 16,
     "metadata": {},
     "output_type": "execute_result"
    }
   ],
   "source": [
    "g = igraph.Graph(directed=True)\n",
    "g"
   ]
  },
  {
   "cell_type": "markdown",
   "metadata": {},
   "source": [
    "Output a more user-friendly summary using Python’s `print` statement:\n",
    "    \n",
    "`IGRAPH`, followed by (`U`='undirected' or `D`='directed') and a four-character long code:\n",
    "* the number of **vertices**\n",
    "* the number of **edges**\n",
    "* two dashes (`–`) \n",
    "* the name of the graph (i.e. the contents of the name attribute, if any)"
   ]
  },
  {
   "cell_type": "code",
   "execution_count": 17,
   "metadata": {},
   "outputs": [
    {
     "name": "stdout",
     "output_type": "stream",
     "text": [
      "IGRAPH D--- 0 0 --\n"
     ]
    }
   ],
   "source": [
    "print(g)"
   ]
  },
  {
   "cell_type": "markdown",
   "metadata": {},
   "source": [
    "A graph with no **vertices** and no **edges** is not really useful for us.\n",
    "\n",
    "Let’s add some *vertices* with `Graph.add_vertices()` (i.e., the `add_vertices()` **method** of the `Graph` **class**), which *adds the given number of vertices to the graph.*"
   ]
  },
  {
   "cell_type": "code",
   "execution_count": 18,
   "metadata": {},
   "outputs": [
    {
     "name": "stdout",
     "output_type": "stream",
     "text": [
      "IGRAPH D--- 19 0 --\n"
     ]
    }
   ],
   "source": [
    "n_vertices = len(node_set_df)\n",
    "\n",
    "# add vertices\n",
    "g.add_vertices(n_vertices)\n",
    "print(g)"
   ]
  },
  {
   "cell_type": "markdown",
   "metadata": {},
   "source": [
    "Now our graph has vertices but no edges, so let’s add some edges as well.\n",
    "\n",
    "You can add edges by calling `Graph.add_edges()` - but in order to add edges, you **have to refer to existing vertices somehow**. `igraph` uses `integer` **vertex IDs** starting from zero.\n",
    "\n",
    "**Note**: if you try to add edges to vertices with invalid IDs (i.e., you try to add an edge to vertex 5 when you only have three vertices), you will get an exception.\n",
    "\n",
    "*Edges* are specified by pairs of integers, so `[(0,1), (1,2)]` denotes a list of two edges. Passing this list to `Graph.add_edges()` *adds these two edges to your graph*:"
   ]
  },
  {
   "cell_type": "code",
   "execution_count": 19,
   "metadata": {},
   "outputs": [
    {
     "name": "stdout",
     "output_type": "stream",
     "text": [
      "IGRAPH D--- 19 22 --\n",
      "+ edges:\n",
      "0->1 1->2 2->3 3->4 4->5 5->6 4->6 6->7 7->8 8->9 0->10 10->11 9->11 11->12\n",
      "11->13 13->14 14->15 15->16 0->17 12->18 16->18 17->18\n"
     ]
    }
   ],
   "source": [
    "edges = []\n",
    "    \n",
    "# add edges to the graph\n",
    "g.add_edges(zip(edge_set_df['from'], edge_set_df['to']))\n",
    "print(g)"
   ]
  },
  {
   "cell_type": "markdown",
   "metadata": {},
   "source": [
    "We have an undirected graph with `19` **vertices** and `22` **edges**, and you can also see the **list of edges** in `igraph`’s output.\n",
    "\n",
    "*Edges* also have IDs, similarly to vertices; they also start from zero and edges that were added later have higher IDs than edges that were added earlier. \n",
    "\n",
    "**Note**: *Vertex* and *edge* **IDs are always continuous**, and a direct consequence of this fact is that if you happen to delete an edge, chances are that some (or all) of the edges will be renumbered. Moreover, if you delete a vertex, even the vertex IDs will change.\n",
    "\n",
    "*Edges* can be deleted by `delete_edges()` and it requires a list of edge IDs to be deleted (or a single edge ID). *Vertices* can be deleted by `delete_vertices()` and it requires a list of vertex IDs to be deleted (or a single vertex ID).\n",
    "\n",
    "If you do not know the ID of an edge you wish to delete, but you know the IDs of the vertices at its two endpoints, you can use `get_eid()` to get the edge ID. \n",
    "\n",
    "Remember! all these are **methods** of the `Graph` **Class** and you must call them on the appropriate `Graph` **instance**! (e.g. `g.get_eid()`)"
   ]
  },
  {
   "cell_type": "markdown",
   "metadata": {},
   "source": [
    "A new command `summary()`, it is a member of `igraph`’s own namespace and it can be used to *get an overview of a given graph object*. Its output is similar to the output of `print` but it **does not print the edge list** to avoid cluttering up the display for large graphs.\n",
    "\n",
    "**Note**: In general, you should use `summary()` instead of print when working interactively with large graphs because printing the edge list of a graph with millions of vertices and edges could take quite a lot of time."
   ]
  },
  {
   "cell_type": "markdown",
   "metadata": {},
   "source": [
    "## Setting and retrieving attributes"
   ]
  },
  {
   "cell_type": "markdown",
   "metadata": {},
   "source": [
    "*igraph* uses **vertex** and **edge** `IDs` in its core. Due to the issue that whenever vertices and edges are deleted, a large set of edge and possibly vertex IDs will be renumbered to ensure the continuity. One way to maintain the association between vertex IDs and say, their corresponding names is to have an additional Python list that maps from vertex IDs to names.\n",
    "\n",
    "The drawback of this approach is that this additional list must be maintained in parallel to the modifications of the original graph. Luckily, *igraph* knows the concept of **attributes**, i.e., *auxiliary objects associated to a given vertex or edge of a graph, or even to the graph as a whole*.\n",
    "\n",
    "Every *igraph* `Graph`, `vertex` and `edge` behaves as a standard *Python* `dictionary` in some sense, you can add *key-value pairs* to any of them:\n",
    "* *key* representing the **name** of your attribute (the only restriction is that it must be a `string`)\n",
    "* *value* representing the **attribute itself**.\n",
    "\n",
    "**Note**: Attributes can be arbitrary Python objects, but if you are saving graphs to a file, only `string` and `numeric` attributes will be kept. See the `pickle` **module** in the standard Python library if you are looking for a way to save other attribute types. You can either *pickle* your attributes individually, store them as strings and save them, or you can *pickle* the whole Graph if you know that you want to load the graph back into Python only."
   ]
  },
  {
   "cell_type": "markdown",
   "metadata": {},
   "source": [
    "Every Graph object contains **two special members** called: \n",
    "* `vs` - v the sequence of all **vertices**\n",
    "* `es` - the sequence of all **edges**\n",
    "\n",
    "If you try to use `vs` or `es` as a Python *dictionary*, you will *manipulate the attribute storage area of the graph*:"
   ]
  },
  {
   "cell_type": "code",
   "execution_count": 20,
   "metadata": {},
   "outputs": [
    {
     "data": {
      "text/plain": [
       "<igraph.VertexSeq at 0x7f9e2040d6b0>"
      ]
     },
     "execution_count": 20,
     "metadata": {},
     "output_type": "execute_result"
    }
   ],
   "source": [
    "#g.vs.__dir__()\n",
    "g.vs"
   ]
  },
  {
   "cell_type": "code",
   "execution_count": 21,
   "metadata": {},
   "outputs": [],
   "source": [
    "#node_set_df\n",
    "#edge_set_df"
   ]
  },
  {
   "cell_type": "code",
   "execution_count": 22,
   "metadata": {},
   "outputs": [],
   "source": [
    "# add ´node_info' to vertices in the graph\n",
    "g.vs['name'] = node_set_df['name'].tolist()\n",
    "g.vs['start'] = node_set_df['start'].tolist()\n",
    "g.vs['end'] = node_set_df['end'].tolist()\n",
    "g.vs['sum_coverage'] = node_set_df['sum_coverage'].tolist()\n",
    "g.vs['length'] = node_set_df['length'].tolist()\n",
    "g.vs['coverage'] = node_set_df['coverage'].tolist()\n",
    "\n",
    "# add weights to edges in the graph\n",
    "g.es['weight'] = edge_set_df['weight']"
   ]
  },
  {
   "cell_type": "markdown",
   "metadata": {},
   "source": [
    "Whenever you use `vs` or `es` as a *dictionary*, you are *assigning attributes to **all vertices/edges** of the graph.*\n",
    "\n",
    "However, you can simply alter the attributes of vertices and edges **individually** by indexing `vs` or `es` with integers as if they were lists (remember, they are sequences, they contain all the vertices or all the edges). \n",
    "\n",
    "When you index them, you obtain a `Vertex` or `Edge` object, which refers to  a **single vertex** or a **single edge** of the graph. `Vertex` and `Edge` objects can also be used as *dictionaries* to alter the attributes of that single vertex or edge:"
   ]
  },
  {
   "cell_type": "code",
   "execution_count": 23,
   "metadata": {},
   "outputs": [
    {
     "data": {
      "text/plain": [
       "igraph.Edge(<igraph.Graph object at 0x7f9e20449350>, 0, {'weight': 1})"
      ]
     },
     "execution_count": 23,
     "metadata": {},
     "output_type": "execute_result"
    }
   ],
   "source": [
    "g.es[0]"
   ]
  },
  {
   "cell_type": "code",
   "execution_count": 24,
   "metadata": {},
   "outputs": [
    {
     "data": {
      "text/plain": [
       "{'weight': 1}"
      ]
     },
     "execution_count": 24,
     "metadata": {},
     "output_type": "execute_result"
    }
   ],
   "source": [
    "g.es[0].attributes()"
   ]
  },
  {
   "cell_type": "code",
   "execution_count": 25,
   "metadata": {},
   "outputs": [
    {
     "data": {
      "text/plain": [
       "igraph.Edge(<igraph.Graph object at 0x7f9e20449350>, 0, {'weight': 2})"
      ]
     },
     "execution_count": 25,
     "metadata": {},
     "output_type": "execute_result"
    }
   ],
   "source": [
    "g.es[0]['weight'] = 2\n",
    "g.es[0]"
   ]
  },
  {
   "cell_type": "markdown",
   "metadata": {},
   "source": [
    "*Indexing* an `EdgeSeq` object returns `Edge` objects; the representation above shows:\n",
    "* the graph the object belongs to\n",
    "* the **edge ID** (zero in our case)\n",
    "* the dictionary of **attributes** assigned to that edge.\n",
    "\n",
    "`Edge` objects have some useful **attributes**, too:\n",
    "* `source` gives you the source vertex of that edge\n",
    "* `target` gives you the target vertex\n",
    "* `index` gives you the corresponding edge ID\n",
    "* `tuple` gives you a tuple containing the source and target vertices\n",
    "* `attributes()` gives you a dictionary containing the attributes of this edge.\n",
    "\n",
    "Vertex instances only have `index` and `attributes()`."
   ]
  },
  {
   "cell_type": "markdown",
   "metadata": {},
   "source": [
    "We can also assign *attributes* to the **whole graph**. `Graph` objects themselves can also behave as dictionaries:"
   ]
  },
  {
   "cell_type": "code",
   "execution_count": 26,
   "metadata": {},
   "outputs": [
    {
     "name": "stdout",
     "output_type": "stream",
     "text": [
      "26-10-2020\n"
     ]
    }
   ],
   "source": [
    "g[\"date\"] = \"26-10-2020\"\n",
    "print(g[\"date\"])"
   ]
  },
  {
   "cell_type": "markdown",
   "metadata": {},
   "source": [
    "Finally, it should be mentioned that attributes can be **deleted** by the Python keyword `del` just as you would do with any member of an ordinary dictionary:"
   ]
  },
  {
   "cell_type": "code",
   "execution_count": 27,
   "metadata": {},
   "outputs": [],
   "source": [
    "#g.vs[3][\"foo\"] = \"bar\"\n",
    "#g.vs[\"foo\"]"
   ]
  },
  {
   "cell_type": "code",
   "execution_count": 28,
   "metadata": {},
   "outputs": [],
   "source": [
    "#del g.vs[\"foo\"]\n",
    "#g.vs[\"foo\"]"
   ]
  },
  {
   "cell_type": "markdown",
   "metadata": {},
   "source": [
    "## Structural properties of graphs"
   ]
  },
  {
   "cell_type": "markdown",
   "metadata": {},
   "source": [
    "Besides the simple *graph* and *attribute* **manipulation routines** described above, *igraph* provides a large set of **methods** to calculate various **structural properties of graphs**.\n",
    "\n",
    "It is beyond the scope of this tutorial to document all of them, hence this section will only introduce a few of them for illustrative purposes. "
   ]
  },
  {
   "cell_type": "markdown",
   "metadata": {},
   "source": [
    "Probably the simplest property one can think of is the **vertex degree**. The **degree** of a vertex *equals the number of edges adjacent to it*. In case of directed networks, we can also define **in-degree** (the *number of edges pointing towards the vertex*) and **out-degree** (the *number of edges originating from the vertex*).\n",
    "\n",
    "*igraph* is able to calculate all of them using a simple syntax:"
   ]
  },
  {
   "cell_type": "code",
   "execution_count": 29,
   "metadata": {},
   "outputs": [
    {
     "data": {
      "text/plain": [
       "[3, 2, 2, 2, 3, 2, 3, 2, 2, 2, 2, 4, 2, 2, 2, 2, 2, 2, 3]"
      ]
     },
     "execution_count": 29,
     "metadata": {},
     "output_type": "execute_result"
    }
   ],
   "source": [
    "g.degree()"
   ]
  },
  {
   "cell_type": "markdown",
   "metadata": {},
   "source": [
    "Since our graph is *directed*, we can also calculate the in- and out-degrees separately using:"
   ]
  },
  {
   "cell_type": "code",
   "execution_count": 30,
   "metadata": {},
   "outputs": [
    {
     "data": {
      "text/plain": [
       "[0, 1, 1, 1, 1, 1, 2, 1, 1, 1, 1, 2, 1, 1, 1, 1, 1, 1, 3]"
      ]
     },
     "execution_count": 30,
     "metadata": {},
     "output_type": "execute_result"
    }
   ],
   "source": [
    "g.degree(mode=\"in\") "
   ]
  },
  {
   "cell_type": "code",
   "execution_count": 31,
   "metadata": {},
   "outputs": [
    {
     "data": {
      "text/plain": [
       "[3, 1, 1, 1, 2, 1, 1, 1, 1, 1, 1, 2, 1, 1, 1, 1, 1, 1, 0]"
      ]
     },
     "execution_count": 31,
     "metadata": {},
     "output_type": "execute_result"
    }
   ],
   "source": [
    "g.degree(mode=\"out\")"
   ]
  },
  {
   "cell_type": "markdown",
   "metadata": {},
   "source": [
    "You can also pass a **single** *vertex ID* or a **list** of *vertex IDs* to `degree()` if you want to calculate the degrees for *only a subset of vertices*:"
   ]
  },
  {
   "cell_type": "code",
   "execution_count": 32,
   "metadata": {},
   "outputs": [
    {
     "data": {
      "text/plain": [
       "2"
      ]
     },
     "execution_count": 32,
     "metadata": {},
     "output_type": "execute_result"
    }
   ],
   "source": [
    "g.degree(1)"
   ]
  },
  {
   "cell_type": "code",
   "execution_count": 33,
   "metadata": {},
   "outputs": [
    {
     "data": {
      "text/plain": [
       "[2, 2, 3]"
      ]
     },
     "execution_count": 33,
     "metadata": {},
     "output_type": "execute_result"
    }
   ],
   "source": [
    "g.degree([2,3,4])"
   ]
  },
  {
   "cell_type": "markdown",
   "metadata": {},
   "source": [
    "**Note 1**: This calling convention applies to most of the **structural properties** *igraph* can calculate.\n",
    "* For **vertex properties**, the methods accept a *vertex ID* or a *list of vertex IDs* (and if they are omitted, the default is the set of all vertices).\n",
    "* For **edge properties**, the methods accept a *single edge ID* or a *list of edge IDs*.\n",
    "\n",
    "Instead of a list of IDs, you can also supply a `VertexSeq` or an `EdgeSeq` instance appropriately. Later in the next chapter, you will learn how to restrict them to exactly the vertices or edges you want."
   ]
  },
  {
   "cell_type": "markdown",
   "metadata": {},
   "source": [
    "**Note 2**: For some measures, it does not make sense to calculate them only for a few vertices or edges instead of the whole graph, as it would take the same time anyway. \n",
    "\n",
    "In this case, the methods won’t accept *vertex* or *edge IDs*, but you can still restrict the resulting list later using **standard list indexing** and **slicing operators**. One such example is *eigenvector centrality* (`Graph.evcent()`)."
   ]
  },
  {
   "cell_type": "markdown",
   "metadata": {},
   "source": [
    "## Querying vertices and edges based on attributes"
   ]
  },
  {
   "cell_type": "markdown",
   "metadata": {},
   "source": [
    "### Selecting vertices and edges"
   ]
  },
  {
   "cell_type": "markdown",
   "metadata": {},
   "source": [
    "magine that in a given network, you would like to find out who has the largest degree.\n",
    "\n",
    "You can do that with the tools presented so far and some basic Python knowledge, but since it is a common task to **select** *vertices* and *edges* based on **attributes** or **structural properties**, *igraph* gives you an easier way to do that:"
   ]
  },
  {
   "cell_type": "code",
   "execution_count": 34,
   "metadata": {},
   "outputs": [
    {
     "data": {
      "text/plain": [
       "['11']"
      ]
     },
     "execution_count": 34,
     "metadata": {},
     "output_type": "execute_result"
    }
   ],
   "source": [
    "g.vs.select(_degree = g.maxdegree())[\"name\"]"
   ]
  },
  {
   "cell_type": "markdown",
   "metadata": {},
   "source": [
    "The syntax may seem a little bit awkward for the first sight, so let’s try to interpret it step by step: \n",
    "\n",
    "* `select()` is a **method** of `VertexSeq` and its sole purpose is to filter a `VertexSeq` based on the properties of individual vertices. \n",
    "\n",
    "The way it filters the vertices depends on its **positional** and **keyword arguments**.\n",
    "\n",
    "*Positional* arguments (the ones without an explicit name like _degree above) are **always processed before *keyword* arguments (`kwargs`)** as follows:"
   ]
  },
  {
   "cell_type": "markdown",
   "metadata": {},
   "source": [
    "* If the first *positional argument* is `None`, an empty sequence (containing no vertices) is returned:"
   ]
  },
  {
   "cell_type": "code",
   "execution_count": 35,
   "metadata": {},
   "outputs": [
    {
     "data": {
      "text/plain": [
       "0"
      ]
     },
     "execution_count": 35,
     "metadata": {},
     "output_type": "execute_result"
    }
   ],
   "source": [
    "seq = g.vs.select(None)\n",
    "len(seq)"
   ]
  },
  {
   "cell_type": "markdown",
   "metadata": {},
   "source": [
    "* If the first *positional argument* is a **callable object** (i.e., a *function*, a *bound method* or anything that behaves like a function), the object will be called for every vertex that’s currently in the sequence. If the **function returns True**, the vertex will be included, otherwise it will be excluded:"
   ]
  },
  {
   "cell_type": "code",
   "execution_count": 36,
   "metadata": {},
   "outputs": [
    {
     "data": {
      "text/plain": [
       "9"
      ]
     },
     "execution_count": 36,
     "metadata": {},
     "output_type": "execute_result"
    }
   ],
   "source": [
    "only_odd_vertices = g.vs.select(lambda vertex: vertex.index % 2 == 1)\n",
    "len(only_odd_vertices)"
   ]
  },
  {
   "cell_type": "markdown",
   "metadata": {},
   "source": [
    "* If the first *positional argument* is an **iterable** (i.e., a `list`, a `generator` or anything that can be iterated over), it **must return `integers`** and these integers will be considered as indices into the current vertex set (which is not necessarily the whole graph). Only **those vertices that match the given indices will be included** in the filtered vertex set. \n",
    "\n",
    "**Note**: `Floats`, `strings`, *invalid vertex IDs* will silently be ignored."
   ]
  },
  {
   "cell_type": "code",
   "execution_count": 37,
   "metadata": {},
   "outputs": [
    {
     "data": {
      "text/plain": [
       "3"
      ]
     },
     "execution_count": 37,
     "metadata": {},
     "output_type": "execute_result"
    }
   ],
   "source": [
    "seq = g.vs.select([2, 3, 7])\n",
    "len(seq)"
   ]
  },
  {
   "cell_type": "code",
   "execution_count": 38,
   "metadata": {},
   "outputs": [
    {
     "data": {
      "text/plain": [
       "[2, 3, 7]"
      ]
     },
     "execution_count": 38,
     "metadata": {},
     "output_type": "execute_result"
    }
   ],
   "source": [
    "[v.index for v in seq]"
   ]
  },
  {
   "cell_type": "code",
   "execution_count": 39,
   "metadata": {},
   "outputs": [
    {
     "data": {
      "text/plain": [
       "[2, 7]"
      ]
     },
     "execution_count": 39,
     "metadata": {},
     "output_type": "execute_result"
    }
   ],
   "source": [
    "# filtering an existing vertex set\n",
    "seq = seq.select([0, 2])         \n",
    "[v.index for v in seq]"
   ]
  },
  {
   "cell_type": "code",
   "execution_count": 40,
   "metadata": {},
   "outputs": [
    {
     "ename": "TypeError",
     "evalue": "bad argument type for built-in operation",
     "output_type": "error",
     "traceback": [
      "\u001b[0;31m---------------------------------------------------------------------------\u001b[0m",
      "\u001b[0;31mTypeError\u001b[0m                                 Traceback (most recent call last)",
      "\u001b[0;32m<ipython-input-40-ea68ff07f30a>\u001b[0m in \u001b[0;36m<module>\u001b[0;34m()\u001b[0m\n\u001b[1;32m      1\u001b[0m \u001b[0;31m# `Floats`, `strings`, *invalid vertex IDs* will silently be ignored. (actually not!)\u001b[0m\u001b[0;34m\u001b[0m\u001b[0;34m\u001b[0m\u001b[0;34m\u001b[0m\u001b[0m\n\u001b[0;32m----> 2\u001b[0;31m \u001b[0mseq\u001b[0m \u001b[0;34m=\u001b[0m \u001b[0mg\u001b[0m\u001b[0;34m.\u001b[0m\u001b[0mvs\u001b[0m\u001b[0;34m.\u001b[0m\u001b[0mselect\u001b[0m\u001b[0;34m(\u001b[0m\u001b[0;34m[\u001b[0m\u001b[0;36m2\u001b[0m\u001b[0;34m,\u001b[0m \u001b[0;36m3\u001b[0m\u001b[0;34m,\u001b[0m \u001b[0;36m7\u001b[0m\u001b[0;34m,\u001b[0m \u001b[0;34m\"foo\"\u001b[0m\u001b[0;34m,\u001b[0m \u001b[0;36m3.5\u001b[0m\u001b[0;34m]\u001b[0m\u001b[0;34m)\u001b[0m\u001b[0;34m\u001b[0m\u001b[0;34m\u001b[0m\u001b[0m\n\u001b[0m\u001b[1;32m      3\u001b[0m \u001b[0mlen\u001b[0m\u001b[0;34m(\u001b[0m\u001b[0mseq\u001b[0m\u001b[0;34m)\u001b[0m\u001b[0;34m\u001b[0m\u001b[0;34m\u001b[0m\u001b[0m\n",
      "\u001b[0;32m/home/pmonteagudo/anaconda3/envs/python_3.7/lib/python3.7/site-packages/igraph/__init__.py\u001b[0m in \u001b[0;36mselect\u001b[0;34m(self, *args, **kwds)\u001b[0m\n\u001b[1;32m   3684\u001b[0m \u001b[0;34m\u001b[0m\u001b[0m\n\u001b[1;32m   3685\u001b[0m         @return: the new, filtered vertex sequence\"\"\"\n\u001b[0;32m-> 3686\u001b[0;31m         \u001b[0mvs\u001b[0m \u001b[0;34m=\u001b[0m \u001b[0m_igraph\u001b[0m\u001b[0;34m.\u001b[0m\u001b[0mVertexSeq\u001b[0m\u001b[0;34m.\u001b[0m\u001b[0mselect\u001b[0m\u001b[0;34m(\u001b[0m\u001b[0mself\u001b[0m\u001b[0;34m,\u001b[0m \u001b[0;34m*\u001b[0m\u001b[0margs\u001b[0m\u001b[0;34m)\u001b[0m\u001b[0;34m\u001b[0m\u001b[0;34m\u001b[0m\u001b[0m\n\u001b[0m\u001b[1;32m   3687\u001b[0m \u001b[0;34m\u001b[0m\u001b[0m\n\u001b[1;32m   3688\u001b[0m         operators = {\n",
      "\u001b[0;31mTypeError\u001b[0m: bad argument type for built-in operation"
     ]
    }
   ],
   "source": [
    "# `Floats`, `strings`, *invalid vertex IDs* will silently be ignored. (actually not!)\n",
    "seq = g.vs.select([2, 3, 7, \"foo\", 3.5])\n",
    "len(seq)"
   ]
  },
  {
   "cell_type": "markdown",
   "metadata": {},
   "source": [
    "* If the first *positional argument* is an **`integer`**, all **remaining arguments are also expected to be integers** and they are interpreted as indices into the current vertex set. This is just `syntactic sugar`, you could achieve an equivalent effect by passing a list as the first positional argument, but this way you can omit the square brackets:"
   ]
  },
  {
   "cell_type": "code",
   "execution_count": null,
   "metadata": {},
   "outputs": [],
   "source": [
    "seq = g.vs.select(2, 3, 7)\n",
    "len(seq)"
   ]
  },
  {
   "cell_type": "markdown",
   "metadata": {},
   "source": [
    "**Keyword arguments** can be used to *filter the vertices based on their* **attributes** or *their* **structural properties**. \n",
    "\n",
    "The name of each keyword argument should consist of at most two parts: \n",
    "* the **name** of the attribute or structural property\n",
    "* the **filtering operator**.\n",
    "\n",
    "The operator can be omitted; in that case, we automatically assume the equality operator. \n",
    "\n",
    "The possibilities are as follows (where name denotes the name of the attribute or property):\n",
    "\n",
    "* **Equality `(==)`**:\n",
    "\n",
    "    * `name_eq` - The attribute/property value **must be equal** to the value of the keyword argument\n",
    "    * `name_ne` - The attribute/property value **must not be equal** to the value of the keyword argument\n",
    "\n",
    "* **Less than `(<)` / more than `(>)`**:\n",
    "    * `name_lt` - The attribute/property value **must be less than** the value of the keyword argument\n",
    "    * `name_le` - The attribute/property value **must be less than or equal** to the value of the keyword argument\n",
    "    * `name_gt` - The attribute/property value **must be greater than** the value of the keyword argument\n",
    "    * `name_ge` - The attribute/property value **must be greater than or equal** to the value of the keyword argument\n",
    "* **Inclusion**:\n",
    "    * `name_in` - The attribute/property value **must be included in the value** of the keyword argument, which must be a sequence in this case\n",
    "    * `name_notin` - The attribute/property value must not be included in the value of the the keyword argument, which must be a sequence in this case\n",
    "    \n",
    "For instance, the following command gives you the *nodes* with **coverage lower than 15** in the `splice graph`:"
   ]
  },
  {
   "cell_type": "code",
   "execution_count": null,
   "metadata": {},
   "outputs": [],
   "source": [
    "seq = g.vs.select(length_lt=15)\n",
    "[v.index for v in seq]"
   ]
  },
  {
   "cell_type": "markdown",
   "metadata": {},
   "source": [
    "**Note:** Due to the syntactical constraints of Python, you **cannot use the admittedly simpler syntax** of `g.vs.select(age < 30)` as *only the **equality operator** is allowed to appear in an **argument list** in Python*."
   ]
  },
  {
   "cell_type": "markdown",
   "metadata": {},
   "source": [
    "To save you some typing, you can **even omit** the `select()` **method** if you wish:"
   ]
  },
  {
   "cell_type": "code",
   "execution_count": 41,
   "metadata": {},
   "outputs": [
    {
     "data": {
      "text/plain": [
       "[0, 17, 18]"
      ]
     },
     "execution_count": 41,
     "metadata": {},
     "output_type": "execute_result"
    }
   ],
   "source": [
    "seq = g.vs(length_lt=15)\n",
    "[v.index for v in seq]"
   ]
  },
  {
   "cell_type": "markdown",
   "metadata": {},
   "source": [
    "Theoretically, it can happen that there exists an *attribute* and a *structural property* with the same name (e.g., you could have a `vertex` **attribute** named `degree`). In that case, we would not be able to decide whether the user meant degree as a *structural property* or as a *vertex attribute*.\n",
    "\n",
    "To resolve this ambiguity, **structural property names must always be preceded by an underscore (_) when used for filtering**. \n",
    "\n",
    "For example, to find vertices with **degree larger than 2**:"
   ]
  },
  {
   "cell_type": "code",
   "execution_count": 42,
   "metadata": {},
   "outputs": [
    {
     "data": {
      "text/plain": [
       "[0, 4, 6, 11, 18]"
      ]
     },
     "execution_count": 42,
     "metadata": {},
     "output_type": "execute_result"
    }
   ],
   "source": [
    "seq = g.vs(_degree_gt=2)\n",
    "[v.index for v in seq]"
   ]
  },
  {
   "cell_type": "markdown",
   "metadata": {},
   "source": [
    "There are also a few **special structural properties** for *selecting edges*:\n",
    "\n",
    "* Using `_source` or `_from` in the *keyword argument list* of `EdgeSeq.select()` **filters based on the source vertices of the edges**.\n",
    "\n",
    "E.g., to select all the edges originating from node who has vertex index 2:"
   ]
  },
  {
   "cell_type": "code",
   "execution_count": 43,
   "metadata": {},
   "outputs": [
    {
     "data": {
      "text/plain": [
       "[2]"
      ]
     },
     "execution_count": 43,
     "metadata": {},
     "output_type": "execute_result"
    }
   ],
   "source": [
    "seq = g.es.select(_from=2)\n",
    "[v.index for v in seq]"
   ]
  },
  {
   "cell_type": "markdown",
   "metadata": {},
   "source": [
    "* Using `_target` or `_to` **filters based on the target vertices**. This is different from `_source` and `_from` if the graph is **directed**."
   ]
  },
  {
   "cell_type": "code",
   "execution_count": 44,
   "metadata": {},
   "outputs": [
    {
     "data": {
      "text/plain": [
       "[1]"
      ]
     },
     "execution_count": 44,
     "metadata": {},
     "output_type": "execute_result"
    }
   ],
   "source": [
    "seq = g.es.select(_to=2)\n",
    "[v.index for v in seq]"
   ]
  },
  {
   "cell_type": "markdown",
   "metadata": {},
   "source": [
    "* `_within` takes a `VertexSeq` object or a *list* or *set of vertex indices* and **selects all the edges that originate and terminate in the given vertex set**.\n",
    "\n",
    "E.g., to select all the edges between *vertex index 2*, *vertex index 3* and *vertex index 4*:"
   ]
  },
  {
   "cell_type": "code",
   "execution_count": 45,
   "metadata": {},
   "outputs": [
    {
     "data": {
      "text/plain": [
       "[2, 3]"
      ]
     },
     "execution_count": 45,
     "metadata": {},
     "output_type": "execute_result"
    }
   ],
   "source": [
    "seq = g.es.select(_within=[2,3,4])\n",
    "[v.index for v in seq]"
   ]
  },
  {
   "cell_type": "markdown",
   "metadata": {},
   "source": [
    "alternatively, we could also have used a `VertexSeq` object:"
   ]
  },
  {
   "cell_type": "code",
   "execution_count": 46,
   "metadata": {},
   "outputs": [
    {
     "data": {
      "text/plain": [
       "[2, 3]"
      ]
     },
     "execution_count": 46,
     "metadata": {},
     "output_type": "execute_result"
    }
   ],
   "source": [
    "seq = g.es.select(_within=g.vs[2:5])\n",
    "[v.index for v in seq]"
   ]
  },
  {
   "cell_type": "markdown",
   "metadata": {},
   "source": [
    "* *_between* takes a `tuple` consisting of two `VertexSeq` objects or *lists* containing vertex indices or `Vertex` objects and **selects all the edges that originate in one of the sets and terminate in the other**.\n",
    "\n",
    "E.g., to select all the edges that connect men to women:"
   ]
  },
  {
   "cell_type": "code",
   "execution_count": 47,
   "metadata": {},
   "outputs": [
    {
     "data": {
      "text/plain": [
       "[18]"
      ]
     },
     "execution_count": 47,
     "metadata": {},
     "output_type": "execute_result"
    }
   ],
   "source": [
    "seq = g.es.select(_between=([0], [17]))\n",
    "[v.index for v in seq]"
   ]
  },
  {
   "cell_type": "markdown",
   "metadata": {},
   "source": [
    "## Finding a single vertex or edge with some properties"
   ]
  },
  {
   "cell_type": "markdown",
   "metadata": {},
   "source": [
    "In many cases we are looking for a **single vertex** or **edge** of a graph **with some properties**, and either we do not care which one of the matches is returned if there are multiple matches, or we know in advance that there will be only one match.\n",
    "\n",
    "A typical example is *looking up vertices by their names in the name property*. `VertexSeq` and `EdgeSeq` objects provide the `find()` **method** for such use-cases:\n",
    "* `find()` works similarly to `select()`, but it **returns only the first match if there are multiple matches**, and throws an exception if no match is found.\n",
    "\n",
    "For instance, to look up the vertex corresponding to `name=\"tank\"`, one can do this:"
   ]
  },
  {
   "cell_type": "code",
   "execution_count": 48,
   "metadata": {},
   "outputs": [
    {
     "data": {
      "text/plain": [
       "igraph.Vertex"
      ]
     },
     "execution_count": 48,
     "metadata": {},
     "output_type": "execute_result"
    }
   ],
   "source": [
    "#node_1 = g.vs.find(name=\"1\")\n",
    "node_1 = g.vs.find(name=\"tank\")\n",
    "type(node_1)"
   ]
  },
  {
   "cell_type": "code",
   "execution_count": 49,
   "metadata": {},
   "outputs": [
    {
     "data": {
      "text/plain": [
       "18"
      ]
     },
     "execution_count": 49,
     "metadata": {},
     "output_type": "execute_result"
    }
   ],
   "source": [
    "node_1.index"
   ]
  },
  {
   "cell_type": "markdown",
   "metadata": {},
   "source": [
    "Looking up an unknown `name` will yield an exception:"
   ]
  },
  {
   "cell_type": "code",
   "execution_count": 50,
   "metadata": {},
   "outputs": [
    {
     "ename": "ValueError",
     "evalue": "no such vertex: '20'",
     "output_type": "error",
     "traceback": [
      "\u001b[0;31m---------------------------------------------------------------------------\u001b[0m",
      "\u001b[0;31mValueError\u001b[0m                                Traceback (most recent call last)",
      "\u001b[0;32m<ipython-input-50-ef1db62796a9>\u001b[0m in \u001b[0;36m<module>\u001b[0;34m()\u001b[0m\n\u001b[0;32m----> 1\u001b[0;31m \u001b[0mg\u001b[0m\u001b[0;34m.\u001b[0m\u001b[0mvs\u001b[0m\u001b[0;34m.\u001b[0m\u001b[0mfind\u001b[0m\u001b[0;34m(\u001b[0m\u001b[0mname\u001b[0m\u001b[0;34m=\u001b[0m\u001b[0;34m\"20\"\u001b[0m\u001b[0;34m)\u001b[0m\u001b[0;34m\u001b[0m\u001b[0;34m\u001b[0m\u001b[0m\n\u001b[0m",
      "\u001b[0;32m/home/pmonteagudo/anaconda3/envs/python_3.7/lib/python3.7/site-packages/igraph/__init__.py\u001b[0m in \u001b[0;36mfind\u001b[0;34m(self, *args, **kwds)\u001b[0m\n\u001b[1;32m   3568\u001b[0m             \u001b[0;31m# Selecting first based on positional arguments, then checking\u001b[0m\u001b[0;34m\u001b[0m\u001b[0;34m\u001b[0m\u001b[0;34m\u001b[0m\u001b[0m\n\u001b[1;32m   3569\u001b[0m             \u001b[0;31m# the criteria specified by the (remaining) keyword arguments\u001b[0m\u001b[0;34m\u001b[0m\u001b[0;34m\u001b[0m\u001b[0;34m\u001b[0m\u001b[0m\n\u001b[0;32m-> 3570\u001b[0;31m             \u001b[0mvertex\u001b[0m \u001b[0;34m=\u001b[0m \u001b[0m_igraph\u001b[0m\u001b[0;34m.\u001b[0m\u001b[0mVertexSeq\u001b[0m\u001b[0;34m.\u001b[0m\u001b[0mfind\u001b[0m\u001b[0;34m(\u001b[0m\u001b[0mself\u001b[0m\u001b[0;34m,\u001b[0m \u001b[0;34m*\u001b[0m\u001b[0margs\u001b[0m\u001b[0;34m)\u001b[0m\u001b[0;34m\u001b[0m\u001b[0;34m\u001b[0m\u001b[0m\n\u001b[0m\u001b[1;32m   3571\u001b[0m             \u001b[0;32mif\u001b[0m \u001b[0;32mnot\u001b[0m \u001b[0mkwds\u001b[0m\u001b[0;34m:\u001b[0m\u001b[0;34m\u001b[0m\u001b[0;34m\u001b[0m\u001b[0m\n\u001b[1;32m   3572\u001b[0m                 \u001b[0;32mreturn\u001b[0m \u001b[0mvertex\u001b[0m\u001b[0;34m\u001b[0m\u001b[0;34m\u001b[0m\u001b[0m\n",
      "\u001b[0;31mValueError\u001b[0m: no such vertex: '20'"
     ]
    }
   ],
   "source": [
    "g.vs.find(name=\"20\")"
   ]
  },
  {
   "cell_type": "markdown",
   "metadata": {},
   "source": [
    "## Looking up vertices by names"
   ]
  },
  {
   "cell_type": "markdown",
   "metadata": {},
   "source": [
    "Looking up vertices **by names** is a very common operation, and it is **usually much easier to remember the names of the vertices in a graph than their IDs**. \n",
    "\n",
    "To this end, *igraph* treats the `name` **attribute** of vertices *specially*; they are *indexed such that vertices can be looked up by their names in amortized constant time*. \n",
    "\n",
    "To make things even easier, *igraph* **accepts vertex names (almost) anywhere where it expects vertex IDs**, and **also accepts collections (list, tuples etc) of vertex names anywhere where it expects lists of vertex IDs** or `VertexSeq` instances.\n",
    "\n",
    "E.g, you can simply look up the `degree` (number of connections) of node with `name=\"tank\"` as follows:"
   ]
  },
  {
   "cell_type": "code",
   "execution_count": 51,
   "metadata": {},
   "outputs": [
    {
     "data": {
      "text/plain": [
       "3"
      ]
     },
     "execution_count": 51,
     "metadata": {},
     "output_type": "execute_result"
    }
   ],
   "source": [
    "g.degree(\"tank\")"
   ]
  },
  {
   "cell_type": "markdown",
   "metadata": {},
   "source": [
    "or, alternatively:"
   ]
  },
  {
   "cell_type": "code",
   "execution_count": 52,
   "metadata": {},
   "outputs": [
    {
     "data": {
      "text/plain": [
       "3"
      ]
     },
     "execution_count": 52,
     "metadata": {},
     "output_type": "execute_result"
    }
   ],
   "source": [
    "g.vs.find(\"tank\").degree()"
   ]
  },
  {
   "cell_type": "markdown",
   "metadata": {},
   "source": [
    "**Note:** The mapping between vertex names and IDs is maintained transparently by igraph in the background; whenever the graph changes, igraph also updates the internal mapping.\n",
    "\n",
    "However, **uniqueness of vertex names is not enforced**; you can easily create a graph where two vertices have the same name, but igraph **will return only one of them when you look them up by names**, the other one will be available only by its index."
   ]
  },
  {
   "cell_type": "markdown",
   "metadata": {},
   "source": [
    "## Treating a graph as an adjacency matrix"
   ]
  },
  {
   "cell_type": "markdown",
   "metadata": {},
   "source": [
    "**Adjacency matrix** is another way to form a graph. In *adjacency matrix*, rows and columns are labeled by graph **vertices**: the elements of the matrix indicate whether the vertices i and j have a common edge (i, j). \n",
    "\n",
    "The adjacency matrix for the example graph is:"
   ]
  },
  {
   "cell_type": "code",
   "execution_count": 53,
   "metadata": {},
   "outputs": [
    {
     "data": {
      "text/plain": [
       "Matrix([[0, 1, 0, 0, 0, 0, 0, 0, 0, 0, 1, 0, 0, 0, 0, 0, 0, 1, 0], [0, 0, 1, 0, 0, 0, 0, 0, 0, 0, 0, 0, 0, 0, 0, 0, 0, 0, 0], [0, 0, 0, 1, 0, 0, 0, 0, 0, 0, 0, 0, 0, 0, 0, 0, 0, 0, 0], [0, 0, 0, 0, 1, 0, 0, 0, 0, 0, 0, 0, 0, 0, 0, 0, 0, 0, 0], [0, 0, 0, 0, 0, 1, 1, 0, 0, 0, 0, 0, 0, 0, 0, 0, 0, 0, 0], [0, 0, 0, 0, 0, 0, 1, 0, 0, 0, 0, 0, 0, 0, 0, 0, 0, 0, 0], [0, 0, 0, 0, 0, 0, 0, 1, 0, 0, 0, 0, 0, 0, 0, 0, 0, 0, 0], [0, 0, 0, 0, 0, 0, 0, 0, 1, 0, 0, 0, 0, 0, 0, 0, 0, 0, 0], [0, 0, 0, 0, 0, 0, 0, 0, 0, 1, 0, 0, 0, 0, 0, 0, 0, 0, 0], [0, 0, 0, 0, 0, 0, 0, 0, 0, 0, 0, 1, 0, 0, 0, 0, 0, 0, 0], [0, 0, 0, 0, 0, 0, 0, 0, 0, 0, 0, 1, 0, 0, 0, 0, 0, 0, 0], [0, 0, 0, 0, 0, 0, 0, 0, 0, 0, 0, 0, 1, 1, 0, 0, 0, 0, 0], [0, 0, 0, 0, 0, 0, 0, 0, 0, 0, 0, 0, 0, 0, 0, 0, 0, 0, 1], [0, 0, 0, 0, 0, 0, 0, 0, 0, 0, 0, 0, 0, 0, 1, 0, 0, 0, 0], [0, 0, 0, 0, 0, 0, 0, 0, 0, 0, 0, 0, 0, 0, 0, 1, 0, 0, 0], [0, 0, 0, 0, 0, 0, 0, 0, 0, 0, 0, 0, 0, 0, 0, 0, 1, 0, 0], [0, 0, 0, 0, 0, 0, 0, 0, 0, 0, 0, 0, 0, 0, 0, 0, 0, 0, 1], [0, 0, 0, 0, 0, 0, 0, 0, 0, 0, 0, 0, 0, 0, 0, 0, 0, 0, 1], [0, 0, 0, 0, 0, 0, 0, 0, 0, 0, 0, 0, 0, 0, 0, 0, 0, 0, 0]])"
      ]
     },
     "execution_count": 53,
     "metadata": {},
     "output_type": "execute_result"
    }
   ],
   "source": [
    "g.get_adjacency()"
   ]
  },
  {
   "cell_type": "markdown",
   "metadata": {},
   "source": [
    "## Layouts and plotting"
   ]
  },
  {
   "cell_type": "markdown",
   "metadata": {},
   "source": [
    "A **graph** is an *abstract mathematical object* without a specific representation in 2D or 3D space. This means that whenever we want to visualise a graph, we have to find a **mapping** from *vertices to coordinates* in two- or three-dimensional space first, preferably in a way that is pleasing for the eye. \n",
    "\n",
    "A separate branch of graph theory, namely graph drawing, tries to solve this problem via several **graph layout algorithms**. *igraph* implements quite a few layout algorithms and is also able to draw them onto the screen or to a `PDF`, `PNG` or `SVG` file using the [Cairo library](http://www.cairographics.org/).\n",
    "\n",
    "**Note**: To follow the examples of this subsection, you need the Python bindings of the Cairo library. The previous chapter ([Installing igraph](https://igraph.org/python/doc/tutorial/install.html#installing-igraph)) tells you more about how to install Cairo’s Python bindings."
   ]
  },
  {
   "cell_type": "markdown",
   "metadata": {},
   "source": [
    "### Layout algorithms"
   ]
  },
  {
   "cell_type": "markdown",
   "metadata": {},
   "source": [
    "The **layout methods** in *igraph* are to be found in the `Graph` object, and their always start with `layout_`.\n",
    "\n",
    "The following table summarises them:"
   ]
  },
  {
   "cell_type": "markdown",
   "metadata": {},
   "source": [
    "### [Layout algorithms](https://igraph.org/python/doc/tutorial/tutorial.html#layout-algorithms)"
   ]
  },
  {
   "cell_type": "code",
   "execution_count": 54,
   "metadata": {},
   "outputs": [],
   "source": [
    "from matplotlib import cm\n",
    "from matplotlib import colors"
   ]
  },
  {
   "cell_type": "markdown",
   "metadata": {},
   "source": [
    "Layout algorithms can either be called directly or using the **common layout method** called `layout()`:"
   ]
  },
  {
   "cell_type": "code",
   "execution_count": 55,
   "metadata": {},
   "outputs": [],
   "source": [
    "#import inspect"
   ]
  },
  {
   "cell_type": "code",
   "execution_count": 56,
   "metadata": {},
   "outputs": [],
   "source": [
    "#print(inspect.getsource(g.layout_reingold_tilford))"
   ]
  },
  {
   "cell_type": "code",
   "execution_count": 57,
   "metadata": {},
   "outputs": [],
   "source": [
    "layout = g.layout_kamada_kawai()"
   ]
  },
  {
   "cell_type": "code",
   "execution_count": 58,
   "metadata": {},
   "outputs": [],
   "source": [
    "layout = g.layout(\"kamada_kawai\")"
   ]
  },
  {
   "cell_type": "markdown",
   "metadata": {},
   "source": [
    "The first argument of the `layout()` **method** must be the short name of the layout algorithm (see the table above). All the remaining *positional and keyword arguments* are passed intact to the chosen layout method.\n",
    "\n",
    "\n",
    "For instance, the following two calls are completely equivalent:"
   ]
  },
  {
   "cell_type": "code",
   "execution_count": 59,
   "metadata": {},
   "outputs": [],
   "source": [
    "layout = g.layout_reingold_tilford(root=[2])\n",
    "layout = g.layout(\"tree\", root=[2])"
   ]
  },
  {
   "cell_type": "markdown",
   "metadata": {},
   "source": [
    "Layout methods return a `Layout` object which behaves mostly like a list of lists. Each **list entry** in a `Layout` object corresponds to a **vertex** in the original graph and *contains the vertex coordinates in the 2D or 3D space*.\n",
    "\n",
    "`Layout` objects also contain some useful methods to *translate*, *scale* or *rotate* the coordinates in a batch. However, the primary utility of Layout objects is that you can pass them to the `plot()` **function** along with the graph to obtain a 2D drawing."
   ]
  },
  {
   "cell_type": "markdown",
   "metadata": {},
   "source": [
    "### Drawing a graph using a layout"
   ]
  },
  {
   "cell_type": "markdown",
   "metadata": {},
   "source": [
    "For instance, we can plot our graph with the *Reingold-Tilford tree layout algorithm* as follows:"
   ]
  },
  {
   "cell_type": "code",
   "execution_count": 60,
   "metadata": {},
   "outputs": [
    {
     "data": {
      "image/svg+xml": [
       "<?xml version=\"1.0\" encoding=\"UTF-8\"?>\n",
       "<svg xmlns=\"http://www.w3.org/2000/svg\" xmlns:xlink=\"http://www.w3.org/1999/xlink\" width=\"600pt\" height=\"600pt\" viewBox=\"0 0 600 600\" version=\"1.1\">\n",
       "<g id=\"surface2\">\n",
       "<rect x=\"0\" y=\"0\" width=\"600\" height=\"600\" style=\"fill:rgb(100%,100%,100%);fill-opacity:1;stroke:none;\"/>\n",
       "<path style=\"fill:none;stroke-width:1;stroke-linecap:butt;stroke-linejoin:miter;stroke:rgb(26.666667%,26.666667%,26.666667%);stroke-opacity:1;stroke-miterlimit:10;\" d=\"M 362.222656 20 L 136.691406 83.429688 \"/>\n",
       "<path style=\" stroke:none;fill-rule:nonzero;fill:rgb(26.666667%,26.666667%,26.666667%);fill-opacity:1;\" d=\"M 122.960938 87.292969 L 135.4375 78.96875 L 137.949219 87.890625 L 122.960938 87.292969 \"/>\n",
       "<path style=\"fill:none;stroke-width:1;stroke-linecap:butt;stroke-linejoin:miter;stroke:rgb(26.666667%,26.666667%,26.666667%);stroke-opacity:1;stroke-miterlimit:10;\" d=\"M 113.332031 90 L 113.332031 135.734375 \"/>\n",
       "<path style=\" stroke:none;fill-rule:nonzero;fill:rgb(26.666667%,26.666667%,26.666667%);fill-opacity:1;\" d=\"M 113.332031 150 L 108.699219 135.734375 L 117.96875 135.734375 L 113.332031 150 \"/>\n",
       "<path style=\"fill:none;stroke-width:1;stroke-linecap:butt;stroke-linejoin:miter;stroke:rgb(26.666667%,26.666667%,26.666667%);stroke-opacity:1;stroke-miterlimit:10;\" d=\"M 113.332031 160 L 113.332031 205.734375 \"/>\n",
       "<path style=\" stroke:none;fill-rule:nonzero;fill:rgb(26.666667%,26.666667%,26.666667%);fill-opacity:1;\" d=\"M 113.332031 220 L 108.699219 205.734375 L 117.96875 205.734375 L 113.332031 220 \"/>\n",
       "<path style=\"fill:none;stroke-width:1;stroke-linecap:butt;stroke-linejoin:miter;stroke:rgb(26.666667%,26.666667%,26.666667%);stroke-opacity:1;stroke-miterlimit:10;\" d=\"M 113.332031 230 L 113.332031 275.734375 \"/>\n",
       "<path style=\" stroke:none;fill-rule:nonzero;fill:rgb(26.666667%,26.666667%,26.666667%);fill-opacity:1;\" d=\"M 113.332031 290 L 108.699219 275.734375 L 117.96875 275.734375 L 113.332031 290 \"/>\n",
       "<path style=\"fill:none;stroke-width:1;stroke-linecap:butt;stroke-linejoin:miter;stroke:rgb(26.666667%,26.666667%,26.666667%);stroke-opacity:1;stroke-miterlimit:10;\" d=\"M 113.332031 300 L 39.414062 355.441406 \"/>\n",
       "<path style=\" stroke:none;fill-rule:nonzero;fill:rgb(26.666667%,26.666667%,26.666667%);fill-opacity:1;\" d=\"M 28 364 L 36.632812 351.730469 L 42.195312 359.148438 L 28 364 \"/>\n",
       "<path style=\"fill:none;stroke-width:1;stroke-linecap:butt;stroke-linejoin:miter;stroke:rgb(26.666667%,26.666667%,26.666667%);stroke-opacity:1;stroke-miterlimit:10;\" d=\"M 20 370 L 182.402344 370 \"/>\n",
       "<path style=\" stroke:none;fill-rule:nonzero;fill:rgb(26.666667%,26.666667%,26.666667%);fill-opacity:1;\" d=\"M 196.667969 370 L 182.402344 374.636719 L 182.402344 365.363281 L 196.667969 370 \"/>\n",
       "<path style=\"fill:none;stroke-width:1;stroke-linecap:butt;stroke-linejoin:miter;stroke:rgb(26.666667%,26.666667%,26.666667%);stroke-opacity:1;stroke-miterlimit:10;\" d=\"M 113.332031 300 L 187.253906 355.441406 \"/>\n",
       "<path style=\" stroke:none;fill-rule:nonzero;fill:rgb(26.666667%,26.666667%,26.666667%);fill-opacity:1;\" d=\"M 198.667969 364 L 184.472656 359.148438 L 190.035156 351.730469 L 198.667969 364 \"/>\n",
       "<path style=\"fill:none;stroke-width:1;stroke-linecap:butt;stroke-linejoin:miter;stroke:rgb(26.666667%,26.666667%,26.666667%);stroke-opacity:1;stroke-miterlimit:10;\" d=\"M 206.667969 370 L 206.667969 415.734375 \"/>\n",
       "<path style=\" stroke:none;fill-rule:nonzero;fill:rgb(26.666667%,26.666667%,26.666667%);fill-opacity:1;\" d=\"M 206.667969 430 L 202.03125 415.734375 L 211.300781 415.734375 L 206.667969 430 \"/>\n",
       "<path style=\"fill:none;stroke-width:1;stroke-linecap:butt;stroke-linejoin:miter;stroke:rgb(26.666667%,26.666667%,26.666667%);stroke-opacity:1;stroke-miterlimit:10;\" d=\"M 206.667969 440 L 206.667969 485.734375 \"/>\n",
       "<path style=\" stroke:none;fill-rule:nonzero;fill:rgb(26.666667%,26.666667%,26.666667%);fill-opacity:1;\" d=\"M 206.667969 500 L 202.03125 485.734375 L 211.300781 485.734375 L 206.667969 500 \"/>\n",
       "<path style=\"fill:none;stroke-width:1;stroke-linecap:butt;stroke-linejoin:miter;stroke:rgb(26.666667%,26.666667%,26.666667%);stroke-opacity:1;stroke-miterlimit:10;\" d=\"M 206.667969 510 L 206.667969 555.734375 \"/>\n",
       "<path style=\" stroke:none;fill-rule:nonzero;fill:rgb(26.666667%,26.666667%,26.666667%);fill-opacity:1;\" d=\"M 206.667969 570 L 202.03125 555.734375 L 211.300781 555.734375 L 206.667969 570 \"/>\n",
       "<path style=\"fill:none;stroke-width:1;stroke-linecap:butt;stroke-linejoin:miter;stroke:rgb(26.666667%,26.666667%,26.666667%);stroke-opacity:1;stroke-miterlimit:10;\" d=\"M 362.222656 20 L 383.476562 67.824219 \"/>\n",
       "<path style=\" stroke:none;fill-rule:nonzero;fill:rgb(26.666667%,26.666667%,26.666667%);fill-opacity:1;\" d=\"M 389.273438 80.863281 L 379.242188 69.707031 L 387.714844 65.941406 L 389.273438 80.863281 \"/>\n",
       "<path style=\"fill:none;stroke-width:1;stroke-linecap:butt;stroke-linejoin:miter;stroke:rgb(26.666667%,26.666667%,26.666667%);stroke-opacity:1;stroke-miterlimit:10;\" d=\"M 393.332031 90 L 393.332031 135.734375 \"/>\n",
       "<path style=\" stroke:none;fill-rule:nonzero;fill:rgb(26.666667%,26.666667%,26.666667%);fill-opacity:1;\" d=\"M 393.332031 150 L 388.699219 135.734375 L 397.96875 135.734375 L 393.332031 150 \"/>\n",
       "<path style=\"fill:none;stroke-width:1;stroke-linecap:butt;stroke-linejoin:miter;stroke:rgb(26.666667%,26.666667%,26.666667%);stroke-opacity:1;stroke-miterlimit:10;\" d=\"M 206.667969 580 L 383.476562 182.175781 \"/>\n",
       "<path style=\" stroke:none;fill-rule:nonzero;fill:rgb(26.666667%,26.666667%,26.666667%);fill-opacity:1;\" d=\"M 389.273438 169.136719 L 387.714844 184.058594 L 379.242188 180.292969 L 389.273438 169.136719 \"/>\n",
       "<path style=\"fill:none;stroke-width:1;stroke-linecap:butt;stroke-linejoin:miter;stroke:rgb(26.666667%,26.666667%,26.666667%);stroke-opacity:1;stroke-miterlimit:10;\" d=\"M 393.332031 160 L 319.414062 215.441406 \"/>\n",
       "<path style=\" stroke:none;fill-rule:nonzero;fill:rgb(26.666667%,26.666667%,26.666667%);fill-opacity:1;\" d=\"M 308 224 L 316.632812 211.730469 L 322.195312 219.148438 L 308 224 \"/>\n",
       "<path style=\"fill:none;stroke-width:1;stroke-linecap:butt;stroke-linejoin:miter;stroke:rgb(26.666667%,26.666667%,26.666667%);stroke-opacity:1;stroke-miterlimit:10;\" d=\"M 393.332031 160 L 467.253906 215.441406 \"/>\n",
       "<path style=\" stroke:none;fill-rule:nonzero;fill:rgb(26.666667%,26.666667%,26.666667%);fill-opacity:1;\" d=\"M 478.667969 224 L 464.472656 219.148438 L 470.035156 211.730469 L 478.667969 224 \"/>\n",
       "<path style=\"fill:none;stroke-width:1;stroke-linecap:butt;stroke-linejoin:miter;stroke:rgb(26.666667%,26.666667%,26.666667%);stroke-opacity:1;stroke-miterlimit:10;\" d=\"M 486.667969 230 L 486.667969 275.734375 \"/>\n",
       "<path style=\" stroke:none;fill-rule:nonzero;fill:rgb(26.666667%,26.666667%,26.666667%);fill-opacity:1;\" d=\"M 486.667969 290 L 482.03125 275.734375 L 491.300781 275.734375 L 486.667969 290 \"/>\n",
       "<path style=\"fill:none;stroke-width:1;stroke-linecap:butt;stroke-linejoin:miter;stroke:rgb(26.666667%,26.666667%,26.666667%);stroke-opacity:1;stroke-miterlimit:10;\" d=\"M 486.667969 300 L 486.667969 345.734375 \"/>\n",
       "<path style=\" stroke:none;fill-rule:nonzero;fill:rgb(26.666667%,26.666667%,26.666667%);fill-opacity:1;\" d=\"M 486.667969 360 L 482.03125 345.734375 L 491.300781 345.734375 L 486.667969 360 \"/>\n",
       "<path style=\"fill:none;stroke-width:1;stroke-linecap:butt;stroke-linejoin:miter;stroke:rgb(26.666667%,26.666667%,26.666667%);stroke-opacity:1;stroke-miterlimit:10;\" d=\"M 486.667969 370 L 486.667969 415.734375 \"/>\n",
       "<path style=\" stroke:none;fill-rule:nonzero;fill:rgb(26.666667%,26.666667%,26.666667%);fill-opacity:1;\" d=\"M 486.667969 430 L 482.03125 415.734375 L 491.300781 415.734375 L 486.667969 430 \"/>\n",
       "<path style=\"fill:none;stroke-width:1;stroke-linecap:butt;stroke-linejoin:miter;stroke:rgb(26.666667%,26.666667%,26.666667%);stroke-opacity:1;stroke-miterlimit:10;\" d=\"M 362.222656 20 L 556.898438 82.574219 \"/>\n",
       "<path style=\" stroke:none;fill-rule:nonzero;fill:rgb(26.666667%,26.666667%,26.666667%);fill-opacity:1;\" d=\"M 570.480469 86.941406 L 555.480469 86.988281 L 558.316406 78.160156 L 570.480469 86.941406 \"/>\n",
       "<path style=\"fill:none;stroke-width:1;stroke-linecap:butt;stroke-linejoin:miter;stroke:rgb(26.666667%,26.666667%,26.666667%);stroke-opacity:1;stroke-miterlimit:10;\" d=\"M 300 230 L 556.457031 165.886719 \"/>\n",
       "<path style=\" stroke:none;fill-rule:nonzero;fill:rgb(26.666667%,26.666667%,26.666667%);fill-opacity:1;\" d=\"M 570.296875 162.425781 L 557.582031 170.382812 L 555.335938 161.386719 L 570.296875 162.425781 \"/>\n",
       "<path style=\"fill:none;stroke-width:1;stroke-linecap:butt;stroke-linejoin:miter;stroke:rgb(26.666667%,26.666667%,26.666667%);stroke-opacity:1;stroke-miterlimit:10;\" d=\"M 486.667969 440 L 572.328125 183.019531 \"/>\n",
       "<path style=\" stroke:none;fill-rule:nonzero;fill:rgb(26.666667%,26.666667%,26.666667%);fill-opacity:1;\" d=\"M 576.835938 169.488281 L 576.722656 184.488281 L 567.929688 181.554688 L 576.835938 169.488281 \"/>\n",
       "<path style=\"fill:none;stroke-width:1;stroke-linecap:butt;stroke-linejoin:miter;stroke:rgb(26.666667%,26.666667%,26.666667%);stroke-opacity:1;stroke-miterlimit:10;\" d=\"M 580 90 L 580 135.734375 \"/>\n",
       "<path style=\" stroke:none;fill-rule:nonzero;fill:rgb(26.666667%,26.666667%,26.666667%);fill-opacity:1;\" d=\"M 580 150 L 575.363281 135.734375 L 584.636719 135.734375 L 580 150 \"/>\n",
       "<path style=\"fill-rule:nonzero;fill:rgb(100%,0%,0%);fill-opacity:1;stroke-width:1;stroke-linecap:butt;stroke-linejoin:miter;stroke:rgb(0%,0%,0%);stroke-opacity:1;stroke-miterlimit:10;\" d=\"M 372.222656 20 C 372.222656 25.523438 367.746094 30 362.222656 30 C 356.699219 30 352.222656 25.523438 352.222656 20 C 352.222656 14.476562 356.699219 10 362.222656 10 C 367.746094 10 372.222656 14.476562 372.222656 20 \"/>\n",
       "<path style=\"fill-rule:nonzero;fill:rgb(100%,0%,0%);fill-opacity:1;stroke-width:1;stroke-linecap:butt;stroke-linejoin:miter;stroke:rgb(0%,0%,0%);stroke-opacity:1;stroke-miterlimit:10;\" d=\"M 123.332031 90 C 123.332031 95.523438 118.855469 100 113.332031 100 C 107.808594 100 103.332031 95.523438 103.332031 90 C 103.332031 84.476562 107.808594 80 113.332031 80 C 118.855469 80 123.332031 84.476562 123.332031 90 \"/>\n",
       "<path style=\"fill-rule:nonzero;fill:rgb(100%,0%,0%);fill-opacity:1;stroke-width:1;stroke-linecap:butt;stroke-linejoin:miter;stroke:rgb(0%,0%,0%);stroke-opacity:1;stroke-miterlimit:10;\" d=\"M 123.332031 160 C 123.332031 165.523438 118.855469 170 113.332031 170 C 107.808594 170 103.332031 165.523438 103.332031 160 C 103.332031 154.476562 107.808594 150 113.332031 150 C 118.855469 150 123.332031 154.476562 123.332031 160 \"/>\n",
       "<path style=\"fill-rule:nonzero;fill:rgb(100%,0%,0%);fill-opacity:1;stroke-width:1;stroke-linecap:butt;stroke-linejoin:miter;stroke:rgb(0%,0%,0%);stroke-opacity:1;stroke-miterlimit:10;\" d=\"M 123.332031 230 C 123.332031 235.523438 118.855469 240 113.332031 240 C 107.808594 240 103.332031 235.523438 103.332031 230 C 103.332031 224.476562 107.808594 220 113.332031 220 C 118.855469 220 123.332031 224.476562 123.332031 230 \"/>\n",
       "<path style=\"fill-rule:nonzero;fill:rgb(100%,0%,0%);fill-opacity:1;stroke-width:1;stroke-linecap:butt;stroke-linejoin:miter;stroke:rgb(0%,0%,0%);stroke-opacity:1;stroke-miterlimit:10;\" d=\"M 123.332031 300 C 123.332031 305.523438 118.855469 310 113.332031 310 C 107.808594 310 103.332031 305.523438 103.332031 300 C 103.332031 294.476562 107.808594 290 113.332031 290 C 118.855469 290 123.332031 294.476562 123.332031 300 \"/>\n",
       "<path style=\"fill-rule:nonzero;fill:rgb(100%,0%,0%);fill-opacity:1;stroke-width:1;stroke-linecap:butt;stroke-linejoin:miter;stroke:rgb(0%,0%,0%);stroke-opacity:1;stroke-miterlimit:10;\" d=\"M 30 370 C 30 375.523438 25.523438 380 20 380 C 14.476562 380 10 375.523438 10 370 C 10 364.476562 14.476562 360 20 360 C 25.523438 360 30 364.476562 30 370 \"/>\n",
       "<path style=\"fill-rule:nonzero;fill:rgb(100%,0%,0%);fill-opacity:1;stroke-width:1;stroke-linecap:butt;stroke-linejoin:miter;stroke:rgb(0%,0%,0%);stroke-opacity:1;stroke-miterlimit:10;\" d=\"M 216.667969 370 C 216.667969 375.523438 212.191406 380 206.667969 380 C 201.144531 380 196.667969 375.523438 196.667969 370 C 196.667969 364.476562 201.144531 360 206.667969 360 C 212.191406 360 216.667969 364.476562 216.667969 370 \"/>\n",
       "<path style=\"fill-rule:nonzero;fill:rgb(100%,0%,0%);fill-opacity:1;stroke-width:1;stroke-linecap:butt;stroke-linejoin:miter;stroke:rgb(0%,0%,0%);stroke-opacity:1;stroke-miterlimit:10;\" d=\"M 216.667969 440 C 216.667969 445.523438 212.191406 450 206.667969 450 C 201.144531 450 196.667969 445.523438 196.667969 440 C 196.667969 434.476562 201.144531 430 206.667969 430 C 212.191406 430 216.667969 434.476562 216.667969 440 \"/>\n",
       "<path style=\"fill-rule:nonzero;fill:rgb(100%,0%,0%);fill-opacity:1;stroke-width:1;stroke-linecap:butt;stroke-linejoin:miter;stroke:rgb(0%,0%,0%);stroke-opacity:1;stroke-miterlimit:10;\" d=\"M 216.667969 510 C 216.667969 515.523438 212.191406 520 206.667969 520 C 201.144531 520 196.667969 515.523438 196.667969 510 C 196.667969 504.476562 201.144531 500 206.667969 500 C 212.191406 500 216.667969 504.476562 216.667969 510 \"/>\n",
       "<path style=\"fill-rule:nonzero;fill:rgb(100%,0%,0%);fill-opacity:1;stroke-width:1;stroke-linecap:butt;stroke-linejoin:miter;stroke:rgb(0%,0%,0%);stroke-opacity:1;stroke-miterlimit:10;\" d=\"M 216.667969 580 C 216.667969 585.523438 212.191406 590 206.667969 590 C 201.144531 590 196.667969 585.523438 196.667969 580 C 196.667969 574.476562 201.144531 570 206.667969 570 C 212.191406 570 216.667969 574.476562 216.667969 580 \"/>\n",
       "<path style=\"fill-rule:nonzero;fill:rgb(100%,0%,0%);fill-opacity:1;stroke-width:1;stroke-linecap:butt;stroke-linejoin:miter;stroke:rgb(0%,0%,0%);stroke-opacity:1;stroke-miterlimit:10;\" d=\"M 403.332031 90 C 403.332031 95.523438 398.855469 100 393.332031 100 C 387.808594 100 383.332031 95.523438 383.332031 90 C 383.332031 84.476562 387.808594 80 393.332031 80 C 398.855469 80 403.332031 84.476562 403.332031 90 \"/>\n",
       "<path style=\"fill-rule:nonzero;fill:rgb(100%,0%,0%);fill-opacity:1;stroke-width:1;stroke-linecap:butt;stroke-linejoin:miter;stroke:rgb(0%,0%,0%);stroke-opacity:1;stroke-miterlimit:10;\" d=\"M 403.332031 160 C 403.332031 165.523438 398.855469 170 393.332031 170 C 387.808594 170 383.332031 165.523438 383.332031 160 C 383.332031 154.476562 387.808594 150 393.332031 150 C 398.855469 150 403.332031 154.476562 403.332031 160 \"/>\n",
       "<path style=\"fill-rule:nonzero;fill:rgb(100%,0%,0%);fill-opacity:1;stroke-width:1;stroke-linecap:butt;stroke-linejoin:miter;stroke:rgb(0%,0%,0%);stroke-opacity:1;stroke-miterlimit:10;\" d=\"M 310 230 C 310 235.523438 305.523438 240 300 240 C 294.476562 240 290 235.523438 290 230 C 290 224.476562 294.476562 220 300 220 C 305.523438 220 310 224.476562 310 230 \"/>\n",
       "<path style=\"fill-rule:nonzero;fill:rgb(100%,0%,0%);fill-opacity:1;stroke-width:1;stroke-linecap:butt;stroke-linejoin:miter;stroke:rgb(0%,0%,0%);stroke-opacity:1;stroke-miterlimit:10;\" d=\"M 496.667969 230 C 496.667969 235.523438 492.191406 240 486.667969 240 C 481.144531 240 476.667969 235.523438 476.667969 230 C 476.667969 224.476562 481.144531 220 486.667969 220 C 492.191406 220 496.667969 224.476562 496.667969 230 \"/>\n",
       "<path style=\"fill-rule:nonzero;fill:rgb(100%,0%,0%);fill-opacity:1;stroke-width:1;stroke-linecap:butt;stroke-linejoin:miter;stroke:rgb(0%,0%,0%);stroke-opacity:1;stroke-miterlimit:10;\" d=\"M 496.667969 300 C 496.667969 305.523438 492.191406 310 486.667969 310 C 481.144531 310 476.667969 305.523438 476.667969 300 C 476.667969 294.476562 481.144531 290 486.667969 290 C 492.191406 290 496.667969 294.476562 496.667969 300 \"/>\n",
       "<path style=\"fill-rule:nonzero;fill:rgb(100%,0%,0%);fill-opacity:1;stroke-width:1;stroke-linecap:butt;stroke-linejoin:miter;stroke:rgb(0%,0%,0%);stroke-opacity:1;stroke-miterlimit:10;\" d=\"M 496.667969 370 C 496.667969 375.523438 492.191406 380 486.667969 380 C 481.144531 380 476.667969 375.523438 476.667969 370 C 476.667969 364.476562 481.144531 360 486.667969 360 C 492.191406 360 496.667969 364.476562 496.667969 370 \"/>\n",
       "<path style=\"fill-rule:nonzero;fill:rgb(100%,0%,0%);fill-opacity:1;stroke-width:1;stroke-linecap:butt;stroke-linejoin:miter;stroke:rgb(0%,0%,0%);stroke-opacity:1;stroke-miterlimit:10;\" d=\"M 496.667969 440 C 496.667969 445.523438 492.191406 450 486.667969 450 C 481.144531 450 476.667969 445.523438 476.667969 440 C 476.667969 434.476562 481.144531 430 486.667969 430 C 492.191406 430 496.667969 434.476562 496.667969 440 \"/>\n",
       "<path style=\"fill-rule:nonzero;fill:rgb(100%,0%,0%);fill-opacity:1;stroke-width:1;stroke-linecap:butt;stroke-linejoin:miter;stroke:rgb(0%,0%,0%);stroke-opacity:1;stroke-miterlimit:10;\" d=\"M 590 90 C 590 95.523438 585.523438 100 580 100 C 574.476562 100 570 95.523438 570 90 C 570 84.476562 574.476562 80 580 80 C 585.523438 80 590 84.476562 590 90 \"/>\n",
       "<path style=\"fill-rule:nonzero;fill:rgb(100%,0%,0%);fill-opacity:1;stroke-width:1;stroke-linecap:butt;stroke-linejoin:miter;stroke:rgb(0%,0%,0%);stroke-opacity:1;stroke-miterlimit:10;\" d=\"M 590 160 C 590 165.523438 585.523438 170 580 170 C 574.476562 170 570 165.523438 570 160 C 570 154.476562 574.476562 150 580 150 C 585.523438 150 590 154.476562 590 160 \"/>\n",
       "</g>\n",
       "</svg>\n"
      ],
      "text/plain": [
       "<igraph.drawing.Plot at 0x7f9e13c926d0>"
      ]
     },
     "execution_count": 60,
     "metadata": {
      "image/svg+xml": {
       "isolated": true
      }
     },
     "output_type": "execute_result"
    }
   ],
   "source": [
    "layout = g.layout(\"tree\")\n",
    "igraph.plot(g, layout = layout)"
   ]
  },
  {
   "cell_type": "markdown",
   "metadata": {},
   "source": [
    "This should open an external image viewer showing a visual representation of the network.\n",
    "\n",
    "A trivial addition would be to use the names as the **vertex labels** and to **color the vertices** according to coverage.\n",
    "* Vertex labels are taken from the `label` **attribute**\n",
    "* Vertex colors are determined by the `color` **attribute**\n",
    "\n",
    "so we can simply create these attributes and re-plot the graph:"
   ]
  },
  {
   "cell_type": "code",
   "execution_count": 61,
   "metadata": {},
   "outputs": [],
   "source": [
    "viridis_cmap = cm.get_cmap('viridis', 256)\n",
    "scaled_coverage = colors.Normalize(vmin=0., vmax=max(g.vs['coverage']))"
   ]
  },
  {
   "cell_type": "code",
   "execution_count": 62,
   "metadata": {},
   "outputs": [
    {
     "data": {
      "image/svg+xml": [
       "<?xml version=\"1.0\" encoding=\"UTF-8\"?>\n",
       "<svg xmlns=\"http://www.w3.org/2000/svg\" xmlns:xlink=\"http://www.w3.org/1999/xlink\" width=\"500pt\" height=\"500pt\" viewBox=\"0 0 500 500\" version=\"1.1\">\n",
       "<defs>\n",
       "<g>\n",
       "<symbol overflow=\"visible\" id=\"glyph0-0\">\n",
       "<path style=\"stroke:none;\" d=\"M 0.703125 2.46875 L 0.703125 -9.875 L 7.703125 -9.875 L 7.703125 2.46875 Z M 1.484375 1.703125 L 6.921875 1.703125 L 6.921875 -9.078125 L 1.484375 -9.078125 Z M 1.484375 1.703125 \"/>\n",
       "</symbol>\n",
       "<symbol overflow=\"visible\" id=\"glyph0-1\">\n",
       "<path style=\"stroke:none;\" d=\"M 6.203125 -7.4375 L 6.203125 -6.234375 C 5.847656 -6.421875 5.476562 -6.554688 5.09375 -6.640625 C 4.707031 -6.734375 4.3125 -6.78125 3.90625 -6.78125 C 3.28125 -6.78125 2.8125 -6.6875 2.5 -6.5 C 2.1875 -6.3125 2.03125 -6.023438 2.03125 -5.640625 C 2.03125 -5.347656 2.140625 -5.117188 2.359375 -4.953125 C 2.585938 -4.785156 3.039062 -4.628906 3.71875 -4.484375 L 4.140625 -4.375 C 5.035156 -4.1875 5.671875 -3.914062 6.046875 -3.5625 C 6.421875 -3.21875 6.609375 -2.734375 6.609375 -2.109375 C 6.609375 -1.398438 6.328125 -0.835938 5.765625 -0.421875 C 5.203125 -0.00390625 4.429688 0.203125 3.453125 0.203125 C 3.035156 0.203125 2.601562 0.160156 2.15625 0.078125 C 1.71875 -0.00390625 1.253906 -0.125 0.765625 -0.28125 L 0.765625 -1.578125 C 1.222656 -1.335938 1.675781 -1.15625 2.125 -1.03125 C 2.582031 -0.914062 3.03125 -0.859375 3.46875 -0.859375 C 4.0625 -0.859375 4.515625 -0.957031 4.828125 -1.15625 C 5.148438 -1.363281 5.3125 -1.648438 5.3125 -2.015625 C 5.3125 -2.359375 5.195312 -2.617188 4.96875 -2.796875 C 4.738281 -2.984375 4.234375 -3.160156 3.453125 -3.328125 L 3.015625 -3.4375 C 2.242188 -3.59375 1.679688 -3.84375 1.328125 -4.1875 C 0.984375 -4.53125 0.8125 -4.992188 0.8125 -5.578125 C 0.8125 -6.304688 1.066406 -6.863281 1.578125 -7.25 C 2.085938 -7.644531 2.8125 -7.84375 3.75 -7.84375 C 4.21875 -7.84375 4.65625 -7.804688 5.0625 -7.734375 C 5.476562 -7.671875 5.859375 -7.570312 6.203125 -7.4375 Z M 6.203125 -7.4375 \"/>\n",
       "</symbol>\n",
       "<symbol overflow=\"visible\" id=\"glyph0-2\">\n",
       "<path style=\"stroke:none;\" d=\"M 4.28125 -6.78125 C 3.613281 -6.78125 3.082031 -6.515625 2.6875 -5.984375 C 2.289062 -5.460938 2.09375 -4.742188 2.09375 -3.828125 C 2.09375 -2.910156 2.285156 -2.1875 2.671875 -1.65625 C 3.066406 -1.132812 3.601562 -0.875 4.28125 -0.875 C 4.957031 -0.875 5.488281 -1.132812 5.875 -1.65625 C 6.269531 -2.1875 6.46875 -2.910156 6.46875 -3.828125 C 6.46875 -4.734375 6.269531 -5.453125 5.875 -5.984375 C 5.488281 -6.515625 4.957031 -6.78125 4.28125 -6.78125 Z M 4.28125 -7.84375 C 5.375 -7.84375 6.234375 -7.484375 6.859375 -6.765625 C 7.484375 -6.054688 7.796875 -5.078125 7.796875 -3.828125 C 7.796875 -2.566406 7.484375 -1.578125 6.859375 -0.859375 C 6.234375 -0.148438 5.375 0.203125 4.28125 0.203125 C 3.1875 0.203125 2.328125 -0.148438 1.703125 -0.859375 C 1.078125 -1.578125 0.765625 -2.566406 0.765625 -3.828125 C 0.765625 -5.078125 1.078125 -6.054688 1.703125 -6.765625 C 2.328125 -7.484375 3.1875 -7.84375 4.28125 -7.84375 Z M 4.28125 -7.84375 \"/>\n",
       "</symbol>\n",
       "<symbol overflow=\"visible\" id=\"glyph0-3\">\n",
       "<path style=\"stroke:none;\" d=\"M 1.1875 -3.015625 L 1.1875 -7.65625 L 2.453125 -7.65625 L 2.453125 -3.0625 C 2.453125 -2.34375 2.59375 -1.800781 2.875 -1.4375 C 3.15625 -1.070312 3.578125 -0.890625 4.140625 -0.890625 C 4.816406 -0.890625 5.351562 -1.101562 5.75 -1.53125 C 6.144531 -1.96875 6.34375 -2.5625 6.34375 -3.3125 L 6.34375 -7.65625 L 7.609375 -7.65625 L 7.609375 0 L 6.34375 0 L 6.34375 -1.171875 C 6.039062 -0.710938 5.6875 -0.367188 5.28125 -0.140625 C 4.875 0.0859375 4.40625 0.203125 3.875 0.203125 C 3 0.203125 2.332031 -0.0664062 1.875 -0.609375 C 1.414062 -1.160156 1.1875 -1.960938 1.1875 -3.015625 Z M 4.359375 -7.84375 Z M 4.359375 -7.84375 \"/>\n",
       "</symbol>\n",
       "<symbol overflow=\"visible\" id=\"glyph0-4\">\n",
       "<path style=\"stroke:none;\" d=\"M 5.75 -6.484375 C 5.613281 -6.566406 5.460938 -6.625 5.296875 -6.65625 C 5.128906 -6.695312 4.945312 -6.71875 4.75 -6.71875 C 4.03125 -6.71875 3.476562 -6.484375 3.09375 -6.015625 C 2.71875 -5.554688 2.53125 -4.894531 2.53125 -4.03125 L 2.53125 0 L 1.265625 0 L 1.265625 -7.65625 L 2.53125 -7.65625 L 2.53125 -6.46875 C 2.800781 -6.9375 3.144531 -7.28125 3.5625 -7.5 C 3.988281 -7.726562 4.503906 -7.84375 5.109375 -7.84375 C 5.203125 -7.84375 5.300781 -7.835938 5.40625 -7.828125 C 5.507812 -7.816406 5.625 -7.796875 5.75 -7.765625 Z M 5.75 -6.484375 \"/>\n",
       "</symbol>\n",
       "<symbol overflow=\"visible\" id=\"glyph0-5\">\n",
       "<path style=\"stroke:none;\" d=\"M 6.828125 -7.359375 L 6.828125 -6.1875 C 6.472656 -6.382812 6.113281 -6.53125 5.75 -6.625 C 5.394531 -6.726562 5.035156 -6.78125 4.671875 -6.78125 C 3.859375 -6.78125 3.222656 -6.519531 2.765625 -6 C 2.316406 -5.476562 2.09375 -4.753906 2.09375 -3.828125 C 2.09375 -2.890625 2.316406 -2.160156 2.765625 -1.640625 C 3.222656 -1.128906 3.859375 -0.875 4.671875 -0.875 C 5.035156 -0.875 5.394531 -0.921875 5.75 -1.015625 C 6.113281 -1.109375 6.472656 -1.253906 6.828125 -1.453125 L 6.828125 -0.296875 C 6.472656 -0.128906 6.109375 -0.00390625 5.734375 0.078125 C 5.359375 0.160156 4.960938 0.203125 4.546875 0.203125 C 3.390625 0.203125 2.46875 -0.15625 1.78125 -0.875 C 1.101562 -1.601562 0.765625 -2.585938 0.765625 -3.828125 C 0.765625 -5.066406 1.109375 -6.046875 1.796875 -6.765625 C 2.484375 -7.484375 3.425781 -7.84375 4.625 -7.84375 C 5.007812 -7.84375 5.382812 -7.800781 5.75 -7.71875 C 6.125 -7.644531 6.484375 -7.523438 6.828125 -7.359375 Z M 6.828125 -7.359375 \"/>\n",
       "</symbol>\n",
       "<symbol overflow=\"visible\" id=\"glyph0-6\">\n",
       "<path style=\"stroke:none;\" d=\"M 7.875 -4.140625 L 7.875 -3.53125 L 2.078125 -3.53125 C 2.140625 -2.664062 2.398438 -2.003906 2.859375 -1.546875 C 3.328125 -1.097656 3.976562 -0.875 4.8125 -0.875 C 5.300781 -0.875 5.769531 -0.929688 6.21875 -1.046875 C 6.675781 -1.160156 7.128906 -1.335938 7.578125 -1.578125 L 7.578125 -0.390625 C 7.117188 -0.203125 6.648438 -0.0546875 6.171875 0.046875 C 5.703125 0.148438 5.226562 0.203125 4.75 0.203125 C 3.519531 0.203125 2.546875 -0.148438 1.828125 -0.859375 C 1.117188 -1.578125 0.765625 -2.539062 0.765625 -3.75 C 0.765625 -5.007812 1.101562 -6.003906 1.78125 -6.734375 C 2.457031 -7.472656 3.375 -7.84375 4.53125 -7.84375 C 5.5625 -7.84375 6.375 -7.507812 6.96875 -6.84375 C 7.570312 -6.1875 7.875 -5.285156 7.875 -4.140625 Z M 6.609375 -4.515625 C 6.597656 -5.203125 6.40625 -5.75 6.03125 -6.15625 C 5.65625 -6.570312 5.160156 -6.78125 4.546875 -6.78125 C 3.835938 -6.78125 3.269531 -6.578125 2.84375 -6.171875 C 2.425781 -5.773438 2.1875 -5.21875 2.125 -4.5 Z M 6.609375 -4.515625 \"/>\n",
       "</symbol>\n",
       "<symbol overflow=\"visible\" id=\"glyph0-7\">\n",
       "<path style=\"stroke:none;\" d=\"M 1.734375 -1.15625 L 4 -1.15625 L 4 -8.953125 L 1.53125 -8.453125 L 1.53125 -9.71875 L 3.984375 -10.203125 L 5.359375 -10.203125 L 5.359375 -1.15625 L 7.609375 -1.15625 L 7.609375 0 L 1.734375 0 Z M 1.734375 -1.15625 \"/>\n",
       "</symbol>\n",
       "<symbol overflow=\"visible\" id=\"glyph0-8\">\n",
       "<path style=\"stroke:none;\" d=\"M 2.6875 -1.15625 L 7.5 -1.15625 L 7.5 0 L 1.03125 0 L 1.03125 -1.15625 C 1.550781 -1.695312 2.265625 -2.425781 3.171875 -3.34375 C 4.078125 -4.257812 4.644531 -4.847656 4.875 -5.109375 C 5.3125 -5.609375 5.617188 -6.03125 5.796875 -6.375 C 5.972656 -6.71875 6.0625 -7.054688 6.0625 -7.390625 C 6.0625 -7.929688 5.867188 -8.375 5.484375 -8.71875 C 5.109375 -9.0625 4.613281 -9.234375 4 -9.234375 C 3.570312 -9.234375 3.117188 -9.15625 2.640625 -9 C 2.160156 -8.851562 1.644531 -8.625 1.09375 -8.3125 L 1.09375 -9.71875 C 1.644531 -9.9375 2.160156 -10.101562 2.640625 -10.21875 C 3.128906 -10.332031 3.578125 -10.390625 3.984375 -10.390625 C 5.035156 -10.390625 5.875 -10.125 6.5 -9.59375 C 7.132812 -9.070312 7.453125 -8.367188 7.453125 -7.484375 C 7.453125 -7.054688 7.375 -6.65625 7.21875 -6.28125 C 7.0625 -5.90625 6.773438 -5.460938 6.359375 -4.953125 C 6.242188 -4.828125 5.878906 -4.445312 5.265625 -3.8125 C 4.660156 -3.175781 3.800781 -2.289062 2.6875 -1.15625 Z M 2.6875 -1.15625 \"/>\n",
       "</symbol>\n",
       "<symbol overflow=\"visible\" id=\"glyph0-9\">\n",
       "<path style=\"stroke:none;\" d=\"M 5.6875 -5.5 C 6.34375 -5.363281 6.851562 -5.070312 7.21875 -4.625 C 7.59375 -4.175781 7.78125 -3.625 7.78125 -2.96875 C 7.78125 -1.957031 7.429688 -1.175781 6.734375 -0.625 C 6.046875 -0.0703125 5.066406 0.203125 3.796875 0.203125 C 3.367188 0.203125 2.925781 0.15625 2.46875 0.0625 C 2.019531 -0.0195312 1.550781 -0.144531 1.0625 -0.3125 L 1.0625 -1.640625 C 1.445312 -1.421875 1.867188 -1.253906 2.328125 -1.140625 C 2.785156 -1.023438 3.257812 -0.96875 3.75 -0.96875 C 4.613281 -0.96875 5.269531 -1.132812 5.71875 -1.46875 C 6.175781 -1.8125 6.40625 -2.3125 6.40625 -2.96875 C 6.40625 -3.570312 6.191406 -4.039062 5.765625 -4.375 C 5.347656 -4.71875 4.765625 -4.890625 4.015625 -4.890625 L 2.828125 -4.890625 L 2.828125 -6.015625 L 4.078125 -6.015625 C 4.753906 -6.015625 5.269531 -6.148438 5.625 -6.421875 C 5.988281 -6.703125 6.171875 -7.097656 6.171875 -7.609375 C 6.171875 -8.128906 5.984375 -8.53125 5.609375 -8.8125 C 5.242188 -9.09375 4.710938 -9.234375 4.015625 -9.234375 C 3.640625 -9.234375 3.234375 -9.191406 2.796875 -9.109375 C 2.367188 -9.023438 1.894531 -8.894531 1.375 -8.71875 L 1.375 -9.953125 C 1.894531 -10.097656 2.382812 -10.207031 2.84375 -10.28125 C 3.300781 -10.351562 3.734375 -10.390625 4.140625 -10.390625 C 5.191406 -10.390625 6.019531 -10.148438 6.625 -9.671875 C 7.238281 -9.203125 7.546875 -8.5625 7.546875 -7.75 C 7.546875 -7.175781 7.382812 -6.695312 7.0625 -6.3125 C 6.738281 -5.925781 6.28125 -5.65625 5.6875 -5.5 Z M 5.6875 -5.5 \"/>\n",
       "</symbol>\n",
       "<symbol overflow=\"visible\" id=\"glyph0-10\">\n",
       "<path style=\"stroke:none;\" d=\"M 5.296875 -9 L 1.8125 -3.5625 L 5.296875 -3.5625 Z M 4.921875 -10.203125 L 6.671875 -10.203125 L 6.671875 -3.5625 L 8.125 -3.5625 L 8.125 -2.40625 L 6.671875 -2.40625 L 6.671875 0 L 5.296875 0 L 5.296875 -2.40625 L 0.6875 -2.40625 L 0.6875 -3.734375 Z M 4.921875 -10.203125 \"/>\n",
       "</symbol>\n",
       "<symbol overflow=\"visible\" id=\"glyph0-11\">\n",
       "<path style=\"stroke:none;\" d=\"M 1.515625 -10.203125 L 6.9375 -10.203125 L 6.9375 -9.046875 L 2.78125 -9.046875 L 2.78125 -6.546875 C 2.976562 -6.609375 3.175781 -6.65625 3.375 -6.6875 C 3.570312 -6.726562 3.773438 -6.75 3.984375 -6.75 C 5.117188 -6.75 6.019531 -6.4375 6.6875 -5.8125 C 7.351562 -5.1875 7.6875 -4.34375 7.6875 -3.28125 C 7.6875 -2.175781 7.34375 -1.316406 6.65625 -0.703125 C 5.976562 -0.0976562 5.015625 0.203125 3.765625 0.203125 C 3.335938 0.203125 2.898438 0.164062 2.453125 0.09375 C 2.015625 0.0195312 1.554688 -0.0859375 1.078125 -0.234375 L 1.078125 -1.625 C 1.492188 -1.40625 1.921875 -1.238281 2.359375 -1.125 C 2.796875 -1.019531 3.253906 -0.96875 3.734375 -0.96875 C 4.523438 -0.96875 5.148438 -1.171875 5.609375 -1.578125 C 6.066406 -1.992188 6.296875 -2.5625 6.296875 -3.28125 C 6.296875 -3.988281 6.066406 -4.546875 5.609375 -4.953125 C 5.148438 -5.367188 4.523438 -5.578125 3.734375 -5.578125 C 3.367188 -5.578125 3 -5.535156 2.625 -5.453125 C 2.257812 -5.378906 1.890625 -5.253906 1.515625 -5.078125 Z M 1.515625 -10.203125 \"/>\n",
       "</symbol>\n",
       "<symbol overflow=\"visible\" id=\"glyph0-12\">\n",
       "<path style=\"stroke:none;\" d=\"M 4.625 -5.65625 C 4 -5.65625 3.503906 -5.441406 3.140625 -5.015625 C 2.785156 -4.585938 2.609375 -4.007812 2.609375 -3.28125 C 2.609375 -2.539062 2.785156 -1.957031 3.140625 -1.53125 C 3.503906 -1.101562 4 -0.890625 4.625 -0.890625 C 5.238281 -0.890625 5.726562 -1.101562 6.09375 -1.53125 C 6.457031 -1.957031 6.640625 -2.539062 6.640625 -3.28125 C 6.640625 -4.007812 6.457031 -4.585938 6.09375 -5.015625 C 5.726562 -5.441406 5.238281 -5.65625 4.625 -5.65625 Z M 7.359375 -9.984375 L 7.359375 -8.71875 C 7.015625 -8.882812 6.664062 -9.007812 6.3125 -9.09375 C 5.957031 -9.1875 5.609375 -9.234375 5.265625 -9.234375 C 4.347656 -9.234375 3.648438 -8.925781 3.171875 -8.3125 C 2.691406 -7.695312 2.421875 -6.765625 2.359375 -5.515625 C 2.617188 -5.910156 2.953125 -6.210938 3.359375 -6.421875 C 3.765625 -6.640625 4.210938 -6.75 4.703125 -6.75 C 5.722656 -6.75 6.53125 -6.4375 7.125 -5.8125 C 7.726562 -5.1875 8.03125 -4.34375 8.03125 -3.28125 C 8.03125 -2.226562 7.71875 -1.382812 7.09375 -0.75 C 6.476562 -0.113281 5.65625 0.203125 4.625 0.203125 C 3.4375 0.203125 2.53125 -0.25 1.90625 -1.15625 C 1.289062 -2.0625 0.984375 -3.375 0.984375 -5.09375 C 0.984375 -6.707031 1.363281 -7.992188 2.125 -8.953125 C 2.894531 -9.910156 3.921875 -10.390625 5.203125 -10.390625 C 5.554688 -10.390625 5.90625 -10.351562 6.25 -10.28125 C 6.601562 -10.21875 6.972656 -10.117188 7.359375 -9.984375 Z M 7.359375 -9.984375 \"/>\n",
       "</symbol>\n",
       "<symbol overflow=\"visible\" id=\"glyph0-13\">\n",
       "<path style=\"stroke:none;\" d=\"M 1.15625 -10.203125 L 7.71875 -10.203125 L 7.71875 -9.625 L 4 0 L 2.5625 0 L 6.046875 -9.046875 L 1.15625 -9.046875 Z M 1.15625 -10.203125 \"/>\n",
       "</symbol>\n",
       "<symbol overflow=\"visible\" id=\"glyph0-14\">\n",
       "<path style=\"stroke:none;\" d=\"M 4.453125 -4.84375 C 3.796875 -4.84375 3.28125 -4.664062 2.90625 -4.3125 C 2.53125 -3.96875 2.34375 -3.488281 2.34375 -2.875 C 2.34375 -2.257812 2.53125 -1.773438 2.90625 -1.421875 C 3.28125 -1.066406 3.796875 -0.890625 4.453125 -0.890625 C 5.109375 -0.890625 5.625 -1.066406 6 -1.421875 C 6.375 -1.773438 6.5625 -2.257812 6.5625 -2.875 C 6.5625 -3.488281 6.375 -3.96875 6 -4.3125 C 5.625 -4.664062 5.109375 -4.84375 4.453125 -4.84375 Z M 3.0625 -5.4375 C 2.476562 -5.582031 2.019531 -5.859375 1.6875 -6.265625 C 1.351562 -6.671875 1.1875 -7.164062 1.1875 -7.75 C 1.1875 -8.5625 1.476562 -9.203125 2.0625 -9.671875 C 2.644531 -10.148438 3.441406 -10.390625 4.453125 -10.390625 C 5.460938 -10.390625 6.257812 -10.148438 6.84375 -9.671875 C 7.425781 -9.203125 7.71875 -8.5625 7.71875 -7.75 C 7.71875 -7.164062 7.550781 -6.671875 7.21875 -6.265625 C 6.882812 -5.859375 6.425781 -5.582031 5.84375 -5.4375 C 6.507812 -5.28125 7.023438 -4.972656 7.390625 -4.515625 C 7.765625 -4.066406 7.953125 -3.519531 7.953125 -2.875 C 7.953125 -1.882812 7.648438 -1.125 7.046875 -0.59375 C 6.441406 -0.0625 5.578125 0.203125 4.453125 0.203125 C 3.328125 0.203125 2.460938 -0.0625 1.859375 -0.59375 C 1.253906 -1.125 0.953125 -1.882812 0.953125 -2.875 C 0.953125 -3.519531 1.140625 -4.066406 1.515625 -4.515625 C 1.890625 -4.972656 2.40625 -5.28125 3.0625 -5.4375 Z M 2.5625 -7.609375 C 2.5625 -7.085938 2.726562 -6.675781 3.0625 -6.375 C 3.394531 -6.082031 3.859375 -5.9375 4.453125 -5.9375 C 5.046875 -5.9375 5.507812 -6.082031 5.84375 -6.375 C 6.175781 -6.675781 6.34375 -7.085938 6.34375 -7.609375 C 6.34375 -8.140625 6.175781 -8.550781 5.84375 -8.84375 C 5.507812 -9.144531 5.046875 -9.296875 4.453125 -9.296875 C 3.859375 -9.296875 3.394531 -9.144531 3.0625 -8.84375 C 2.726562 -8.550781 2.5625 -8.140625 2.5625 -7.609375 Z M 2.5625 -7.609375 \"/>\n",
       "</symbol>\n",
       "<symbol overflow=\"visible\" id=\"glyph0-15\">\n",
       "<path style=\"stroke:none;\" d=\"M 1.53125 -0.21875 L 1.53125 -1.46875 C 1.882812 -1.300781 2.238281 -1.175781 2.59375 -1.09375 C 2.945312 -1.007812 3.296875 -0.96875 3.640625 -0.96875 C 4.546875 -0.96875 5.238281 -1.269531 5.71875 -1.875 C 6.207031 -2.488281 6.484375 -3.421875 6.546875 -4.671875 C 6.285156 -4.285156 5.953125 -3.984375 5.546875 -3.765625 C 5.140625 -3.554688 4.691406 -3.453125 4.203125 -3.453125 C 3.179688 -3.453125 2.367188 -3.757812 1.765625 -4.375 C 1.171875 -5 0.875 -5.847656 0.875 -6.921875 C 0.875 -7.960938 1.179688 -8.800781 1.796875 -9.4375 C 2.421875 -10.070312 3.25 -10.390625 4.28125 -10.390625 C 5.46875 -10.390625 6.367188 -9.9375 6.984375 -9.03125 C 7.609375 -8.125 7.921875 -6.8125 7.921875 -5.09375 C 7.921875 -3.488281 7.539062 -2.203125 6.78125 -1.234375 C 6.019531 -0.273438 4.992188 0.203125 3.703125 0.203125 C 3.347656 0.203125 2.992188 0.164062 2.640625 0.09375 C 2.285156 0.03125 1.914062 -0.0703125 1.53125 -0.21875 Z M 4.28125 -4.546875 C 4.90625 -4.546875 5.394531 -4.753906 5.75 -5.171875 C 6.113281 -5.597656 6.296875 -6.179688 6.296875 -6.921875 C 6.296875 -7.648438 6.113281 -8.226562 5.75 -8.65625 C 5.394531 -9.082031 4.90625 -9.296875 4.28125 -9.296875 C 3.664062 -9.296875 3.175781 -9.082031 2.8125 -8.65625 C 2.445312 -8.226562 2.265625 -7.648438 2.265625 -6.921875 C 2.265625 -6.179688 2.445312 -5.597656 2.8125 -5.171875 C 3.175781 -4.753906 3.664062 -4.546875 4.28125 -4.546875 Z M 4.28125 -4.546875 \"/>\n",
       "</symbol>\n",
       "<symbol overflow=\"visible\" id=\"glyph0-16\">\n",
       "<path style=\"stroke:none;\" d=\"M 4.453125 -9.296875 C 3.742188 -9.296875 3.207031 -8.945312 2.84375 -8.25 C 2.488281 -7.550781 2.3125 -6.5 2.3125 -5.09375 C 2.3125 -3.695312 2.488281 -2.644531 2.84375 -1.9375 C 3.207031 -1.238281 3.742188 -0.890625 4.453125 -0.890625 C 5.171875 -0.890625 5.707031 -1.238281 6.0625 -1.9375 C 6.414062 -2.644531 6.59375 -3.695312 6.59375 -5.09375 C 6.59375 -6.5 6.414062 -7.550781 6.0625 -8.25 C 5.707031 -8.945312 5.171875 -9.296875 4.453125 -9.296875 Z M 4.453125 -10.390625 C 5.597656 -10.390625 6.472656 -9.9375 7.078125 -9.03125 C 7.679688 -8.125 7.984375 -6.8125 7.984375 -5.09375 C 7.984375 -3.375 7.679688 -2.0625 7.078125 -1.15625 C 6.472656 -0.25 5.597656 0.203125 4.453125 0.203125 C 3.304688 0.203125 2.429688 -0.25 1.828125 -1.15625 C 1.222656 -2.0625 0.921875 -3.375 0.921875 -5.09375 C 0.921875 -6.8125 1.222656 -8.125 1.828125 -9.03125 C 2.429688 -9.9375 3.304688 -10.390625 4.453125 -10.390625 Z M 4.453125 -10.390625 \"/>\n",
       "</symbol>\n",
       "<symbol overflow=\"visible\" id=\"glyph0-17\">\n",
       "<path style=\"stroke:none;\" d=\"M 2.5625 -9.828125 L 2.5625 -7.65625 L 5.15625 -7.65625 L 5.15625 -6.671875 L 2.5625 -6.671875 L 2.5625 -2.515625 C 2.5625 -1.898438 2.644531 -1.5 2.8125 -1.3125 C 2.988281 -1.132812 3.335938 -1.046875 3.859375 -1.046875 L 5.15625 -1.046875 L 5.15625 0 L 3.859375 0 C 2.890625 0 2.21875 -0.179688 1.84375 -0.546875 C 1.476562 -0.910156 1.296875 -1.566406 1.296875 -2.515625 L 1.296875 -6.671875 L 0.375 -6.671875 L 0.375 -7.65625 L 1.296875 -7.65625 L 1.296875 -9.828125 Z M 2.5625 -9.828125 \"/>\n",
       "</symbol>\n",
       "<symbol overflow=\"visible\" id=\"glyph0-18\">\n",
       "<path style=\"stroke:none;\" d=\"M 4.796875 -3.84375 C 3.785156 -3.84375 3.082031 -3.726562 2.6875 -3.5 C 2.289062 -3.269531 2.09375 -2.875 2.09375 -2.3125 C 2.09375 -1.863281 2.238281 -1.507812 2.53125 -1.25 C 2.832031 -0.988281 3.234375 -0.859375 3.734375 -0.859375 C 4.429688 -0.859375 4.988281 -1.101562 5.40625 -1.59375 C 5.832031 -2.09375 6.046875 -2.75 6.046875 -3.5625 L 6.046875 -3.84375 Z M 7.3125 -4.375 L 7.3125 0 L 6.046875 0 L 6.046875 -1.15625 C 5.765625 -0.695312 5.40625 -0.351562 4.96875 -0.125 C 4.539062 0.09375 4.019531 0.203125 3.40625 0.203125 C 2.625 0.203125 2 -0.015625 1.53125 -0.453125 C 1.070312 -0.898438 0.84375 -1.492188 0.84375 -2.234375 C 0.84375 -3.085938 1.128906 -3.734375 1.703125 -4.171875 C 2.285156 -4.609375 3.144531 -4.828125 4.28125 -4.828125 L 6.046875 -4.828125 L 6.046875 -4.953125 C 6.046875 -5.535156 5.851562 -5.984375 5.46875 -6.296875 C 5.09375 -6.617188 4.5625 -6.78125 3.875 -6.78125 C 3.4375 -6.78125 3.007812 -6.722656 2.59375 -6.609375 C 2.175781 -6.503906 1.78125 -6.347656 1.40625 -6.140625 L 1.40625 -7.3125 C 1.863281 -7.488281 2.304688 -7.617188 2.734375 -7.703125 C 3.171875 -7.796875 3.59375 -7.84375 4 -7.84375 C 5.113281 -7.84375 5.941406 -7.554688 6.484375 -6.984375 C 7.035156 -6.410156 7.3125 -5.539062 7.3125 -4.375 Z M 7.3125 -4.375 \"/>\n",
       "</symbol>\n",
       "<symbol overflow=\"visible\" id=\"glyph0-19\">\n",
       "<path style=\"stroke:none;\" d=\"M 7.6875 -4.625 L 7.6875 0 L 6.421875 0 L 6.421875 -4.578125 C 6.421875 -5.304688 6.28125 -5.847656 6 -6.203125 C 5.71875 -6.566406 5.296875 -6.75 4.734375 -6.75 C 4.054688 -6.75 3.519531 -6.53125 3.125 -6.09375 C 2.726562 -5.664062 2.53125 -5.078125 2.53125 -4.328125 L 2.53125 0 L 1.265625 0 L 1.265625 -7.65625 L 2.53125 -7.65625 L 2.53125 -6.46875 C 2.832031 -6.925781 3.1875 -7.269531 3.59375 -7.5 C 4.007812 -7.726562 4.484375 -7.84375 5.015625 -7.84375 C 5.890625 -7.84375 6.550781 -7.566406 7 -7.015625 C 7.457031 -6.472656 7.6875 -5.675781 7.6875 -4.625 Z M 7.6875 -4.625 \"/>\n",
       "</symbol>\n",
       "<symbol overflow=\"visible\" id=\"glyph0-20\">\n",
       "<path style=\"stroke:none;\" d=\"M 1.265625 -10.640625 L 2.53125 -10.640625 L 2.53125 -4.359375 L 6.296875 -7.65625 L 7.890625 -7.65625 L 3.828125 -4.078125 L 8.0625 0 L 6.421875 0 L 2.53125 -3.734375 L 2.53125 0 L 1.265625 0 Z M 1.265625 -10.640625 \"/>\n",
       "</symbol>\n",
       "</g>\n",
       "</defs>\n",
       "<g id=\"surface8\">\n",
       "<rect x=\"0\" y=\"0\" width=\"500\" height=\"500\" style=\"fill:rgb(100%,100%,100%);fill-opacity:1;stroke:none;\"/>\n",
       "<path style=\"fill:none;stroke-width:1;stroke-linecap:butt;stroke-linejoin:miter;stroke:rgb(26.666667%,26.666667%,26.666667%);stroke-opacity:1;stroke-miterlimit:10;\" d=\"M 301.109375 20 L 120.027344 70.929688 \"/>\n",
       "<path style=\" stroke:none;fill-rule:nonzero;fill:rgb(26.666667%,26.666667%,26.666667%);fill-opacity:1;\" d=\"M 106.292969 74.792969 L 118.769531 66.46875 L 121.28125 75.390625 L 106.292969 74.792969 \"/>\n",
       "<path style=\"fill:none;stroke-width:1;stroke-linecap:butt;stroke-linejoin:miter;stroke:rgb(26.666667%,26.666667%,26.666667%);stroke-opacity:1;stroke-miterlimit:10;\" d=\"M 96.667969 77.5 L 96.667969 110.734375 \"/>\n",
       "<path style=\" stroke:none;fill-rule:nonzero;fill:rgb(26.666667%,26.666667%,26.666667%);fill-opacity:1;\" d=\"M 96.667969 125 L 92.03125 110.734375 L 101.300781 110.734375 L 96.667969 125 \"/>\n",
       "<path style=\"fill:none;stroke-width:1;stroke-linecap:butt;stroke-linejoin:miter;stroke:rgb(26.666667%,26.666667%,26.666667%);stroke-opacity:1;stroke-miterlimit:10;\" d=\"M 96.667969 135 L 96.667969 168.234375 \"/>\n",
       "<path style=\" stroke:none;fill-rule:nonzero;fill:rgb(26.666667%,26.666667%,26.666667%);fill-opacity:1;\" d=\"M 96.667969 182.5 L 92.03125 168.234375 L 101.300781 168.234375 L 96.667969 182.5 \"/>\n",
       "<path style=\"fill:none;stroke-width:1;stroke-linecap:butt;stroke-linejoin:miter;stroke:rgb(26.666667%,26.666667%,26.666667%);stroke-opacity:1;stroke-miterlimit:10;\" d=\"M 96.667969 192.5 L 96.667969 225.734375 \"/>\n",
       "<path style=\" stroke:none;fill-rule:nonzero;fill:rgb(26.666667%,26.666667%,26.666667%);fill-opacity:1;\" d=\"M 96.667969 240 L 92.03125 225.734375 L 101.300781 225.734375 L 96.667969 240 \"/>\n",
       "<path style=\"fill:none;stroke-width:1;stroke-linecap:butt;stroke-linejoin:miter;stroke:rgb(26.666667%,26.666667%,26.666667%);stroke-opacity:1;stroke-miterlimit:10;\" d=\"M 96.667969 250 L 39.414062 292.941406 \"/>\n",
       "<path style=\" stroke:none;fill-rule:nonzero;fill:rgb(26.666667%,26.666667%,26.666667%);fill-opacity:1;\" d=\"M 28 301.5 L 36.632812 289.230469 L 42.195312 296.648438 L 28 301.5 \"/>\n",
       "<path style=\"fill:none;stroke-width:1;stroke-linecap:butt;stroke-linejoin:miter;stroke:rgb(26.666667%,26.666667%,26.666667%);stroke-opacity:1;stroke-miterlimit:10;\" d=\"M 20 307.5 L 149.066406 307.5 \"/>\n",
       "<path style=\" stroke:none;fill-rule:nonzero;fill:rgb(26.666667%,26.666667%,26.666667%);fill-opacity:1;\" d=\"M 163.332031 307.5 L 149.066406 312.136719 L 149.066406 302.863281 L 163.332031 307.5 \"/>\n",
       "<path style=\"fill:none;stroke-width:1;stroke-linecap:butt;stroke-linejoin:miter;stroke:rgb(26.666667%,26.666667%,26.666667%);stroke-opacity:1;stroke-miterlimit:10;\" d=\"M 96.667969 250 L 153.921875 292.941406 \"/>\n",
       "<path style=\" stroke:none;fill-rule:nonzero;fill:rgb(26.666667%,26.666667%,26.666667%);fill-opacity:1;\" d=\"M 165.332031 301.5 L 151.140625 296.648438 L 156.703125 289.230469 L 165.332031 301.5 \"/>\n",
       "<path style=\"fill:none;stroke-width:1;stroke-linecap:butt;stroke-linejoin:miter;stroke:rgb(26.666667%,26.666667%,26.666667%);stroke-opacity:1;stroke-miterlimit:10;\" d=\"M 173.332031 307.5 L 173.332031 340.734375 \"/>\n",
       "<path style=\" stroke:none;fill-rule:nonzero;fill:rgb(26.666667%,26.666667%,26.666667%);fill-opacity:1;\" d=\"M 173.332031 355 L 168.699219 340.734375 L 177.96875 340.734375 L 173.332031 355 \"/>\n",
       "<path style=\"fill:none;stroke-width:1;stroke-linecap:butt;stroke-linejoin:miter;stroke:rgb(26.666667%,26.666667%,26.666667%);stroke-opacity:1;stroke-miterlimit:10;\" d=\"M 173.332031 365 L 173.332031 398.234375 \"/>\n",
       "<path style=\" stroke:none;fill-rule:nonzero;fill:rgb(26.666667%,26.666667%,26.666667%);fill-opacity:1;\" d=\"M 173.332031 412.5 L 168.699219 398.234375 L 177.96875 398.234375 L 173.332031 412.5 \"/>\n",
       "<path style=\"fill:none;stroke-width:1;stroke-linecap:butt;stroke-linejoin:miter;stroke:rgb(26.666667%,26.666667%,26.666667%);stroke-opacity:1;stroke-miterlimit:10;\" d=\"M 173.332031 422.5 L 173.332031 455.734375 \"/>\n",
       "<path style=\" stroke:none;fill-rule:nonzero;fill:rgb(26.666667%,26.666667%,26.666667%);fill-opacity:1;\" d=\"M 173.332031 470 L 168.699219 455.734375 L 177.96875 455.734375 L 173.332031 470 \"/>\n",
       "<path style=\"fill:none;stroke-width:1;stroke-linecap:butt;stroke-linejoin:miter;stroke:rgb(26.666667%,26.666667%,26.666667%);stroke-opacity:1;stroke-miterlimit:10;\" d=\"M 301.109375 20 L 316.8125 55.324219 \"/>\n",
       "<path style=\" stroke:none;fill-rule:nonzero;fill:rgb(26.666667%,26.666667%,26.666667%);fill-opacity:1;\" d=\"M 322.605469 68.363281 L 312.574219 57.207031 L 321.046875 53.441406 L 322.605469 68.363281 \"/>\n",
       "<path style=\"fill:none;stroke-width:1;stroke-linecap:butt;stroke-linejoin:miter;stroke:rgb(26.666667%,26.666667%,26.666667%);stroke-opacity:1;stroke-miterlimit:10;\" d=\"M 326.667969 77.5 L 326.667969 110.734375 \"/>\n",
       "<path style=\" stroke:none;fill-rule:nonzero;fill:rgb(26.666667%,26.666667%,26.666667%);fill-opacity:1;\" d=\"M 326.667969 125 L 322.03125 110.734375 L 331.300781 110.734375 L 326.667969 125 \"/>\n",
       "<path style=\"fill:none;stroke-width:1;stroke-linecap:butt;stroke-linejoin:miter;stroke:rgb(26.666667%,26.666667%,26.666667%);stroke-opacity:1;stroke-miterlimit:10;\" d=\"M 173.332031 480 L 316.8125 157.175781 \"/>\n",
       "<path style=\" stroke:none;fill-rule:nonzero;fill:rgb(26.666667%,26.666667%,26.666667%);fill-opacity:1;\" d=\"M 322.605469 144.136719 L 321.046875 159.058594 L 312.574219 155.292969 L 322.605469 144.136719 \"/>\n",
       "<path style=\"fill:none;stroke-width:1;stroke-linecap:butt;stroke-linejoin:miter;stroke:rgb(26.666667%,26.666667%,26.666667%);stroke-opacity:1;stroke-miterlimit:10;\" d=\"M 326.667969 135 L 269.414062 177.941406 \"/>\n",
       "<path style=\" stroke:none;fill-rule:nonzero;fill:rgb(26.666667%,26.666667%,26.666667%);fill-opacity:1;\" d=\"M 258 186.5 L 266.632812 174.230469 L 272.195312 181.648438 L 258 186.5 \"/>\n",
       "<path style=\"fill:none;stroke-width:1;stroke-linecap:butt;stroke-linejoin:miter;stroke:rgb(26.666667%,26.666667%,26.666667%);stroke-opacity:1;stroke-miterlimit:10;\" d=\"M 326.667969 135 L 383.921875 177.941406 \"/>\n",
       "<path style=\" stroke:none;fill-rule:nonzero;fill:rgb(26.666667%,26.666667%,26.666667%);fill-opacity:1;\" d=\"M 395.332031 186.5 L 381.140625 181.648438 L 386.703125 174.230469 L 395.332031 186.5 \"/>\n",
       "<path style=\"fill:none;stroke-width:1;stroke-linecap:butt;stroke-linejoin:miter;stroke:rgb(26.666667%,26.666667%,26.666667%);stroke-opacity:1;stroke-miterlimit:10;\" d=\"M 403.332031 192.5 L 403.332031 225.734375 \"/>\n",
       "<path style=\" stroke:none;fill-rule:nonzero;fill:rgb(26.666667%,26.666667%,26.666667%);fill-opacity:1;\" d=\"M 403.332031 240 L 398.699219 225.734375 L 407.96875 225.734375 L 403.332031 240 \"/>\n",
       "<path style=\"fill:none;stroke-width:1;stroke-linecap:butt;stroke-linejoin:miter;stroke:rgb(26.666667%,26.666667%,26.666667%);stroke-opacity:1;stroke-miterlimit:10;\" d=\"M 403.332031 250 L 403.332031 283.234375 \"/>\n",
       "<path style=\" stroke:none;fill-rule:nonzero;fill:rgb(26.666667%,26.666667%,26.666667%);fill-opacity:1;\" d=\"M 403.332031 297.5 L 398.699219 283.234375 L 407.96875 283.234375 L 403.332031 297.5 \"/>\n",
       "<path style=\"fill:none;stroke-width:1;stroke-linecap:butt;stroke-linejoin:miter;stroke:rgb(26.666667%,26.666667%,26.666667%);stroke-opacity:1;stroke-miterlimit:10;\" d=\"M 403.332031 307.5 L 403.332031 340.734375 \"/>\n",
       "<path style=\" stroke:none;fill-rule:nonzero;fill:rgb(26.666667%,26.666667%,26.666667%);fill-opacity:1;\" d=\"M 403.332031 355 L 398.699219 340.734375 L 407.96875 340.734375 L 403.332031 355 \"/>\n",
       "<path style=\"fill:none;stroke-width:1;stroke-linecap:butt;stroke-linejoin:miter;stroke:rgb(26.666667%,26.666667%,26.666667%);stroke-opacity:1;stroke-miterlimit:10;\" d=\"M 301.109375 20 L 456.898438 70.074219 \"/>\n",
       "<path style=\" stroke:none;fill-rule:nonzero;fill:rgb(26.666667%,26.666667%,26.666667%);fill-opacity:1;\" d=\"M 470.480469 74.441406 L 455.480469 74.488281 L 458.316406 65.660156 L 470.480469 74.441406 \"/>\n",
       "<path style=\"fill:none;stroke-width:1;stroke-linecap:butt;stroke-linejoin:miter;stroke:rgb(26.666667%,26.666667%,26.666667%);stroke-opacity:1;stroke-miterlimit:10;\" d=\"M 250 192.5 L 456.457031 140.886719 \"/>\n",
       "<path style=\" stroke:none;fill-rule:nonzero;fill:rgb(26.666667%,26.666667%,26.666667%);fill-opacity:1;\" d=\"M 470.296875 137.425781 L 457.582031 145.382812 L 455.335938 136.386719 L 470.296875 137.425781 \"/>\n",
       "<path style=\"fill:none;stroke-width:1;stroke-linecap:butt;stroke-linejoin:miter;stroke:rgb(26.666667%,26.666667%,26.666667%);stroke-opacity:1;stroke-miterlimit:10;\" d=\"M 403.332031 365 L 472.328125 158.019531 \"/>\n",
       "<path style=\" stroke:none;fill-rule:nonzero;fill:rgb(26.666667%,26.666667%,26.666667%);fill-opacity:1;\" d=\"M 476.835938 144.488281 L 476.722656 159.488281 L 467.929688 156.554688 L 476.835938 144.488281 \"/>\n",
       "<path style=\"fill:none;stroke-width:1;stroke-linecap:butt;stroke-linejoin:miter;stroke:rgb(26.666667%,26.666667%,26.666667%);stroke-opacity:1;stroke-miterlimit:10;\" d=\"M 480 77.5 L 480 110.734375 \"/>\n",
       "<path style=\" stroke:none;fill-rule:nonzero;fill:rgb(26.666667%,26.666667%,26.666667%);fill-opacity:1;\" d=\"M 480 125 L 475.363281 110.734375 L 484.636719 110.734375 L 480 125 \"/>\n",
       "<path style=\"fill-rule:nonzero;fill:rgb(26.7004%,0.4874%,32.9415%);fill-opacity:1;stroke-width:1;stroke-linecap:butt;stroke-linejoin:miter;stroke:rgb(0%,0%,0%);stroke-opacity:1;stroke-miterlimit:10;\" d=\"M 311.109375 20 C 311.109375 25.523438 306.632812 30 301.109375 30 C 295.589844 30 291.109375 25.523438 291.109375 20 C 291.109375 14.476562 295.589844 10 301.109375 10 C 306.632812 10 311.109375 14.476562 311.109375 20 \"/>\n",
       "<path style=\"fill-rule:nonzero;fill:rgb(17.2719%,44.8791%,55.7885%);fill-opacity:1;stroke-width:1;stroke-linecap:butt;stroke-linejoin:miter;stroke:rgb(0%,0%,0%);stroke-opacity:1;stroke-miterlimit:10;\" d=\"M 106.667969 77.5 C 106.667969 83.023438 102.191406 87.5 96.667969 87.5 C 91.144531 87.5 86.667969 83.023438 86.667969 77.5 C 86.667969 71.976562 91.144531 67.5 96.667969 67.5 C 102.191406 67.5 106.667969 71.976562 106.667969 77.5 \"/>\n",
       "<path style=\"fill-rule:nonzero;fill:rgb(16.6383%,69.0856%,49.6502%);fill-opacity:1;stroke-width:1;stroke-linecap:butt;stroke-linejoin:miter;stroke:rgb(0%,0%,0%);stroke-opacity:1;stroke-miterlimit:10;\" d=\"M 106.667969 135 C 106.667969 140.523438 102.191406 145 96.667969 145 C 91.144531 145 86.667969 140.523438 86.667969 135 C 86.667969 129.476562 91.144531 125 96.667969 125 C 102.191406 125 106.667969 129.476562 106.667969 135 \"/>\n",
       "<path style=\"fill-rule:nonzero;fill:rgb(46.8053%,81.8921%,32.3998%);fill-opacity:1;stroke-width:1;stroke-linecap:butt;stroke-linejoin:miter;stroke:rgb(0%,0%,0%);stroke-opacity:1;stroke-miterlimit:10;\" d=\"M 106.667969 192.5 C 106.667969 198.023438 102.191406 202.5 96.667969 202.5 C 91.144531 202.5 86.667969 198.023438 86.667969 192.5 C 86.667969 186.976562 91.144531 182.5 96.667969 182.5 C 102.191406 182.5 106.667969 186.976562 106.667969 192.5 \"/>\n",
       "<path style=\"fill-rule:nonzero;fill:rgb(48.7026%,82.3929%,31.2321%);fill-opacity:1;stroke-width:1;stroke-linecap:butt;stroke-linejoin:miter;stroke:rgb(0%,0%,0%);stroke-opacity:1;stroke-miterlimit:10;\" d=\"M 106.667969 250 C 106.667969 255.523438 102.191406 260 96.667969 260 C 91.144531 260 86.667969 255.523438 86.667969 250 C 86.667969 244.476562 91.144531 240 96.667969 240 C 102.191406 240 106.667969 244.476562 106.667969 250 \"/>\n",
       "<path style=\"fill-rule:nonzero;fill:rgb(22.3925%,33.4994%,54.8053%);fill-opacity:1;stroke-width:1;stroke-linecap:butt;stroke-linejoin:miter;stroke:rgb(0%,0%,0%);stroke-opacity:1;stroke-miterlimit:10;\" d=\"M 30 307.5 C 30 313.023438 25.523438 317.5 20 317.5 C 14.476562 317.5 10 313.023438 10 307.5 C 10 301.976562 14.476562 297.5 20 297.5 C 25.523438 297.5 30 301.976562 30 307.5 \"/>\n",
       "<path style=\"fill-rule:nonzero;fill:rgb(31.9809%,77.0914%,41.1152%);fill-opacity:1;stroke-width:1;stroke-linecap:butt;stroke-linejoin:miter;stroke:rgb(0%,0%,0%);stroke-opacity:1;stroke-miterlimit:10;\" d=\"M 183.332031 307.5 C 183.332031 313.023438 178.855469 317.5 173.332031 317.5 C 167.808594 317.5 163.332031 313.023438 163.332031 307.5 C 163.332031 301.976562 167.808594 297.5 173.332031 297.5 C 178.855469 297.5 183.332031 301.976562 183.332031 307.5 \"/>\n",
       "<path style=\"fill-rule:nonzero;fill:rgb(46.8053%,81.8921%,32.3998%);fill-opacity:1;stroke-width:1;stroke-linecap:butt;stroke-linejoin:miter;stroke:rgb(0%,0%,0%);stroke-opacity:1;stroke-miterlimit:10;\" d=\"M 183.332031 365 C 183.332031 370.523438 178.855469 375 173.332031 375 C 167.808594 375 163.332031 370.523438 163.332031 365 C 163.332031 359.476562 167.808594 355 173.332031 355 C 178.855469 355 183.332031 359.476562 183.332031 365 \"/>\n",
       "<path style=\"fill-rule:nonzero;fill:rgb(99.3248%,90.6157%,14.3936%);fill-opacity:1;stroke-width:1;stroke-linecap:butt;stroke-linejoin:miter;stroke:rgb(0%,0%,0%);stroke-opacity:1;stroke-miterlimit:10;\" d=\"M 183.332031 422.5 C 183.332031 428.023438 178.855469 432.5 173.332031 432.5 C 167.808594 432.5 163.332031 428.023438 163.332031 422.5 C 163.332031 416.976562 167.808594 412.5 173.332031 412.5 C 178.855469 412.5 183.332031 416.976562 183.332031 422.5 \"/>\n",
       "<path style=\"fill-rule:nonzero;fill:rgb(87.6168%,89.1125%,9.525%);fill-opacity:1;stroke-width:1;stroke-linecap:butt;stroke-linejoin:miter;stroke:rgb(0%,0%,0%);stroke-opacity:1;stroke-miterlimit:10;\" d=\"M 183.332031 480 C 183.332031 485.523438 178.855469 490 173.332031 490 C 167.808594 490 163.332031 485.523438 163.332031 480 C 163.332031 474.476562 167.808594 470 173.332031 470 C 178.855469 470 183.332031 474.476562 183.332031 480 \"/>\n",
       "<path style=\"fill-rule:nonzero;fill:rgb(28.0267%,7.3417%,39.7163%);fill-opacity:1;stroke-width:1;stroke-linecap:butt;stroke-linejoin:miter;stroke:rgb(0%,0%,0%);stroke-opacity:1;stroke-miterlimit:10;\" d=\"M 336.667969 77.5 C 336.667969 83.023438 332.191406 87.5 326.667969 87.5 C 321.144531 87.5 316.667969 83.023438 316.667969 77.5 C 316.667969 71.976562 321.144531 67.5 326.667969 67.5 C 332.191406 67.5 336.667969 71.976562 336.667969 77.5 \"/>\n",
       "<path style=\"fill-rule:nonzero;fill:rgb(32.7796%,77.398%,40.664%);fill-opacity:1;stroke-width:1;stroke-linecap:butt;stroke-linejoin:miter;stroke:rgb(0%,0%,0%);stroke-opacity:1;stroke-miterlimit:10;\" d=\"M 336.667969 135 C 336.667969 140.523438 332.191406 145 326.667969 145 C 321.144531 145 316.667969 140.523438 316.667969 135 C 316.667969 129.476562 321.144531 125 326.667969 125 C 332.191406 125 336.667969 129.476562 336.667969 135 \"/>\n",
       "<path style=\"fill-rule:nonzero;fill:rgb(27.3809%,3.1497%,35.8853%);fill-opacity:1;stroke-width:1;stroke-linecap:butt;stroke-linejoin:miter;stroke:rgb(0%,0%,0%);stroke-opacity:1;stroke-miterlimit:10;\" d=\"M 260 192.5 C 260 198.023438 255.523438 202.5 250 202.5 C 244.476562 202.5 240 198.023438 240 192.5 C 240 186.976562 244.476562 182.5 250 182.5 C 255.523438 182.5 260 186.976562 260 192.5 \"/>\n",
       "<path style=\"fill-rule:nonzero;fill:rgb(37.7779%,79.1781%,37.7939%);fill-opacity:1;stroke-width:1;stroke-linecap:butt;stroke-linejoin:miter;stroke:rgb(0%,0%,0%);stroke-opacity:1;stroke-miterlimit:10;\" d=\"M 413.332031 192.5 C 413.332031 198.023438 408.855469 202.5 403.332031 202.5 C 397.808594 202.5 393.332031 198.023438 393.332031 192.5 C 393.332031 186.976562 397.808594 182.5 403.332031 182.5 C 408.855469 182.5 413.332031 186.976562 413.332031 192.5 \"/>\n",
       "<path style=\"fill-rule:nonzero;fill:rgb(44.9368%,81.3768%,33.5384%);fill-opacity:1;stroke-width:1;stroke-linecap:butt;stroke-linejoin:miter;stroke:rgb(0%,0%,0%);stroke-opacity:1;stroke-miterlimit:10;\" d=\"M 413.332031 250 C 413.332031 255.523438 408.855469 260 403.332031 260 C 397.808594 260 393.332031 255.523438 393.332031 250 C 393.332031 244.476562 397.808594 240 403.332031 240 C 408.855469 240 413.332031 244.476562 413.332031 250 \"/>\n",
       "<path style=\"fill-rule:nonzero;fill:rgb(39.5174%,79.7475%,36.7757%);fill-opacity:1;stroke-width:1;stroke-linecap:butt;stroke-linejoin:miter;stroke:rgb(0%,0%,0%);stroke-opacity:1;stroke-miterlimit:10;\" d=\"M 413.332031 307.5 C 413.332031 313.023438 408.855469 317.5 403.332031 317.5 C 397.808594 317.5 393.332031 313.023438 393.332031 307.5 C 393.332031 301.976562 397.808594 297.5 403.332031 297.5 C 408.855469 297.5 413.332031 301.976562 413.332031 307.5 \"/>\n",
       "<path style=\"fill-rule:nonzero;fill:rgb(14.9039%,50.8051%,55.725%);fill-opacity:1;stroke-width:1;stroke-linecap:butt;stroke-linejoin:miter;stroke:rgb(0%,0%,0%);stroke-opacity:1;stroke-miterlimit:10;\" d=\"M 413.332031 365 C 413.332031 370.523438 408.855469 375 403.332031 375 C 397.808594 375 393.332031 370.523438 393.332031 365 C 393.332031 359.476562 397.808594 355 403.332031 355 C 408.855469 355 413.332031 359.476562 413.332031 365 \"/>\n",
       "<path style=\"fill-rule:nonzero;fill:rgb(27.1305%,1.9942%,34.7269%);fill-opacity:1;stroke-width:1;stroke-linecap:butt;stroke-linejoin:miter;stroke:rgb(0%,0%,0%);stroke-opacity:1;stroke-miterlimit:10;\" d=\"M 490 77.5 C 490 83.023438 485.523438 87.5 480 87.5 C 474.476562 87.5 470 83.023438 470 77.5 C 470 71.976562 474.476562 67.5 480 67.5 C 485.523438 67.5 490 71.976562 490 77.5 \"/>\n",
       "<path style=\"fill-rule:nonzero;fill:rgb(26.7004%,0.4874%,32.9415%);fill-opacity:1;stroke-width:1;stroke-linecap:butt;stroke-linejoin:miter;stroke:rgb(0%,0%,0%);stroke-opacity:1;stroke-miterlimit:10;\" d=\"M 490 135 C 490 140.523438 485.523438 145 480 145 C 474.476562 145 470 140.523438 470 135 C 470 129.476562 474.476562 125 480 125 C 485.523438 125 490 129.476562 490 135 \"/>\n",
       "<g style=\"fill:rgb(0%,0%,0%);fill-opacity:1;\">\n",
       "  <use xlink:href=\"#glyph0-1\" x=\"277.703125\" y=\"25.570312\"/>\n",
       "  <use xlink:href=\"#glyph0-2\" x=\"284.99707\" y=\"25.570312\"/>\n",
       "  <use xlink:href=\"#glyph0-3\" x=\"293.5625\" y=\"25.570312\"/>\n",
       "  <use xlink:href=\"#glyph0-4\" x=\"302.435547\" y=\"25.570312\"/>\n",
       "  <use xlink:href=\"#glyph0-5\" x=\"308.191406\" y=\"25.570312\"/>\n",
       "  <use xlink:href=\"#glyph0-6\" x=\"315.888672\" y=\"25.570312\"/>\n",
       "</g>\n",
       "<g style=\"fill:rgb(0%,0%,0%);fill-opacity:1;\">\n",
       "  <use xlink:href=\"#glyph0-7\" x=\"92.089844\" y=\"84.253906\"/>\n",
       "</g>\n",
       "<g style=\"fill:rgb(0%,0%,0%);fill-opacity:1;\">\n",
       "  <use xlink:href=\"#glyph0-8\" x=\"92.402344\" y=\"141.847656\"/>\n",
       "</g>\n",
       "<g style=\"fill:rgb(0%,0%,0%);fill-opacity:1;\">\n",
       "  <use xlink:href=\"#glyph0-9\" x=\"92.242188\" y=\"199.347656\"/>\n",
       "</g>\n",
       "<g style=\"fill:rgb(0%,0%,0%);fill-opacity:1;\">\n",
       "  <use xlink:href=\"#glyph0-10\" x=\"92.265625\" y=\"256.753906\"/>\n",
       "</g>\n",
       "<g style=\"fill:rgb(0%,0%,0%);fill-opacity:1;\">\n",
       "  <use xlink:href=\"#glyph0-11\" x=\"15.617188\" y=\"314.253906\"/>\n",
       "</g>\n",
       "<g style=\"fill:rgb(0%,0%,0%);fill-opacity:1;\">\n",
       "  <use xlink:href=\"#glyph0-12\" x=\"168.832031\" y=\"314.347656\"/>\n",
       "</g>\n",
       "<g style=\"fill:rgb(0%,0%,0%);fill-opacity:1;\">\n",
       "  <use xlink:href=\"#glyph0-13\" x=\"168.902344\" y=\"371.753906\"/>\n",
       "</g>\n",
       "<g style=\"fill:rgb(0%,0%,0%);fill-opacity:1;\">\n",
       "  <use xlink:href=\"#glyph0-14\" x=\"168.882812\" y=\"429.347656\"/>\n",
       "</g>\n",
       "<g style=\"fill:rgb(0%,0%,0%);fill-opacity:1;\">\n",
       "  <use xlink:href=\"#glyph0-15\" x=\"168.929688\" y=\"486.847656\"/>\n",
       "</g>\n",
       "<g style=\"fill:rgb(0%,0%,0%);fill-opacity:1;\">\n",
       "  <use xlink:href=\"#glyph0-7\" x=\"317.457031\" y=\"84.347656\"/>\n",
       "  <use xlink:href=\"#glyph0-16\" x=\"326.364258\" y=\"84.347656\"/>\n",
       "</g>\n",
       "<g style=\"fill:rgb(0%,0%,0%);fill-opacity:1;\">\n",
       "  <use xlink:href=\"#glyph0-7\" x=\"317.636719\" y=\"141.753906\"/>\n",
       "  <use xlink:href=\"#glyph0-7\" x=\"326.543945\" y=\"141.753906\"/>\n",
       "</g>\n",
       "<g style=\"fill:rgb(0%,0%,0%);fill-opacity:1;\">\n",
       "  <use xlink:href=\"#glyph0-7\" x=\"241.023438\" y=\"199.347656\"/>\n",
       "  <use xlink:href=\"#glyph0-8\" x=\"249.930664\" y=\"199.347656\"/>\n",
       "</g>\n",
       "<g style=\"fill:rgb(0%,0%,0%);fill-opacity:1;\">\n",
       "  <use xlink:href=\"#glyph0-7\" x=\"394.21875\" y=\"199.347656\"/>\n",
       "  <use xlink:href=\"#glyph0-9\" x=\"403.125977\" y=\"199.347656\"/>\n",
       "</g>\n",
       "<g style=\"fill:rgb(0%,0%,0%);fill-opacity:1;\">\n",
       "  <use xlink:href=\"#glyph0-7\" x=\"394.050781\" y=\"256.753906\"/>\n",
       "  <use xlink:href=\"#glyph0-10\" x=\"402.958008\" y=\"256.753906\"/>\n",
       "</g>\n",
       "<g style=\"fill:rgb(0%,0%,0%);fill-opacity:1;\">\n",
       "  <use xlink:href=\"#glyph0-7\" x=\"394.269531\" y=\"314.253906\"/>\n",
       "  <use xlink:href=\"#glyph0-11\" x=\"403.176758\" y=\"314.253906\"/>\n",
       "</g>\n",
       "<g style=\"fill:rgb(0%,0%,0%);fill-opacity:1;\">\n",
       "  <use xlink:href=\"#glyph0-7\" x=\"394.097656\" y=\"371.847656\"/>\n",
       "  <use xlink:href=\"#glyph0-12\" x=\"403.004883\" y=\"371.847656\"/>\n",
       "</g>\n",
       "<g style=\"fill:rgb(0%,0%,0%);fill-opacity:1;\">\n",
       "  <use xlink:href=\"#glyph0-7\" x=\"470.921875\" y=\"84.253906\"/>\n",
       "  <use xlink:href=\"#glyph0-13\" x=\"479.829102\" y=\"84.253906\"/>\n",
       "</g>\n",
       "<g style=\"fill:rgb(0%,0%,0%);fill-opacity:1;\">\n",
       "  <use xlink:href=\"#glyph0-17\" x=\"464.308594\" y=\"141.96875\"/>\n",
       "  <use xlink:href=\"#glyph0-18\" x=\"469.797852\" y=\"141.96875\"/>\n",
       "  <use xlink:href=\"#glyph0-19\" x=\"478.376953\" y=\"141.96875\"/>\n",
       "  <use xlink:href=\"#glyph0-20\" x=\"487.25\" y=\"141.96875\"/>\n",
       "</g>\n",
       "</g>\n",
       "</svg>\n"
      ],
      "text/plain": [
       "<igraph.drawing.Plot at 0x7f9e13d03590>"
      ]
     },
     "execution_count": 62,
     "metadata": {
      "image/svg+xml": {
       "isolated": true
      }
     },
     "output_type": "execute_result"
    }
   ],
   "source": [
    "g.vs[\"label\"] = g.vs[\"name\"]\n",
    "g.vs[\"color\"] = [viridis_cmap(scaled_coverage(xx)) for xx in g.vs['coverage']]\n",
    "igraph.plot(g, layout = layout, bbox = (500, 500), margin = 20)"
   ]
  },
  {
   "cell_type": "markdown",
   "metadata": {},
   "source": [
    "Note that,  we are simply re-using the previous layout object here, but we also specified that we need:\n",
    "* a **smaller plot** (`300 x 300 pixels`) \n",
    "* a **larger margin** around the graph to fit the labels (`20 pixels`)."
   ]
  },
  {
   "cell_type": "markdown",
   "metadata": {},
   "source": [
    "Instead of specifying the **visual properties** as vertex and edge attributes, you can also give them as keyword arguments to `plot()`:"
   ]
  },
  {
   "cell_type": "code",
   "execution_count": 63,
   "metadata": {},
   "outputs": [],
   "source": [
    "#igraph.plot(g, layout = layout, vertex_color = [viridis_cmap(scaled_coverage(xx)) for xx in g.vs['coverage']])"
   ]
  },
  {
   "cell_type": "markdown",
   "metadata": {},
   "source": [
    "This latter approach is preferred if you want to keep the *properties of the visual representation* of your graph separate from the *graph itself*.\n",
    "\n",
    "You can simply set up a Python dictionary containing the keyword arguments you would pass to plot() and then use the **double asterisk** (`**`) operator to pass your specific styling attributes to `plot()`:"
   ]
  },
  {
   "cell_type": "code",
   "execution_count": 67,
   "metadata": {},
   "outputs": [
    {
     "data": {
      "image/svg+xml": [
       "<?xml version=\"1.0\" encoding=\"UTF-8\"?>\n",
       "<svg xmlns=\"http://www.w3.org/2000/svg\" xmlns:xlink=\"http://www.w3.org/1999/xlink\" width=\"850pt\" height=\"100pt\" viewBox=\"0 0 850 100\" version=\"1.1\">\n",
       "<defs>\n",
       "<g>\n",
       "<symbol overflow=\"visible\" id=\"glyph0-0\">\n",
       "<path style=\"stroke:none;\" d=\"M 0.703125 2.46875 L 0.703125 -9.875 L 7.703125 -9.875 L 7.703125 2.46875 Z M 1.484375 1.703125 L 6.921875 1.703125 L 6.921875 -9.078125 L 1.484375 -9.078125 Z M 1.484375 1.703125 \"/>\n",
       "</symbol>\n",
       "<symbol overflow=\"visible\" id=\"glyph0-1\">\n",
       "<path style=\"stroke:none;\" d=\"M 6.203125 -7.4375 L 6.203125 -6.234375 C 5.847656 -6.421875 5.476562 -6.554688 5.09375 -6.640625 C 4.707031 -6.734375 4.3125 -6.78125 3.90625 -6.78125 C 3.28125 -6.78125 2.8125 -6.6875 2.5 -6.5 C 2.1875 -6.3125 2.03125 -6.023438 2.03125 -5.640625 C 2.03125 -5.347656 2.140625 -5.117188 2.359375 -4.953125 C 2.585938 -4.785156 3.039062 -4.628906 3.71875 -4.484375 L 4.140625 -4.375 C 5.035156 -4.1875 5.671875 -3.914062 6.046875 -3.5625 C 6.421875 -3.21875 6.609375 -2.734375 6.609375 -2.109375 C 6.609375 -1.398438 6.328125 -0.835938 5.765625 -0.421875 C 5.203125 -0.00390625 4.429688 0.203125 3.453125 0.203125 C 3.035156 0.203125 2.601562 0.160156 2.15625 0.078125 C 1.71875 -0.00390625 1.253906 -0.125 0.765625 -0.28125 L 0.765625 -1.578125 C 1.222656 -1.335938 1.675781 -1.15625 2.125 -1.03125 C 2.582031 -0.914062 3.03125 -0.859375 3.46875 -0.859375 C 4.0625 -0.859375 4.515625 -0.957031 4.828125 -1.15625 C 5.148438 -1.363281 5.3125 -1.648438 5.3125 -2.015625 C 5.3125 -2.359375 5.195312 -2.617188 4.96875 -2.796875 C 4.738281 -2.984375 4.234375 -3.160156 3.453125 -3.328125 L 3.015625 -3.4375 C 2.242188 -3.59375 1.679688 -3.84375 1.328125 -4.1875 C 0.984375 -4.53125 0.8125 -4.992188 0.8125 -5.578125 C 0.8125 -6.304688 1.066406 -6.863281 1.578125 -7.25 C 2.085938 -7.644531 2.8125 -7.84375 3.75 -7.84375 C 4.21875 -7.84375 4.65625 -7.804688 5.0625 -7.734375 C 5.476562 -7.671875 5.859375 -7.570312 6.203125 -7.4375 Z M 6.203125 -7.4375 \"/>\n",
       "</symbol>\n",
       "<symbol overflow=\"visible\" id=\"glyph0-2\">\n",
       "<path style=\"stroke:none;\" d=\"M 4.28125 -6.78125 C 3.613281 -6.78125 3.082031 -6.515625 2.6875 -5.984375 C 2.289062 -5.460938 2.09375 -4.742188 2.09375 -3.828125 C 2.09375 -2.910156 2.285156 -2.1875 2.671875 -1.65625 C 3.066406 -1.132812 3.601562 -0.875 4.28125 -0.875 C 4.957031 -0.875 5.488281 -1.132812 5.875 -1.65625 C 6.269531 -2.1875 6.46875 -2.910156 6.46875 -3.828125 C 6.46875 -4.734375 6.269531 -5.453125 5.875 -5.984375 C 5.488281 -6.515625 4.957031 -6.78125 4.28125 -6.78125 Z M 4.28125 -7.84375 C 5.375 -7.84375 6.234375 -7.484375 6.859375 -6.765625 C 7.484375 -6.054688 7.796875 -5.078125 7.796875 -3.828125 C 7.796875 -2.566406 7.484375 -1.578125 6.859375 -0.859375 C 6.234375 -0.148438 5.375 0.203125 4.28125 0.203125 C 3.1875 0.203125 2.328125 -0.148438 1.703125 -0.859375 C 1.078125 -1.578125 0.765625 -2.566406 0.765625 -3.828125 C 0.765625 -5.078125 1.078125 -6.054688 1.703125 -6.765625 C 2.328125 -7.484375 3.1875 -7.84375 4.28125 -7.84375 Z M 4.28125 -7.84375 \"/>\n",
       "</symbol>\n",
       "<symbol overflow=\"visible\" id=\"glyph0-3\">\n",
       "<path style=\"stroke:none;\" d=\"M 1.1875 -3.015625 L 1.1875 -7.65625 L 2.453125 -7.65625 L 2.453125 -3.0625 C 2.453125 -2.34375 2.59375 -1.800781 2.875 -1.4375 C 3.15625 -1.070312 3.578125 -0.890625 4.140625 -0.890625 C 4.816406 -0.890625 5.351562 -1.101562 5.75 -1.53125 C 6.144531 -1.96875 6.34375 -2.5625 6.34375 -3.3125 L 6.34375 -7.65625 L 7.609375 -7.65625 L 7.609375 0 L 6.34375 0 L 6.34375 -1.171875 C 6.039062 -0.710938 5.6875 -0.367188 5.28125 -0.140625 C 4.875 0.0859375 4.40625 0.203125 3.875 0.203125 C 3 0.203125 2.332031 -0.0664062 1.875 -0.609375 C 1.414062 -1.160156 1.1875 -1.960938 1.1875 -3.015625 Z M 4.359375 -7.84375 Z M 4.359375 -7.84375 \"/>\n",
       "</symbol>\n",
       "<symbol overflow=\"visible\" id=\"glyph0-4\">\n",
       "<path style=\"stroke:none;\" d=\"M 5.75 -6.484375 C 5.613281 -6.566406 5.460938 -6.625 5.296875 -6.65625 C 5.128906 -6.695312 4.945312 -6.71875 4.75 -6.71875 C 4.03125 -6.71875 3.476562 -6.484375 3.09375 -6.015625 C 2.71875 -5.554688 2.53125 -4.894531 2.53125 -4.03125 L 2.53125 0 L 1.265625 0 L 1.265625 -7.65625 L 2.53125 -7.65625 L 2.53125 -6.46875 C 2.800781 -6.9375 3.144531 -7.28125 3.5625 -7.5 C 3.988281 -7.726562 4.503906 -7.84375 5.109375 -7.84375 C 5.203125 -7.84375 5.300781 -7.835938 5.40625 -7.828125 C 5.507812 -7.816406 5.625 -7.796875 5.75 -7.765625 Z M 5.75 -6.484375 \"/>\n",
       "</symbol>\n",
       "<symbol overflow=\"visible\" id=\"glyph0-5\">\n",
       "<path style=\"stroke:none;\" d=\"M 6.828125 -7.359375 L 6.828125 -6.1875 C 6.472656 -6.382812 6.113281 -6.53125 5.75 -6.625 C 5.394531 -6.726562 5.035156 -6.78125 4.671875 -6.78125 C 3.859375 -6.78125 3.222656 -6.519531 2.765625 -6 C 2.316406 -5.476562 2.09375 -4.753906 2.09375 -3.828125 C 2.09375 -2.890625 2.316406 -2.160156 2.765625 -1.640625 C 3.222656 -1.128906 3.859375 -0.875 4.671875 -0.875 C 5.035156 -0.875 5.394531 -0.921875 5.75 -1.015625 C 6.113281 -1.109375 6.472656 -1.253906 6.828125 -1.453125 L 6.828125 -0.296875 C 6.472656 -0.128906 6.109375 -0.00390625 5.734375 0.078125 C 5.359375 0.160156 4.960938 0.203125 4.546875 0.203125 C 3.390625 0.203125 2.46875 -0.15625 1.78125 -0.875 C 1.101562 -1.601562 0.765625 -2.585938 0.765625 -3.828125 C 0.765625 -5.066406 1.109375 -6.046875 1.796875 -6.765625 C 2.484375 -7.484375 3.425781 -7.84375 4.625 -7.84375 C 5.007812 -7.84375 5.382812 -7.800781 5.75 -7.71875 C 6.125 -7.644531 6.484375 -7.523438 6.828125 -7.359375 Z M 6.828125 -7.359375 \"/>\n",
       "</symbol>\n",
       "<symbol overflow=\"visible\" id=\"glyph0-6\">\n",
       "<path style=\"stroke:none;\" d=\"M 7.875 -4.140625 L 7.875 -3.53125 L 2.078125 -3.53125 C 2.140625 -2.664062 2.398438 -2.003906 2.859375 -1.546875 C 3.328125 -1.097656 3.976562 -0.875 4.8125 -0.875 C 5.300781 -0.875 5.769531 -0.929688 6.21875 -1.046875 C 6.675781 -1.160156 7.128906 -1.335938 7.578125 -1.578125 L 7.578125 -0.390625 C 7.117188 -0.203125 6.648438 -0.0546875 6.171875 0.046875 C 5.703125 0.148438 5.226562 0.203125 4.75 0.203125 C 3.519531 0.203125 2.546875 -0.148438 1.828125 -0.859375 C 1.117188 -1.578125 0.765625 -2.539062 0.765625 -3.75 C 0.765625 -5.007812 1.101562 -6.003906 1.78125 -6.734375 C 2.457031 -7.472656 3.375 -7.84375 4.53125 -7.84375 C 5.5625 -7.84375 6.375 -7.507812 6.96875 -6.84375 C 7.570312 -6.1875 7.875 -5.285156 7.875 -4.140625 Z M 6.609375 -4.515625 C 6.597656 -5.203125 6.40625 -5.75 6.03125 -6.15625 C 5.65625 -6.570312 5.160156 -6.78125 4.546875 -6.78125 C 3.835938 -6.78125 3.269531 -6.578125 2.84375 -6.171875 C 2.425781 -5.773438 2.1875 -5.21875 2.125 -4.5 Z M 6.609375 -4.515625 \"/>\n",
       "</symbol>\n",
       "<symbol overflow=\"visible\" id=\"glyph0-7\">\n",
       "<path style=\"stroke:none;\" d=\"M 1.734375 -1.15625 L 4 -1.15625 L 4 -8.953125 L 1.53125 -8.453125 L 1.53125 -9.71875 L 3.984375 -10.203125 L 5.359375 -10.203125 L 5.359375 -1.15625 L 7.609375 -1.15625 L 7.609375 0 L 1.734375 0 Z M 1.734375 -1.15625 \"/>\n",
       "</symbol>\n",
       "<symbol overflow=\"visible\" id=\"glyph0-8\">\n",
       "<path style=\"stroke:none;\" d=\"M 2.6875 -1.15625 L 7.5 -1.15625 L 7.5 0 L 1.03125 0 L 1.03125 -1.15625 C 1.550781 -1.695312 2.265625 -2.425781 3.171875 -3.34375 C 4.078125 -4.257812 4.644531 -4.847656 4.875 -5.109375 C 5.3125 -5.609375 5.617188 -6.03125 5.796875 -6.375 C 5.972656 -6.71875 6.0625 -7.054688 6.0625 -7.390625 C 6.0625 -7.929688 5.867188 -8.375 5.484375 -8.71875 C 5.109375 -9.0625 4.613281 -9.234375 4 -9.234375 C 3.570312 -9.234375 3.117188 -9.15625 2.640625 -9 C 2.160156 -8.851562 1.644531 -8.625 1.09375 -8.3125 L 1.09375 -9.71875 C 1.644531 -9.9375 2.160156 -10.101562 2.640625 -10.21875 C 3.128906 -10.332031 3.578125 -10.390625 3.984375 -10.390625 C 5.035156 -10.390625 5.875 -10.125 6.5 -9.59375 C 7.132812 -9.070312 7.453125 -8.367188 7.453125 -7.484375 C 7.453125 -7.054688 7.375 -6.65625 7.21875 -6.28125 C 7.0625 -5.90625 6.773438 -5.460938 6.359375 -4.953125 C 6.242188 -4.828125 5.878906 -4.445312 5.265625 -3.8125 C 4.660156 -3.175781 3.800781 -2.289062 2.6875 -1.15625 Z M 2.6875 -1.15625 \"/>\n",
       "</symbol>\n",
       "<symbol overflow=\"visible\" id=\"glyph0-9\">\n",
       "<path style=\"stroke:none;\" d=\"M 5.6875 -5.5 C 6.34375 -5.363281 6.851562 -5.070312 7.21875 -4.625 C 7.59375 -4.175781 7.78125 -3.625 7.78125 -2.96875 C 7.78125 -1.957031 7.429688 -1.175781 6.734375 -0.625 C 6.046875 -0.0703125 5.066406 0.203125 3.796875 0.203125 C 3.367188 0.203125 2.925781 0.15625 2.46875 0.0625 C 2.019531 -0.0195312 1.550781 -0.144531 1.0625 -0.3125 L 1.0625 -1.640625 C 1.445312 -1.421875 1.867188 -1.253906 2.328125 -1.140625 C 2.785156 -1.023438 3.257812 -0.96875 3.75 -0.96875 C 4.613281 -0.96875 5.269531 -1.132812 5.71875 -1.46875 C 6.175781 -1.8125 6.40625 -2.3125 6.40625 -2.96875 C 6.40625 -3.570312 6.191406 -4.039062 5.765625 -4.375 C 5.347656 -4.71875 4.765625 -4.890625 4.015625 -4.890625 L 2.828125 -4.890625 L 2.828125 -6.015625 L 4.078125 -6.015625 C 4.753906 -6.015625 5.269531 -6.148438 5.625 -6.421875 C 5.988281 -6.703125 6.171875 -7.097656 6.171875 -7.609375 C 6.171875 -8.128906 5.984375 -8.53125 5.609375 -8.8125 C 5.242188 -9.09375 4.710938 -9.234375 4.015625 -9.234375 C 3.640625 -9.234375 3.234375 -9.191406 2.796875 -9.109375 C 2.367188 -9.023438 1.894531 -8.894531 1.375 -8.71875 L 1.375 -9.953125 C 1.894531 -10.097656 2.382812 -10.207031 2.84375 -10.28125 C 3.300781 -10.351562 3.734375 -10.390625 4.140625 -10.390625 C 5.191406 -10.390625 6.019531 -10.148438 6.625 -9.671875 C 7.238281 -9.203125 7.546875 -8.5625 7.546875 -7.75 C 7.546875 -7.175781 7.382812 -6.695312 7.0625 -6.3125 C 6.738281 -5.925781 6.28125 -5.65625 5.6875 -5.5 Z M 5.6875 -5.5 \"/>\n",
       "</symbol>\n",
       "<symbol overflow=\"visible\" id=\"glyph0-10\">\n",
       "<path style=\"stroke:none;\" d=\"M 5.296875 -9 L 1.8125 -3.5625 L 5.296875 -3.5625 Z M 4.921875 -10.203125 L 6.671875 -10.203125 L 6.671875 -3.5625 L 8.125 -3.5625 L 8.125 -2.40625 L 6.671875 -2.40625 L 6.671875 0 L 5.296875 0 L 5.296875 -2.40625 L 0.6875 -2.40625 L 0.6875 -3.734375 Z M 4.921875 -10.203125 \"/>\n",
       "</symbol>\n",
       "<symbol overflow=\"visible\" id=\"glyph0-11\">\n",
       "<path style=\"stroke:none;\" d=\"M 1.515625 -10.203125 L 6.9375 -10.203125 L 6.9375 -9.046875 L 2.78125 -9.046875 L 2.78125 -6.546875 C 2.976562 -6.609375 3.175781 -6.65625 3.375 -6.6875 C 3.570312 -6.726562 3.773438 -6.75 3.984375 -6.75 C 5.117188 -6.75 6.019531 -6.4375 6.6875 -5.8125 C 7.351562 -5.1875 7.6875 -4.34375 7.6875 -3.28125 C 7.6875 -2.175781 7.34375 -1.316406 6.65625 -0.703125 C 5.976562 -0.0976562 5.015625 0.203125 3.765625 0.203125 C 3.335938 0.203125 2.898438 0.164062 2.453125 0.09375 C 2.015625 0.0195312 1.554688 -0.0859375 1.078125 -0.234375 L 1.078125 -1.625 C 1.492188 -1.40625 1.921875 -1.238281 2.359375 -1.125 C 2.796875 -1.019531 3.253906 -0.96875 3.734375 -0.96875 C 4.523438 -0.96875 5.148438 -1.171875 5.609375 -1.578125 C 6.066406 -1.992188 6.296875 -2.5625 6.296875 -3.28125 C 6.296875 -3.988281 6.066406 -4.546875 5.609375 -4.953125 C 5.148438 -5.367188 4.523438 -5.578125 3.734375 -5.578125 C 3.367188 -5.578125 3 -5.535156 2.625 -5.453125 C 2.257812 -5.378906 1.890625 -5.253906 1.515625 -5.078125 Z M 1.515625 -10.203125 \"/>\n",
       "</symbol>\n",
       "<symbol overflow=\"visible\" id=\"glyph0-12\">\n",
       "<path style=\"stroke:none;\" d=\"M 4.625 -5.65625 C 4 -5.65625 3.503906 -5.441406 3.140625 -5.015625 C 2.785156 -4.585938 2.609375 -4.007812 2.609375 -3.28125 C 2.609375 -2.539062 2.785156 -1.957031 3.140625 -1.53125 C 3.503906 -1.101562 4 -0.890625 4.625 -0.890625 C 5.238281 -0.890625 5.726562 -1.101562 6.09375 -1.53125 C 6.457031 -1.957031 6.640625 -2.539062 6.640625 -3.28125 C 6.640625 -4.007812 6.457031 -4.585938 6.09375 -5.015625 C 5.726562 -5.441406 5.238281 -5.65625 4.625 -5.65625 Z M 7.359375 -9.984375 L 7.359375 -8.71875 C 7.015625 -8.882812 6.664062 -9.007812 6.3125 -9.09375 C 5.957031 -9.1875 5.609375 -9.234375 5.265625 -9.234375 C 4.347656 -9.234375 3.648438 -8.925781 3.171875 -8.3125 C 2.691406 -7.695312 2.421875 -6.765625 2.359375 -5.515625 C 2.617188 -5.910156 2.953125 -6.210938 3.359375 -6.421875 C 3.765625 -6.640625 4.210938 -6.75 4.703125 -6.75 C 5.722656 -6.75 6.53125 -6.4375 7.125 -5.8125 C 7.726562 -5.1875 8.03125 -4.34375 8.03125 -3.28125 C 8.03125 -2.226562 7.71875 -1.382812 7.09375 -0.75 C 6.476562 -0.113281 5.65625 0.203125 4.625 0.203125 C 3.4375 0.203125 2.53125 -0.25 1.90625 -1.15625 C 1.289062 -2.0625 0.984375 -3.375 0.984375 -5.09375 C 0.984375 -6.707031 1.363281 -7.992188 2.125 -8.953125 C 2.894531 -9.910156 3.921875 -10.390625 5.203125 -10.390625 C 5.554688 -10.390625 5.90625 -10.351562 6.25 -10.28125 C 6.601562 -10.21875 6.972656 -10.117188 7.359375 -9.984375 Z M 7.359375 -9.984375 \"/>\n",
       "</symbol>\n",
       "<symbol overflow=\"visible\" id=\"glyph0-13\">\n",
       "<path style=\"stroke:none;\" d=\"M 1.15625 -10.203125 L 7.71875 -10.203125 L 7.71875 -9.625 L 4 0 L 2.5625 0 L 6.046875 -9.046875 L 1.15625 -9.046875 Z M 1.15625 -10.203125 \"/>\n",
       "</symbol>\n",
       "<symbol overflow=\"visible\" id=\"glyph0-14\">\n",
       "<path style=\"stroke:none;\" d=\"M 4.453125 -4.84375 C 3.796875 -4.84375 3.28125 -4.664062 2.90625 -4.3125 C 2.53125 -3.96875 2.34375 -3.488281 2.34375 -2.875 C 2.34375 -2.257812 2.53125 -1.773438 2.90625 -1.421875 C 3.28125 -1.066406 3.796875 -0.890625 4.453125 -0.890625 C 5.109375 -0.890625 5.625 -1.066406 6 -1.421875 C 6.375 -1.773438 6.5625 -2.257812 6.5625 -2.875 C 6.5625 -3.488281 6.375 -3.96875 6 -4.3125 C 5.625 -4.664062 5.109375 -4.84375 4.453125 -4.84375 Z M 3.0625 -5.4375 C 2.476562 -5.582031 2.019531 -5.859375 1.6875 -6.265625 C 1.351562 -6.671875 1.1875 -7.164062 1.1875 -7.75 C 1.1875 -8.5625 1.476562 -9.203125 2.0625 -9.671875 C 2.644531 -10.148438 3.441406 -10.390625 4.453125 -10.390625 C 5.460938 -10.390625 6.257812 -10.148438 6.84375 -9.671875 C 7.425781 -9.203125 7.71875 -8.5625 7.71875 -7.75 C 7.71875 -7.164062 7.550781 -6.671875 7.21875 -6.265625 C 6.882812 -5.859375 6.425781 -5.582031 5.84375 -5.4375 C 6.507812 -5.28125 7.023438 -4.972656 7.390625 -4.515625 C 7.765625 -4.066406 7.953125 -3.519531 7.953125 -2.875 C 7.953125 -1.882812 7.648438 -1.125 7.046875 -0.59375 C 6.441406 -0.0625 5.578125 0.203125 4.453125 0.203125 C 3.328125 0.203125 2.460938 -0.0625 1.859375 -0.59375 C 1.253906 -1.125 0.953125 -1.882812 0.953125 -2.875 C 0.953125 -3.519531 1.140625 -4.066406 1.515625 -4.515625 C 1.890625 -4.972656 2.40625 -5.28125 3.0625 -5.4375 Z M 2.5625 -7.609375 C 2.5625 -7.085938 2.726562 -6.675781 3.0625 -6.375 C 3.394531 -6.082031 3.859375 -5.9375 4.453125 -5.9375 C 5.046875 -5.9375 5.507812 -6.082031 5.84375 -6.375 C 6.175781 -6.675781 6.34375 -7.085938 6.34375 -7.609375 C 6.34375 -8.140625 6.175781 -8.550781 5.84375 -8.84375 C 5.507812 -9.144531 5.046875 -9.296875 4.453125 -9.296875 C 3.859375 -9.296875 3.394531 -9.144531 3.0625 -8.84375 C 2.726562 -8.550781 2.5625 -8.140625 2.5625 -7.609375 Z M 2.5625 -7.609375 \"/>\n",
       "</symbol>\n",
       "<symbol overflow=\"visible\" id=\"glyph0-15\">\n",
       "<path style=\"stroke:none;\" d=\"M 1.53125 -0.21875 L 1.53125 -1.46875 C 1.882812 -1.300781 2.238281 -1.175781 2.59375 -1.09375 C 2.945312 -1.007812 3.296875 -0.96875 3.640625 -0.96875 C 4.546875 -0.96875 5.238281 -1.269531 5.71875 -1.875 C 6.207031 -2.488281 6.484375 -3.421875 6.546875 -4.671875 C 6.285156 -4.285156 5.953125 -3.984375 5.546875 -3.765625 C 5.140625 -3.554688 4.691406 -3.453125 4.203125 -3.453125 C 3.179688 -3.453125 2.367188 -3.757812 1.765625 -4.375 C 1.171875 -5 0.875 -5.847656 0.875 -6.921875 C 0.875 -7.960938 1.179688 -8.800781 1.796875 -9.4375 C 2.421875 -10.070312 3.25 -10.390625 4.28125 -10.390625 C 5.46875 -10.390625 6.367188 -9.9375 6.984375 -9.03125 C 7.609375 -8.125 7.921875 -6.8125 7.921875 -5.09375 C 7.921875 -3.488281 7.539062 -2.203125 6.78125 -1.234375 C 6.019531 -0.273438 4.992188 0.203125 3.703125 0.203125 C 3.347656 0.203125 2.992188 0.164062 2.640625 0.09375 C 2.285156 0.03125 1.914062 -0.0703125 1.53125 -0.21875 Z M 4.28125 -4.546875 C 4.90625 -4.546875 5.394531 -4.753906 5.75 -5.171875 C 6.113281 -5.597656 6.296875 -6.179688 6.296875 -6.921875 C 6.296875 -7.648438 6.113281 -8.226562 5.75 -8.65625 C 5.394531 -9.082031 4.90625 -9.296875 4.28125 -9.296875 C 3.664062 -9.296875 3.175781 -9.082031 2.8125 -8.65625 C 2.445312 -8.226562 2.265625 -7.648438 2.265625 -6.921875 C 2.265625 -6.179688 2.445312 -5.597656 2.8125 -5.171875 C 3.175781 -4.753906 3.664062 -4.546875 4.28125 -4.546875 Z M 4.28125 -4.546875 \"/>\n",
       "</symbol>\n",
       "<symbol overflow=\"visible\" id=\"glyph0-16\">\n",
       "<path style=\"stroke:none;\" d=\"M 4.453125 -9.296875 C 3.742188 -9.296875 3.207031 -8.945312 2.84375 -8.25 C 2.488281 -7.550781 2.3125 -6.5 2.3125 -5.09375 C 2.3125 -3.695312 2.488281 -2.644531 2.84375 -1.9375 C 3.207031 -1.238281 3.742188 -0.890625 4.453125 -0.890625 C 5.171875 -0.890625 5.707031 -1.238281 6.0625 -1.9375 C 6.414062 -2.644531 6.59375 -3.695312 6.59375 -5.09375 C 6.59375 -6.5 6.414062 -7.550781 6.0625 -8.25 C 5.707031 -8.945312 5.171875 -9.296875 4.453125 -9.296875 Z M 4.453125 -10.390625 C 5.597656 -10.390625 6.472656 -9.9375 7.078125 -9.03125 C 7.679688 -8.125 7.984375 -6.8125 7.984375 -5.09375 C 7.984375 -3.375 7.679688 -2.0625 7.078125 -1.15625 C 6.472656 -0.25 5.597656 0.203125 4.453125 0.203125 C 3.304688 0.203125 2.429688 -0.25 1.828125 -1.15625 C 1.222656 -2.0625 0.921875 -3.375 0.921875 -5.09375 C 0.921875 -6.8125 1.222656 -8.125 1.828125 -9.03125 C 2.429688 -9.9375 3.304688 -10.390625 4.453125 -10.390625 Z M 4.453125 -10.390625 \"/>\n",
       "</symbol>\n",
       "<symbol overflow=\"visible\" id=\"glyph0-17\">\n",
       "<path style=\"stroke:none;\" d=\"M 2.5625 -9.828125 L 2.5625 -7.65625 L 5.15625 -7.65625 L 5.15625 -6.671875 L 2.5625 -6.671875 L 2.5625 -2.515625 C 2.5625 -1.898438 2.644531 -1.5 2.8125 -1.3125 C 2.988281 -1.132812 3.335938 -1.046875 3.859375 -1.046875 L 5.15625 -1.046875 L 5.15625 0 L 3.859375 0 C 2.890625 0 2.21875 -0.179688 1.84375 -0.546875 C 1.476562 -0.910156 1.296875 -1.566406 1.296875 -2.515625 L 1.296875 -6.671875 L 0.375 -6.671875 L 0.375 -7.65625 L 1.296875 -7.65625 L 1.296875 -9.828125 Z M 2.5625 -9.828125 \"/>\n",
       "</symbol>\n",
       "<symbol overflow=\"visible\" id=\"glyph0-18\">\n",
       "<path style=\"stroke:none;\" d=\"M 4.796875 -3.84375 C 3.785156 -3.84375 3.082031 -3.726562 2.6875 -3.5 C 2.289062 -3.269531 2.09375 -2.875 2.09375 -2.3125 C 2.09375 -1.863281 2.238281 -1.507812 2.53125 -1.25 C 2.832031 -0.988281 3.234375 -0.859375 3.734375 -0.859375 C 4.429688 -0.859375 4.988281 -1.101562 5.40625 -1.59375 C 5.832031 -2.09375 6.046875 -2.75 6.046875 -3.5625 L 6.046875 -3.84375 Z M 7.3125 -4.375 L 7.3125 0 L 6.046875 0 L 6.046875 -1.15625 C 5.765625 -0.695312 5.40625 -0.351562 4.96875 -0.125 C 4.539062 0.09375 4.019531 0.203125 3.40625 0.203125 C 2.625 0.203125 2 -0.015625 1.53125 -0.453125 C 1.070312 -0.898438 0.84375 -1.492188 0.84375 -2.234375 C 0.84375 -3.085938 1.128906 -3.734375 1.703125 -4.171875 C 2.285156 -4.609375 3.144531 -4.828125 4.28125 -4.828125 L 6.046875 -4.828125 L 6.046875 -4.953125 C 6.046875 -5.535156 5.851562 -5.984375 5.46875 -6.296875 C 5.09375 -6.617188 4.5625 -6.78125 3.875 -6.78125 C 3.4375 -6.78125 3.007812 -6.722656 2.59375 -6.609375 C 2.175781 -6.503906 1.78125 -6.347656 1.40625 -6.140625 L 1.40625 -7.3125 C 1.863281 -7.488281 2.304688 -7.617188 2.734375 -7.703125 C 3.171875 -7.796875 3.59375 -7.84375 4 -7.84375 C 5.113281 -7.84375 5.941406 -7.554688 6.484375 -6.984375 C 7.035156 -6.410156 7.3125 -5.539062 7.3125 -4.375 Z M 7.3125 -4.375 \"/>\n",
       "</symbol>\n",
       "<symbol overflow=\"visible\" id=\"glyph0-19\">\n",
       "<path style=\"stroke:none;\" d=\"M 7.6875 -4.625 L 7.6875 0 L 6.421875 0 L 6.421875 -4.578125 C 6.421875 -5.304688 6.28125 -5.847656 6 -6.203125 C 5.71875 -6.566406 5.296875 -6.75 4.734375 -6.75 C 4.054688 -6.75 3.519531 -6.53125 3.125 -6.09375 C 2.726562 -5.664062 2.53125 -5.078125 2.53125 -4.328125 L 2.53125 0 L 1.265625 0 L 1.265625 -7.65625 L 2.53125 -7.65625 L 2.53125 -6.46875 C 2.832031 -6.925781 3.1875 -7.269531 3.59375 -7.5 C 4.007812 -7.726562 4.484375 -7.84375 5.015625 -7.84375 C 5.890625 -7.84375 6.550781 -7.566406 7 -7.015625 C 7.457031 -6.472656 7.6875 -5.675781 7.6875 -4.625 Z M 7.6875 -4.625 \"/>\n",
       "</symbol>\n",
       "<symbol overflow=\"visible\" id=\"glyph0-20\">\n",
       "<path style=\"stroke:none;\" d=\"M 1.265625 -10.640625 L 2.53125 -10.640625 L 2.53125 -4.359375 L 6.296875 -7.65625 L 7.890625 -7.65625 L 3.828125 -4.078125 L 8.0625 0 L 6.421875 0 L 2.53125 -3.734375 L 2.53125 0 L 1.265625 0 Z M 1.265625 -10.640625 \"/>\n",
       "</symbol>\n",
       "</g>\n",
       "</defs>\n",
       "<g id=\"surface20\">\n",
       "<rect x=\"0\" y=\"0\" width=\"850\" height=\"100\" style=\"fill:rgb(100%,100%,100%);fill-opacity:1;stroke:none;\"/>\n",
       "<path style=\"fill:none;stroke-width:2;stroke-linecap:butt;stroke-linejoin:miter;stroke:rgb(26.666667%,26.666667%,26.666667%);stroke-opacity:1;stroke-miterlimit:10;\" d=\"M 20 20 L 66.167969 20 \"/>\n",
       "<path style=\" stroke:none;fill-rule:nonzero;fill:rgb(26.666667%,26.666667%,26.666667%);fill-opacity:1;\" d=\"M 80.433594 20 L 66.167969 24.636719 L 66.167969 15.363281 L 80.433594 20 \"/>\n",
       "<path style=\"fill:none;stroke-width:1;stroke-linecap:butt;stroke-linejoin:miter;stroke:rgb(26.666667%,26.666667%,26.666667%);stroke-opacity:1;stroke-miterlimit:10;\" d=\"M 90.433594 20 L 118.035156 20 \"/>\n",
       "<path style=\" stroke:none;fill-rule:nonzero;fill:rgb(26.666667%,26.666667%,26.666667%);fill-opacity:1;\" d=\"M 132.300781 20 L 118.035156 24.636719 L 118.035156 15.363281 L 132.300781 20 \"/>\n",
       "<path style=\"fill:none;stroke-width:1;stroke-linecap:butt;stroke-linejoin:miter;stroke:rgb(26.666667%,26.666667%,26.666667%);stroke-opacity:1;stroke-miterlimit:10;\" d=\"M 142.300781 20 L 162.007812 20 \"/>\n",
       "<path style=\" stroke:none;fill-rule:nonzero;fill:rgb(26.666667%,26.666667%,26.666667%);fill-opacity:1;\" d=\"M 176.273438 20 L 162.007812 24.636719 L 162.007812 15.363281 L 176.273438 20 \"/>\n",
       "<path style=\"fill:none;stroke-width:1;stroke-linecap:butt;stroke-linejoin:miter;stroke:rgb(26.666667%,26.666667%,26.666667%);stroke-opacity:1;stroke-miterlimit:10;\" d=\"M 186.273438 20 L 210.679688 20 \"/>\n",
       "<path style=\" stroke:none;fill-rule:nonzero;fill:rgb(26.666667%,26.666667%,26.666667%);fill-opacity:1;\" d=\"M 224.945312 20 L 210.679688 24.636719 L 210.679688 15.363281 L 224.945312 20 \"/>\n",
       "<path style=\"fill:none;stroke-width:1;stroke-linecap:butt;stroke-linejoin:miter;stroke:rgb(26.666667%,26.666667%,26.666667%);stroke-opacity:1;stroke-miterlimit:10;\" d=\"M 234.945312 20 L 246.863281 20 \"/>\n",
       "<path style=\" stroke:none;fill-rule:nonzero;fill:rgb(26.666667%,26.666667%,26.666667%);fill-opacity:1;\" d=\"M 261.132812 20 L 246.863281 24.636719 L 246.863281 15.363281 L 261.132812 20 \"/>\n",
       "<path style=\"fill:none;stroke-width:1;stroke-linecap:butt;stroke-linejoin:miter;stroke:rgb(26.666667%,26.666667%,26.666667%);stroke-opacity:1;stroke-miterlimit:10;\" d=\"M 271.132812 20 L 281.667969 56.675781 \"/>\n",
       "<path style=\" stroke:none;fill-rule:nonzero;fill:rgb(26.666667%,26.666667%,26.666667%);fill-opacity:1;\" d=\"M 285.605469 70.386719 L 277.210938 57.957031 L 286.121094 55.398438 L 285.605469 70.386719 \"/>\n",
       "<path style=\"fill:none;stroke-width:1;stroke-linecap:butt;stroke-linejoin:miter;stroke:rgb(26.666667%,26.666667%,26.666667%);stroke-opacity:1;stroke-miterlimit:10;\" d=\"M 234.945312 20 L 272.230469 61.875 \"/>\n",
       "<path style=\" stroke:none;fill-rule:nonzero;fill:rgb(26.666667%,26.666667%,26.666667%);fill-opacity:1;\" d=\"M 281.714844 72.53125 L 268.765625 64.957031 L 275.691406 58.792969 L 281.714844 72.53125 \"/>\n",
       "<path style=\"fill:none;stroke-width:1;stroke-linecap:butt;stroke-linejoin:miter;stroke:rgb(26.666667%,26.666667%,26.666667%);stroke-opacity:1;stroke-miterlimit:10;\" d=\"M 288.367188 80 L 324.96875 38.246094 \"/>\n",
       "<path style=\" stroke:none;fill-rule:nonzero;fill:rgb(26.666667%,26.666667%,26.666667%);fill-opacity:1;\" d=\"M 334.371094 27.519531 L 328.453125 41.300781 L 321.484375 35.191406 L 334.371094 27.519531 \"/>\n",
       "<path style=\"fill:none;stroke-width:1;stroke-linecap:butt;stroke-linejoin:miter;stroke:rgb(26.666667%,26.666667%,26.666667%);stroke-opacity:1;stroke-miterlimit:10;\" d=\"M 340.964844 20 L 356.304688 20 \"/>\n",
       "<path style=\" stroke:none;fill-rule:nonzero;fill:rgb(26.666667%,26.666667%,26.666667%);fill-opacity:1;\" d=\"M 370.570312 20 L 356.304688 24.636719 L 356.304688 15.363281 L 370.570312 20 \"/>\n",
       "<path style=\"fill:none;stroke-width:1;stroke-linecap:butt;stroke-linejoin:miter;stroke:rgb(26.666667%,26.666667%,26.666667%);stroke-opacity:1;stroke-miterlimit:10;\" d=\"M 380.570312 20 L 410.449219 20 \"/>\n",
       "<path style=\" stroke:none;fill-rule:nonzero;fill:rgb(26.666667%,26.666667%,26.666667%);fill-opacity:1;\" d=\"M 424.714844 20 L 410.449219 24.636719 L 410.449219 15.363281 L 424.714844 20 \"/>\n",
       "<path style=\"fill:none;stroke-width:1;stroke-linecap:butt;stroke-linejoin:miter;stroke:rgb(26.666667%,26.666667%,26.666667%);stroke-opacity:1;stroke-miterlimit:10;\" d=\"M 20 20 L 450.542969 20 \"/>\n",
       "<path style=\" stroke:none;fill-rule:nonzero;fill:rgb(26.666667%,26.666667%,26.666667%);fill-opacity:1;\" d=\"M 464.808594 20 L 450.542969 24.636719 L 450.542969 15.363281 L 464.808594 20 \"/>\n",
       "<path style=\"fill:none;stroke-width:1;stroke-linecap:butt;stroke-linejoin:miter;stroke:rgb(26.666667%,26.666667%,26.666667%);stroke-opacity:1;stroke-miterlimit:10;\" d=\"M 474.808594 20 L 502.164062 59.972656 \"/>\n",
       "<path style=\" stroke:none;fill-rule:nonzero;fill:rgb(26.666667%,26.666667%,26.666667%);fill-opacity:1;\" d=\"M 510.222656 71.746094 L 498.339844 62.59375 L 505.988281 57.355469 L 510.222656 71.746094 \"/>\n",
       "<path style=\"fill:none;stroke-width:1;stroke-linecap:butt;stroke-linejoin:miter;stroke:rgb(26.666667%,26.666667%,26.666667%);stroke-opacity:1;stroke-miterlimit:10;\" d=\"M 434.714844 20 L 496.355469 65.574219 \"/>\n",
       "<path style=\" stroke:none;fill-rule:nonzero;fill:rgb(26.666667%,26.666667%,26.666667%);fill-opacity:1;\" d=\"M 507.828125 74.054688 L 493.601562 69.300781 L 499.113281 61.847656 L 507.828125 74.054688 \"/>\n",
       "<path style=\"fill:none;stroke-width:1;stroke-linecap:butt;stroke-linejoin:miter;stroke:rgb(26.666667%,26.666667%,26.666667%);stroke-opacity:1;stroke-miterlimit:10;\" d=\"M 515.867188 80 L 532.097656 42.289062 \"/>\n",
       "<path style=\" stroke:none;fill-rule:nonzero;fill:rgb(26.666667%,26.666667%,26.666667%);fill-opacity:1;\" d=\"M 537.738281 29.183594 L 536.355469 44.121094 L 527.839844 40.457031 L 537.738281 29.183594 \"/>\n",
       "<path style=\"fill:none;stroke-width:1;stroke-linecap:butt;stroke-linejoin:miter;stroke:rgb(26.666667%,26.666667%,26.666667%);stroke-opacity:1;stroke-miterlimit:10;\" d=\"M 515.867188 80 L 563.015625 36.460938 \"/>\n",
       "<path style=\" stroke:none;fill-rule:nonzero;fill:rgb(26.666667%,26.666667%,26.666667%);fill-opacity:1;\" d=\"M 573.5 26.785156 L 566.160156 39.867188 L 559.871094 33.058594 L 573.5 26.785156 \"/>\n",
       "<path style=\"fill:none;stroke-width:1;stroke-linecap:butt;stroke-linejoin:miter;stroke:rgb(26.666667%,26.666667%,26.666667%);stroke-opacity:1;stroke-miterlimit:10;\" d=\"M 580.84375 20 L 612.386719 20 \"/>\n",
       "<path style=\" stroke:none;fill-rule:nonzero;fill:rgb(26.666667%,26.666667%,26.666667%);fill-opacity:1;\" d=\"M 626.652344 20 L 612.386719 24.636719 L 612.386719 15.363281 L 626.652344 20 \"/>\n",
       "<path style=\"fill:none;stroke-width:1;stroke-linecap:butt;stroke-linejoin:miter;stroke:rgb(26.666667%,26.666667%,26.666667%);stroke-opacity:1;stroke-miterlimit:10;\" d=\"M 636.652344 20 L 656.75 20 \"/>\n",
       "<path style=\" stroke:none;fill-rule:nonzero;fill:rgb(26.666667%,26.666667%,26.666667%);fill-opacity:1;\" d=\"M 671.015625 20 L 656.75 24.636719 L 656.75 15.363281 L 671.015625 20 \"/>\n",
       "<path style=\"fill:none;stroke-width:1;stroke-linecap:butt;stroke-linejoin:miter;stroke:rgb(26.666667%,26.666667%,26.666667%);stroke-opacity:1;stroke-miterlimit:10;\" d=\"M 681.015625 20 L 704.566406 20 \"/>\n",
       "<path style=\" stroke:none;fill-rule:nonzero;fill:rgb(26.666667%,26.666667%,26.666667%);fill-opacity:1;\" d=\"M 718.832031 20 L 704.566406 24.636719 L 704.566406 15.363281 L 718.832031 20 \"/>\n",
       "<path style=\"fill:none;stroke-width:1;stroke-linecap:butt;stroke-linejoin:miter;stroke:rgb(26.666667%,26.666667%,26.666667%);stroke-opacity:1;stroke-miterlimit:10;\" d=\"M 20 20 L 735.300781 20 \"/>\n",
       "<path style=\" stroke:none;fill-rule:nonzero;fill:rgb(26.666667%,26.666667%,26.666667%);fill-opacity:1;\" d=\"M 749.566406 20 L 735.300781 24.636719 L 735.300781 15.363281 L 749.566406 20 \"/>\n",
       "<path style=\"fill:none;stroke-width:1;stroke-linecap:butt;stroke-linejoin:miter;stroke:rgb(26.666667%,26.666667%,26.666667%);stroke-opacity:1;stroke-miterlimit:10;\" d=\"M 541.691406 20 L 805.734375 20 \"/>\n",
       "<path style=\" stroke:none;fill-rule:nonzero;fill:rgb(26.666667%,26.666667%,26.666667%);fill-opacity:1;\" d=\"M 820 20 L 805.734375 24.636719 L 805.734375 15.363281 L 820 20 \"/>\n",
       "<path style=\"fill:none;stroke-width:1;stroke-linecap:butt;stroke-linejoin:miter;stroke:rgb(26.666667%,26.666667%,26.666667%);stroke-opacity:1;stroke-miterlimit:10;\" d=\"M 728.832031 20 L 805.734375 20 \"/>\n",
       "<path style=\" stroke:none;fill-rule:nonzero;fill:rgb(26.666667%,26.666667%,26.666667%);fill-opacity:1;\" d=\"M 820 20 L 805.734375 24.636719 L 805.734375 15.363281 L 820 20 \"/>\n",
       "<path style=\"fill:none;stroke-width:1;stroke-linecap:butt;stroke-linejoin:miter;stroke:rgb(26.666667%,26.666667%,26.666667%);stroke-opacity:1;stroke-miterlimit:10;\" d=\"M 759.566406 20 L 805.734375 20 \"/>\n",
       "<path style=\" stroke:none;fill-rule:nonzero;fill:rgb(26.666667%,26.666667%,26.666667%);fill-opacity:1;\" d=\"M 820 20 L 805.734375 24.636719 L 805.734375 15.363281 L 820 20 \"/>\n",
       "<path style=\"fill-rule:nonzero;fill:rgb(100%,0%,0%);fill-opacity:1;stroke-width:1;stroke-linecap:butt;stroke-linejoin:miter;stroke:rgb(0%,0%,0%);stroke-opacity:1;stroke-miterlimit:10;\" d=\"M 30 20 C 30 25.523438 25.523438 30 20 30 C 14.476562 30 10 25.523438 10 20 C 10 14.476562 14.476562 10 20 10 C 25.523438 10 30 14.476562 30 20 \"/>\n",
       "<path style=\"fill-rule:nonzero;fill:rgb(17.2719%,44.8791%,55.7885%);fill-opacity:1;stroke-width:1;stroke-linecap:butt;stroke-linejoin:miter;stroke:rgb(0%,0%,0%);stroke-opacity:1;stroke-miterlimit:10;\" d=\"M 100.433594 20 C 100.433594 25.523438 95.957031 30 90.433594 30 C 84.910156 30 80.433594 25.523438 80.433594 20 C 80.433594 14.476562 84.910156 10 90.433594 10 C 95.957031 10 100.433594 14.476562 100.433594 20 \"/>\n",
       "<path style=\"fill-rule:nonzero;fill:rgb(16.6383%,69.0856%,49.6502%);fill-opacity:1;stroke-width:1;stroke-linecap:butt;stroke-linejoin:miter;stroke:rgb(0%,0%,0%);stroke-opacity:1;stroke-miterlimit:10;\" d=\"M 152.300781 20 C 152.300781 25.523438 147.824219 30 142.300781 30 C 136.777344 30 132.300781 25.523438 132.300781 20 C 132.300781 14.476562 136.777344 10 142.300781 10 C 147.824219 10 152.300781 14.476562 152.300781 20 \"/>\n",
       "<path style=\"fill-rule:nonzero;fill:rgb(46.8053%,81.8921%,32.3998%);fill-opacity:1;stroke-width:1;stroke-linecap:butt;stroke-linejoin:miter;stroke:rgb(0%,0%,0%);stroke-opacity:1;stroke-miterlimit:10;\" d=\"M 196.273438 20 C 196.273438 25.523438 191.796875 30 186.273438 30 C 180.75 30 176.273438 25.523438 176.273438 20 C 176.273438 14.476562 180.75 10 186.273438 10 C 191.796875 10 196.273438 14.476562 196.273438 20 \"/>\n",
       "<path style=\"fill-rule:nonzero;fill:rgb(48.7026%,82.3929%,31.2321%);fill-opacity:1;stroke-width:1;stroke-linecap:butt;stroke-linejoin:miter;stroke:rgb(0%,0%,0%);stroke-opacity:1;stroke-miterlimit:10;\" d=\"M 244.945312 20 C 244.945312 25.523438 240.46875 30 234.945312 30 C 229.421875 30 224.945312 25.523438 224.945312 20 C 224.945312 14.476562 229.421875 10 234.945312 10 C 240.46875 10 244.945312 14.476562 244.945312 20 \"/>\n",
       "<path style=\"fill-rule:nonzero;fill:rgb(22.3925%,33.4994%,54.8053%);fill-opacity:1;stroke-width:1;stroke-linecap:butt;stroke-linejoin:miter;stroke:rgb(0%,0%,0%);stroke-opacity:1;stroke-miterlimit:10;\" d=\"M 281.132812 20 C 281.132812 25.523438 276.652344 30 271.132812 30 C 265.609375 30 261.132812 25.523438 261.132812 20 C 261.132812 14.476562 265.609375 10 271.132812 10 C 276.652344 10 281.132812 14.476562 281.132812 20 \"/>\n",
       "<path style=\"fill-rule:nonzero;fill:rgb(31.9809%,77.0914%,41.1152%);fill-opacity:1;stroke-width:1;stroke-linecap:butt;stroke-linejoin:miter;stroke:rgb(0%,0%,0%);stroke-opacity:1;stroke-miterlimit:10;\" d=\"M 298.367188 80 C 298.367188 85.523438 293.886719 90 288.367188 90 C 282.84375 90 278.367188 85.523438 278.367188 80 C 278.367188 74.476562 282.84375 70 288.367188 70 C 293.886719 70 298.367188 74.476562 298.367188 80 \"/>\n",
       "<path style=\"fill-rule:nonzero;fill:rgb(46.8053%,81.8921%,32.3998%);fill-opacity:1;stroke-width:1;stroke-linecap:butt;stroke-linejoin:miter;stroke:rgb(0%,0%,0%);stroke-opacity:1;stroke-miterlimit:10;\" d=\"M 350.964844 20 C 350.964844 25.523438 346.488281 30 340.964844 30 C 335.441406 30 330.964844 25.523438 330.964844 20 C 330.964844 14.476562 335.441406 10 340.964844 10 C 346.488281 10 350.964844 14.476562 350.964844 20 \"/>\n",
       "<path style=\"fill-rule:nonzero;fill:rgb(99.3248%,90.6157%,14.3936%);fill-opacity:1;stroke-width:1;stroke-linecap:butt;stroke-linejoin:miter;stroke:rgb(0%,0%,0%);stroke-opacity:1;stroke-miterlimit:10;\" d=\"M 390.570312 20 C 390.570312 25.523438 386.09375 30 380.570312 30 C 375.046875 30 370.570312 25.523438 370.570312 20 C 370.570312 14.476562 375.046875 10 380.570312 10 C 386.09375 10 390.570312 14.476562 390.570312 20 \"/>\n",
       "<path style=\"fill-rule:nonzero;fill:rgb(87.6168%,89.1125%,9.525%);fill-opacity:1;stroke-width:1;stroke-linecap:butt;stroke-linejoin:miter;stroke:rgb(0%,0%,0%);stroke-opacity:1;stroke-miterlimit:10;\" d=\"M 444.714844 20 C 444.714844 25.523438 440.238281 30 434.714844 30 C 429.195312 30 424.714844 25.523438 424.714844 20 C 424.714844 14.476562 429.195312 10 434.714844 10 C 440.238281 10 444.714844 14.476562 444.714844 20 \"/>\n",
       "<path style=\"fill-rule:nonzero;fill:rgb(28.0267%,7.3417%,39.7163%);fill-opacity:1;stroke-width:1;stroke-linecap:butt;stroke-linejoin:miter;stroke:rgb(0%,0%,0%);stroke-opacity:1;stroke-miterlimit:10;\" d=\"M 484.808594 20 C 484.808594 25.523438 480.332031 30 474.808594 30 C 469.285156 30 464.808594 25.523438 464.808594 20 C 464.808594 14.476562 469.285156 10 474.808594 10 C 480.332031 10 484.808594 14.476562 484.808594 20 \"/>\n",
       "<path style=\"fill-rule:nonzero;fill:rgb(32.7796%,77.398%,40.664%);fill-opacity:1;stroke-width:1;stroke-linecap:butt;stroke-linejoin:miter;stroke:rgb(0%,0%,0%);stroke-opacity:1;stroke-miterlimit:10;\" d=\"M 525.867188 80 C 525.867188 85.523438 521.390625 90 515.867188 90 C 510.347656 90 505.867188 85.523438 505.867188 80 C 505.867188 74.476562 510.347656 70 515.867188 70 C 521.390625 70 525.867188 74.476562 525.867188 80 \"/>\n",
       "<path style=\"fill-rule:nonzero;fill:rgb(27.3809%,3.1497%,35.8853%);fill-opacity:1;stroke-width:1;stroke-linecap:butt;stroke-linejoin:miter;stroke:rgb(0%,0%,0%);stroke-opacity:1;stroke-miterlimit:10;\" d=\"M 551.691406 20 C 551.691406 25.523438 547.214844 30 541.691406 30 C 536.167969 30 531.691406 25.523438 531.691406 20 C 531.691406 14.476562 536.167969 10 541.691406 10 C 547.214844 10 551.691406 14.476562 551.691406 20 \"/>\n",
       "<path style=\"fill-rule:nonzero;fill:rgb(37.7779%,79.1781%,37.7939%);fill-opacity:1;stroke-width:1;stroke-linecap:butt;stroke-linejoin:miter;stroke:rgb(0%,0%,0%);stroke-opacity:1;stroke-miterlimit:10;\" d=\"M 590.84375 20 C 590.84375 25.523438 586.367188 30 580.84375 30 C 575.320312 30 570.84375 25.523438 570.84375 20 C 570.84375 14.476562 575.320312 10 580.84375 10 C 586.367188 10 590.84375 14.476562 590.84375 20 \"/>\n",
       "<path style=\"fill-rule:nonzero;fill:rgb(44.9368%,81.3768%,33.5384%);fill-opacity:1;stroke-width:1;stroke-linecap:butt;stroke-linejoin:miter;stroke:rgb(0%,0%,0%);stroke-opacity:1;stroke-miterlimit:10;\" d=\"M 646.652344 20 C 646.652344 25.523438 642.175781 30 636.652344 30 C 631.132812 30 626.652344 25.523438 626.652344 20 C 626.652344 14.476562 631.132812 10 636.652344 10 C 642.175781 10 646.652344 14.476562 646.652344 20 \"/>\n",
       "<path style=\"fill-rule:nonzero;fill:rgb(39.5174%,79.7475%,36.7757%);fill-opacity:1;stroke-width:1;stroke-linecap:butt;stroke-linejoin:miter;stroke:rgb(0%,0%,0%);stroke-opacity:1;stroke-miterlimit:10;\" d=\"M 691.015625 20 C 691.015625 25.523438 686.539062 30 681.015625 30 C 675.492188 30 671.015625 25.523438 671.015625 20 C 671.015625 14.476562 675.492188 10 681.015625 10 C 686.539062 10 691.015625 14.476562 691.015625 20 \"/>\n",
       "<path style=\"fill-rule:nonzero;fill:rgb(14.9039%,50.8051%,55.725%);fill-opacity:1;stroke-width:1;stroke-linecap:butt;stroke-linejoin:miter;stroke:rgb(0%,0%,0%);stroke-opacity:1;stroke-miterlimit:10;\" d=\"M 738.832031 20 C 738.832031 25.523438 734.355469 30 728.832031 30 C 723.308594 30 718.832031 25.523438 718.832031 20 C 718.832031 14.476562 723.308594 10 728.832031 10 C 734.355469 10 738.832031 14.476562 738.832031 20 \"/>\n",
       "<path style=\"fill-rule:nonzero;fill:rgb(27.1305%,1.9942%,34.7269%);fill-opacity:1;stroke-width:1;stroke-linecap:butt;stroke-linejoin:miter;stroke:rgb(0%,0%,0%);stroke-opacity:1;stroke-miterlimit:10;\" d=\"M 769.566406 20 C 769.566406 25.523438 765.089844 30 759.566406 30 C 754.042969 30 749.566406 25.523438 749.566406 20 C 749.566406 14.476562 754.042969 10 759.566406 10 C 765.089844 10 769.566406 14.476562 769.566406 20 \"/>\n",
       "<path style=\"fill-rule:nonzero;fill:rgb(100%,0%,0%);fill-opacity:1;stroke-width:1;stroke-linecap:butt;stroke-linejoin:miter;stroke:rgb(0%,0%,0%);stroke-opacity:1;stroke-miterlimit:10;\" d=\"M 840 20 C 840 25.523438 835.523438 30 830 30 C 824.476562 30 820 25.523438 820 20 C 820 14.476562 824.476562 10 830 10 C 835.523438 10 840 14.476562 840 20 \"/>\n",
       "<g style=\"fill:rgb(0%,0%,0%);fill-opacity:1;\">\n",
       "  <use xlink:href=\"#glyph0-1\" x=\"-3.40625\" y=\"25.570312\"/>\n",
       "  <use xlink:href=\"#glyph0-2\" x=\"3.887695\" y=\"25.570312\"/>\n",
       "  <use xlink:href=\"#glyph0-3\" x=\"12.453125\" y=\"25.570312\"/>\n",
       "  <use xlink:href=\"#glyph0-4\" x=\"21.326172\" y=\"25.570312\"/>\n",
       "  <use xlink:href=\"#glyph0-5\" x=\"27.082031\" y=\"25.570312\"/>\n",
       "  <use xlink:href=\"#glyph0-6\" x=\"34.779297\" y=\"25.570312\"/>\n",
       "</g>\n",
       "<g style=\"fill:rgb(0%,0%,0%);fill-opacity:1;\">\n",
       "  <use xlink:href=\"#glyph0-7\" x=\"85.859375\" y=\"26.753906\"/>\n",
       "</g>\n",
       "<g style=\"fill:rgb(0%,0%,0%);fill-opacity:1;\">\n",
       "  <use xlink:href=\"#glyph0-8\" x=\"138.035156\" y=\"26.847656\"/>\n",
       "</g>\n",
       "<g style=\"fill:rgb(0%,0%,0%);fill-opacity:1;\">\n",
       "  <use xlink:href=\"#glyph0-9\" x=\"181.847656\" y=\"26.847656\"/>\n",
       "</g>\n",
       "<g style=\"fill:rgb(0%,0%,0%);fill-opacity:1;\">\n",
       "  <use xlink:href=\"#glyph0-10\" x=\"230.542969\" y=\"26.753906\"/>\n",
       "</g>\n",
       "<g style=\"fill:rgb(0%,0%,0%);fill-opacity:1;\">\n",
       "  <use xlink:href=\"#glyph0-11\" x=\"266.75\" y=\"26.753906\"/>\n",
       "</g>\n",
       "<g style=\"fill:rgb(0%,0%,0%);fill-opacity:1;\">\n",
       "  <use xlink:href=\"#glyph0-12\" x=\"283.863281\" y=\"86.847656\"/>\n",
       "</g>\n",
       "<g style=\"fill:rgb(0%,0%,0%);fill-opacity:1;\">\n",
       "  <use xlink:href=\"#glyph0-13\" x=\"336.535156\" y=\"26.753906\"/>\n",
       "</g>\n",
       "<g style=\"fill:rgb(0%,0%,0%);fill-opacity:1;\">\n",
       "  <use xlink:href=\"#glyph0-14\" x=\"376.121094\" y=\"26.847656\"/>\n",
       "</g>\n",
       "<g style=\"fill:rgb(0%,0%,0%);fill-opacity:1;\">\n",
       "  <use xlink:href=\"#glyph0-15\" x=\"430.3125\" y=\"26.847656\"/>\n",
       "</g>\n",
       "<g style=\"fill:rgb(0%,0%,0%);fill-opacity:1;\">\n",
       "  <use xlink:href=\"#glyph0-7\" x=\"465.597656\" y=\"26.847656\"/>\n",
       "  <use xlink:href=\"#glyph0-16\" x=\"474.504883\" y=\"26.847656\"/>\n",
       "</g>\n",
       "<g style=\"fill:rgb(0%,0%,0%);fill-opacity:1;\">\n",
       "  <use xlink:href=\"#glyph0-7\" x=\"506.839844\" y=\"86.753906\"/>\n",
       "  <use xlink:href=\"#glyph0-7\" x=\"515.74707\" y=\"86.753906\"/>\n",
       "</g>\n",
       "<g style=\"fill:rgb(0%,0%,0%);fill-opacity:1;\">\n",
       "  <use xlink:href=\"#glyph0-7\" x=\"532.714844\" y=\"26.847656\"/>\n",
       "  <use xlink:href=\"#glyph0-8\" x=\"541.62207\" y=\"26.847656\"/>\n",
       "</g>\n",
       "<g style=\"fill:rgb(0%,0%,0%);fill-opacity:1;\">\n",
       "  <use xlink:href=\"#glyph0-7\" x=\"571.730469\" y=\"26.847656\"/>\n",
       "  <use xlink:href=\"#glyph0-9\" x=\"580.637695\" y=\"26.847656\"/>\n",
       "</g>\n",
       "<g style=\"fill:rgb(0%,0%,0%);fill-opacity:1;\">\n",
       "  <use xlink:href=\"#glyph0-7\" x=\"627.371094\" y=\"26.753906\"/>\n",
       "  <use xlink:href=\"#glyph0-10\" x=\"636.27832\" y=\"26.753906\"/>\n",
       "</g>\n",
       "<g style=\"fill:rgb(0%,0%,0%);fill-opacity:1;\">\n",
       "  <use xlink:href=\"#glyph0-7\" x=\"671.949219\" y=\"26.753906\"/>\n",
       "  <use xlink:href=\"#glyph0-11\" x=\"680.856445\" y=\"26.753906\"/>\n",
       "</g>\n",
       "<g style=\"fill:rgb(0%,0%,0%);fill-opacity:1;\">\n",
       "  <use xlink:href=\"#glyph0-7\" x=\"719.59375\" y=\"26.847656\"/>\n",
       "  <use xlink:href=\"#glyph0-12\" x=\"728.500977\" y=\"26.847656\"/>\n",
       "</g>\n",
       "<g style=\"fill:rgb(0%,0%,0%);fill-opacity:1;\">\n",
       "  <use xlink:href=\"#glyph0-7\" x=\"750.488281\" y=\"26.753906\"/>\n",
       "  <use xlink:href=\"#glyph0-13\" x=\"759.395508\" y=\"26.753906\"/>\n",
       "</g>\n",
       "<g style=\"fill:rgb(0%,0%,0%);fill-opacity:1;\">\n",
       "  <use xlink:href=\"#glyph0-17\" x=\"814.308594\" y=\"26.96875\"/>\n",
       "  <use xlink:href=\"#glyph0-18\" x=\"819.797852\" y=\"26.96875\"/>\n",
       "  <use xlink:href=\"#glyph0-19\" x=\"828.376953\" y=\"26.96875\"/>\n",
       "  <use xlink:href=\"#glyph0-20\" x=\"837.25\" y=\"26.96875\"/>\n",
       "</g>\n",
       "</g>\n",
       "</svg>\n"
      ],
      "text/plain": [
       "<igraph.drawing.Plot at 0x7f9e13dd20d0>"
      ]
     },
     "execution_count": 67,
     "metadata": {
      "image/svg+xml": {
       "isolated": true
      }
     },
     "output_type": "execute_result"
    }
   ],
   "source": [
    "visual_style = {}\n",
    "visual_style[\"vertex_size\"] = 20\n",
    "visual_style[\"vertex_color\"] = [viridis_cmap(scaled_coverage(xx)) if xx != 0 else 'red' for xx in g.vs['coverage']]\n",
    "visual_style[\"vertex_label\"] = g.vs[\"name\"]\n",
    "visual_style[\"edge_width\"] = g.es['weight']\n",
    "#visual_style[\"layout\"] = layout\n",
    "visual_style[\"layout\"] = gru.layout_splice_graph(g)\n",
    "visual_style[\"bbox\"] = (850, 100)\n",
    "visual_style[\"margin\"] = 20\n",
    "igraph.plot(g, autocurve=True, **visual_style)"
   ]
  },
  {
   "cell_type": "markdown",
   "metadata": {},
   "source": [
    "**To sum it all up**: there are special vertex and edge *properties* that correspond to the visual representation of the graph. These attributes override the default settings of *igraph* (see configuring-igraph for overriding the system-wide defaults). Furthermore, appropriate keyword arguments supplied to `plot()` override the visual properties provided by the vertex and edge attributes.\n",
    "\n",
    "The following two tables summarise the most frequently used visual attributes for vertices and edges, respectively:"
   ]
  },
  {
   "cell_type": "markdown",
   "metadata": {},
   "source": [
    "### [Vertex attributes controlling graph plots](https://igraph.org/python/doc/tutorial/tutorial.html#vertex-attributes-controlling-graph-plots)"
   ]
  },
  {
   "cell_type": "markdown",
   "metadata": {},
   "source": [
    "### [Edge attributes controlling graph plots](https://igraph.org/python/doc/tutorial/tutorial.html#edge-attributes-controlling-graph-plots)"
   ]
  },
  {
   "cell_type": "markdown",
   "metadata": {},
   "source": [
    "### [Generic keyword arguments of `plot()`](https://igraph.org/python/doc/tutorial/tutorial.html#generic-keyword-arguments-of-plot)"
   ]
  },
  {
   "cell_type": "markdown",
   "metadata": {},
   "source": [
    "### [Specifying colors in plots](https://igraph.org/python/doc/tutorial/tutorial.html#generic-keyword-arguments-of-plot)"
   ]
  },
  {
   "cell_type": "markdown",
   "metadata": {},
   "source": [
    "## Saving plots"
   ]
  },
  {
   "cell_type": "markdown",
   "metadata": {},
   "source": [
    "*igraph* can be used to create publication-quality plots by asking the `plot()` function to *save the plot into a file instead of showing it on a screen*. This can be done simply by passing the **target filename** as an additional argument after the graph itself. \n",
    "\n",
    "The preferred format is inferred from the extension. *igraph* can save to anything that is supported by *Cairo*, including `SVG`, `PDF` and `PNG` files. *SVG* or *PDF* files can then later be converted to **PostScript** (.ps) or **Encapsulated PostScript** (.eps) format if you prefer that, while *PNG* files can be converted to **TIF** (.tif):"
   ]
  },
  {
   "cell_type": "code",
   "execution_count": 68,
   "metadata": {},
   "outputs": [
    {
     "data": {
      "image/svg+xml": [
       "<?xml version=\"1.0\" encoding=\"UTF-8\"?>\n",
       "<svg xmlns=\"http://www.w3.org/2000/svg\" xmlns:xlink=\"http://www.w3.org/1999/xlink\" width=\"850pt\" height=\"100pt\" viewBox=\"0 0 850 100\" version=\"1.1\">\n",
       "<defs>\n",
       "<g>\n",
       "<symbol overflow=\"visible\" id=\"glyph0-0\">\n",
       "<path style=\"stroke:none;\" d=\"M 0.703125 2.46875 L 0.703125 -9.875 L 7.703125 -9.875 L 7.703125 2.46875 Z M 1.484375 1.703125 L 6.921875 1.703125 L 6.921875 -9.078125 L 1.484375 -9.078125 Z M 1.484375 1.703125 \"/>\n",
       "</symbol>\n",
       "<symbol overflow=\"visible\" id=\"glyph0-1\">\n",
       "<path style=\"stroke:none;\" d=\"M 6.203125 -7.4375 L 6.203125 -6.234375 C 5.847656 -6.421875 5.476562 -6.554688 5.09375 -6.640625 C 4.707031 -6.734375 4.3125 -6.78125 3.90625 -6.78125 C 3.28125 -6.78125 2.8125 -6.6875 2.5 -6.5 C 2.1875 -6.3125 2.03125 -6.023438 2.03125 -5.640625 C 2.03125 -5.347656 2.140625 -5.117188 2.359375 -4.953125 C 2.585938 -4.785156 3.039062 -4.628906 3.71875 -4.484375 L 4.140625 -4.375 C 5.035156 -4.1875 5.671875 -3.914062 6.046875 -3.5625 C 6.421875 -3.21875 6.609375 -2.734375 6.609375 -2.109375 C 6.609375 -1.398438 6.328125 -0.835938 5.765625 -0.421875 C 5.203125 -0.00390625 4.429688 0.203125 3.453125 0.203125 C 3.035156 0.203125 2.601562 0.160156 2.15625 0.078125 C 1.71875 -0.00390625 1.253906 -0.125 0.765625 -0.28125 L 0.765625 -1.578125 C 1.222656 -1.335938 1.675781 -1.15625 2.125 -1.03125 C 2.582031 -0.914062 3.03125 -0.859375 3.46875 -0.859375 C 4.0625 -0.859375 4.515625 -0.957031 4.828125 -1.15625 C 5.148438 -1.363281 5.3125 -1.648438 5.3125 -2.015625 C 5.3125 -2.359375 5.195312 -2.617188 4.96875 -2.796875 C 4.738281 -2.984375 4.234375 -3.160156 3.453125 -3.328125 L 3.015625 -3.4375 C 2.242188 -3.59375 1.679688 -3.84375 1.328125 -4.1875 C 0.984375 -4.53125 0.8125 -4.992188 0.8125 -5.578125 C 0.8125 -6.304688 1.066406 -6.863281 1.578125 -7.25 C 2.085938 -7.644531 2.8125 -7.84375 3.75 -7.84375 C 4.21875 -7.84375 4.65625 -7.804688 5.0625 -7.734375 C 5.476562 -7.671875 5.859375 -7.570312 6.203125 -7.4375 Z M 6.203125 -7.4375 \"/>\n",
       "</symbol>\n",
       "<symbol overflow=\"visible\" id=\"glyph0-2\">\n",
       "<path style=\"stroke:none;\" d=\"M 4.28125 -6.78125 C 3.613281 -6.78125 3.082031 -6.515625 2.6875 -5.984375 C 2.289062 -5.460938 2.09375 -4.742188 2.09375 -3.828125 C 2.09375 -2.910156 2.285156 -2.1875 2.671875 -1.65625 C 3.066406 -1.132812 3.601562 -0.875 4.28125 -0.875 C 4.957031 -0.875 5.488281 -1.132812 5.875 -1.65625 C 6.269531 -2.1875 6.46875 -2.910156 6.46875 -3.828125 C 6.46875 -4.734375 6.269531 -5.453125 5.875 -5.984375 C 5.488281 -6.515625 4.957031 -6.78125 4.28125 -6.78125 Z M 4.28125 -7.84375 C 5.375 -7.84375 6.234375 -7.484375 6.859375 -6.765625 C 7.484375 -6.054688 7.796875 -5.078125 7.796875 -3.828125 C 7.796875 -2.566406 7.484375 -1.578125 6.859375 -0.859375 C 6.234375 -0.148438 5.375 0.203125 4.28125 0.203125 C 3.1875 0.203125 2.328125 -0.148438 1.703125 -0.859375 C 1.078125 -1.578125 0.765625 -2.566406 0.765625 -3.828125 C 0.765625 -5.078125 1.078125 -6.054688 1.703125 -6.765625 C 2.328125 -7.484375 3.1875 -7.84375 4.28125 -7.84375 Z M 4.28125 -7.84375 \"/>\n",
       "</symbol>\n",
       "<symbol overflow=\"visible\" id=\"glyph0-3\">\n",
       "<path style=\"stroke:none;\" d=\"M 1.1875 -3.015625 L 1.1875 -7.65625 L 2.453125 -7.65625 L 2.453125 -3.0625 C 2.453125 -2.34375 2.59375 -1.800781 2.875 -1.4375 C 3.15625 -1.070312 3.578125 -0.890625 4.140625 -0.890625 C 4.816406 -0.890625 5.351562 -1.101562 5.75 -1.53125 C 6.144531 -1.96875 6.34375 -2.5625 6.34375 -3.3125 L 6.34375 -7.65625 L 7.609375 -7.65625 L 7.609375 0 L 6.34375 0 L 6.34375 -1.171875 C 6.039062 -0.710938 5.6875 -0.367188 5.28125 -0.140625 C 4.875 0.0859375 4.40625 0.203125 3.875 0.203125 C 3 0.203125 2.332031 -0.0664062 1.875 -0.609375 C 1.414062 -1.160156 1.1875 -1.960938 1.1875 -3.015625 Z M 4.359375 -7.84375 Z M 4.359375 -7.84375 \"/>\n",
       "</symbol>\n",
       "<symbol overflow=\"visible\" id=\"glyph0-4\">\n",
       "<path style=\"stroke:none;\" d=\"M 5.75 -6.484375 C 5.613281 -6.566406 5.460938 -6.625 5.296875 -6.65625 C 5.128906 -6.695312 4.945312 -6.71875 4.75 -6.71875 C 4.03125 -6.71875 3.476562 -6.484375 3.09375 -6.015625 C 2.71875 -5.554688 2.53125 -4.894531 2.53125 -4.03125 L 2.53125 0 L 1.265625 0 L 1.265625 -7.65625 L 2.53125 -7.65625 L 2.53125 -6.46875 C 2.800781 -6.9375 3.144531 -7.28125 3.5625 -7.5 C 3.988281 -7.726562 4.503906 -7.84375 5.109375 -7.84375 C 5.203125 -7.84375 5.300781 -7.835938 5.40625 -7.828125 C 5.507812 -7.816406 5.625 -7.796875 5.75 -7.765625 Z M 5.75 -6.484375 \"/>\n",
       "</symbol>\n",
       "<symbol overflow=\"visible\" id=\"glyph0-5\">\n",
       "<path style=\"stroke:none;\" d=\"M 6.828125 -7.359375 L 6.828125 -6.1875 C 6.472656 -6.382812 6.113281 -6.53125 5.75 -6.625 C 5.394531 -6.726562 5.035156 -6.78125 4.671875 -6.78125 C 3.859375 -6.78125 3.222656 -6.519531 2.765625 -6 C 2.316406 -5.476562 2.09375 -4.753906 2.09375 -3.828125 C 2.09375 -2.890625 2.316406 -2.160156 2.765625 -1.640625 C 3.222656 -1.128906 3.859375 -0.875 4.671875 -0.875 C 5.035156 -0.875 5.394531 -0.921875 5.75 -1.015625 C 6.113281 -1.109375 6.472656 -1.253906 6.828125 -1.453125 L 6.828125 -0.296875 C 6.472656 -0.128906 6.109375 -0.00390625 5.734375 0.078125 C 5.359375 0.160156 4.960938 0.203125 4.546875 0.203125 C 3.390625 0.203125 2.46875 -0.15625 1.78125 -0.875 C 1.101562 -1.601562 0.765625 -2.585938 0.765625 -3.828125 C 0.765625 -5.066406 1.109375 -6.046875 1.796875 -6.765625 C 2.484375 -7.484375 3.425781 -7.84375 4.625 -7.84375 C 5.007812 -7.84375 5.382812 -7.800781 5.75 -7.71875 C 6.125 -7.644531 6.484375 -7.523438 6.828125 -7.359375 Z M 6.828125 -7.359375 \"/>\n",
       "</symbol>\n",
       "<symbol overflow=\"visible\" id=\"glyph0-6\">\n",
       "<path style=\"stroke:none;\" d=\"M 7.875 -4.140625 L 7.875 -3.53125 L 2.078125 -3.53125 C 2.140625 -2.664062 2.398438 -2.003906 2.859375 -1.546875 C 3.328125 -1.097656 3.976562 -0.875 4.8125 -0.875 C 5.300781 -0.875 5.769531 -0.929688 6.21875 -1.046875 C 6.675781 -1.160156 7.128906 -1.335938 7.578125 -1.578125 L 7.578125 -0.390625 C 7.117188 -0.203125 6.648438 -0.0546875 6.171875 0.046875 C 5.703125 0.148438 5.226562 0.203125 4.75 0.203125 C 3.519531 0.203125 2.546875 -0.148438 1.828125 -0.859375 C 1.117188 -1.578125 0.765625 -2.539062 0.765625 -3.75 C 0.765625 -5.007812 1.101562 -6.003906 1.78125 -6.734375 C 2.457031 -7.472656 3.375 -7.84375 4.53125 -7.84375 C 5.5625 -7.84375 6.375 -7.507812 6.96875 -6.84375 C 7.570312 -6.1875 7.875 -5.285156 7.875 -4.140625 Z M 6.609375 -4.515625 C 6.597656 -5.203125 6.40625 -5.75 6.03125 -6.15625 C 5.65625 -6.570312 5.160156 -6.78125 4.546875 -6.78125 C 3.835938 -6.78125 3.269531 -6.578125 2.84375 -6.171875 C 2.425781 -5.773438 2.1875 -5.21875 2.125 -4.5 Z M 6.609375 -4.515625 \"/>\n",
       "</symbol>\n",
       "<symbol overflow=\"visible\" id=\"glyph0-7\">\n",
       "<path style=\"stroke:none;\" d=\"M 1.734375 -1.15625 L 4 -1.15625 L 4 -8.953125 L 1.53125 -8.453125 L 1.53125 -9.71875 L 3.984375 -10.203125 L 5.359375 -10.203125 L 5.359375 -1.15625 L 7.609375 -1.15625 L 7.609375 0 L 1.734375 0 Z M 1.734375 -1.15625 \"/>\n",
       "</symbol>\n",
       "<symbol overflow=\"visible\" id=\"glyph0-8\">\n",
       "<path style=\"stroke:none;\" d=\"M 2.6875 -1.15625 L 7.5 -1.15625 L 7.5 0 L 1.03125 0 L 1.03125 -1.15625 C 1.550781 -1.695312 2.265625 -2.425781 3.171875 -3.34375 C 4.078125 -4.257812 4.644531 -4.847656 4.875 -5.109375 C 5.3125 -5.609375 5.617188 -6.03125 5.796875 -6.375 C 5.972656 -6.71875 6.0625 -7.054688 6.0625 -7.390625 C 6.0625 -7.929688 5.867188 -8.375 5.484375 -8.71875 C 5.109375 -9.0625 4.613281 -9.234375 4 -9.234375 C 3.570312 -9.234375 3.117188 -9.15625 2.640625 -9 C 2.160156 -8.851562 1.644531 -8.625 1.09375 -8.3125 L 1.09375 -9.71875 C 1.644531 -9.9375 2.160156 -10.101562 2.640625 -10.21875 C 3.128906 -10.332031 3.578125 -10.390625 3.984375 -10.390625 C 5.035156 -10.390625 5.875 -10.125 6.5 -9.59375 C 7.132812 -9.070312 7.453125 -8.367188 7.453125 -7.484375 C 7.453125 -7.054688 7.375 -6.65625 7.21875 -6.28125 C 7.0625 -5.90625 6.773438 -5.460938 6.359375 -4.953125 C 6.242188 -4.828125 5.878906 -4.445312 5.265625 -3.8125 C 4.660156 -3.175781 3.800781 -2.289062 2.6875 -1.15625 Z M 2.6875 -1.15625 \"/>\n",
       "</symbol>\n",
       "<symbol overflow=\"visible\" id=\"glyph0-9\">\n",
       "<path style=\"stroke:none;\" d=\"M 5.6875 -5.5 C 6.34375 -5.363281 6.851562 -5.070312 7.21875 -4.625 C 7.59375 -4.175781 7.78125 -3.625 7.78125 -2.96875 C 7.78125 -1.957031 7.429688 -1.175781 6.734375 -0.625 C 6.046875 -0.0703125 5.066406 0.203125 3.796875 0.203125 C 3.367188 0.203125 2.925781 0.15625 2.46875 0.0625 C 2.019531 -0.0195312 1.550781 -0.144531 1.0625 -0.3125 L 1.0625 -1.640625 C 1.445312 -1.421875 1.867188 -1.253906 2.328125 -1.140625 C 2.785156 -1.023438 3.257812 -0.96875 3.75 -0.96875 C 4.613281 -0.96875 5.269531 -1.132812 5.71875 -1.46875 C 6.175781 -1.8125 6.40625 -2.3125 6.40625 -2.96875 C 6.40625 -3.570312 6.191406 -4.039062 5.765625 -4.375 C 5.347656 -4.71875 4.765625 -4.890625 4.015625 -4.890625 L 2.828125 -4.890625 L 2.828125 -6.015625 L 4.078125 -6.015625 C 4.753906 -6.015625 5.269531 -6.148438 5.625 -6.421875 C 5.988281 -6.703125 6.171875 -7.097656 6.171875 -7.609375 C 6.171875 -8.128906 5.984375 -8.53125 5.609375 -8.8125 C 5.242188 -9.09375 4.710938 -9.234375 4.015625 -9.234375 C 3.640625 -9.234375 3.234375 -9.191406 2.796875 -9.109375 C 2.367188 -9.023438 1.894531 -8.894531 1.375 -8.71875 L 1.375 -9.953125 C 1.894531 -10.097656 2.382812 -10.207031 2.84375 -10.28125 C 3.300781 -10.351562 3.734375 -10.390625 4.140625 -10.390625 C 5.191406 -10.390625 6.019531 -10.148438 6.625 -9.671875 C 7.238281 -9.203125 7.546875 -8.5625 7.546875 -7.75 C 7.546875 -7.175781 7.382812 -6.695312 7.0625 -6.3125 C 6.738281 -5.925781 6.28125 -5.65625 5.6875 -5.5 Z M 5.6875 -5.5 \"/>\n",
       "</symbol>\n",
       "<symbol overflow=\"visible\" id=\"glyph0-10\">\n",
       "<path style=\"stroke:none;\" d=\"M 5.296875 -9 L 1.8125 -3.5625 L 5.296875 -3.5625 Z M 4.921875 -10.203125 L 6.671875 -10.203125 L 6.671875 -3.5625 L 8.125 -3.5625 L 8.125 -2.40625 L 6.671875 -2.40625 L 6.671875 0 L 5.296875 0 L 5.296875 -2.40625 L 0.6875 -2.40625 L 0.6875 -3.734375 Z M 4.921875 -10.203125 \"/>\n",
       "</symbol>\n",
       "<symbol overflow=\"visible\" id=\"glyph0-11\">\n",
       "<path style=\"stroke:none;\" d=\"M 1.515625 -10.203125 L 6.9375 -10.203125 L 6.9375 -9.046875 L 2.78125 -9.046875 L 2.78125 -6.546875 C 2.976562 -6.609375 3.175781 -6.65625 3.375 -6.6875 C 3.570312 -6.726562 3.773438 -6.75 3.984375 -6.75 C 5.117188 -6.75 6.019531 -6.4375 6.6875 -5.8125 C 7.351562 -5.1875 7.6875 -4.34375 7.6875 -3.28125 C 7.6875 -2.175781 7.34375 -1.316406 6.65625 -0.703125 C 5.976562 -0.0976562 5.015625 0.203125 3.765625 0.203125 C 3.335938 0.203125 2.898438 0.164062 2.453125 0.09375 C 2.015625 0.0195312 1.554688 -0.0859375 1.078125 -0.234375 L 1.078125 -1.625 C 1.492188 -1.40625 1.921875 -1.238281 2.359375 -1.125 C 2.796875 -1.019531 3.253906 -0.96875 3.734375 -0.96875 C 4.523438 -0.96875 5.148438 -1.171875 5.609375 -1.578125 C 6.066406 -1.992188 6.296875 -2.5625 6.296875 -3.28125 C 6.296875 -3.988281 6.066406 -4.546875 5.609375 -4.953125 C 5.148438 -5.367188 4.523438 -5.578125 3.734375 -5.578125 C 3.367188 -5.578125 3 -5.535156 2.625 -5.453125 C 2.257812 -5.378906 1.890625 -5.253906 1.515625 -5.078125 Z M 1.515625 -10.203125 \"/>\n",
       "</symbol>\n",
       "<symbol overflow=\"visible\" id=\"glyph0-12\">\n",
       "<path style=\"stroke:none;\" d=\"M 4.625 -5.65625 C 4 -5.65625 3.503906 -5.441406 3.140625 -5.015625 C 2.785156 -4.585938 2.609375 -4.007812 2.609375 -3.28125 C 2.609375 -2.539062 2.785156 -1.957031 3.140625 -1.53125 C 3.503906 -1.101562 4 -0.890625 4.625 -0.890625 C 5.238281 -0.890625 5.726562 -1.101562 6.09375 -1.53125 C 6.457031 -1.957031 6.640625 -2.539062 6.640625 -3.28125 C 6.640625 -4.007812 6.457031 -4.585938 6.09375 -5.015625 C 5.726562 -5.441406 5.238281 -5.65625 4.625 -5.65625 Z M 7.359375 -9.984375 L 7.359375 -8.71875 C 7.015625 -8.882812 6.664062 -9.007812 6.3125 -9.09375 C 5.957031 -9.1875 5.609375 -9.234375 5.265625 -9.234375 C 4.347656 -9.234375 3.648438 -8.925781 3.171875 -8.3125 C 2.691406 -7.695312 2.421875 -6.765625 2.359375 -5.515625 C 2.617188 -5.910156 2.953125 -6.210938 3.359375 -6.421875 C 3.765625 -6.640625 4.210938 -6.75 4.703125 -6.75 C 5.722656 -6.75 6.53125 -6.4375 7.125 -5.8125 C 7.726562 -5.1875 8.03125 -4.34375 8.03125 -3.28125 C 8.03125 -2.226562 7.71875 -1.382812 7.09375 -0.75 C 6.476562 -0.113281 5.65625 0.203125 4.625 0.203125 C 3.4375 0.203125 2.53125 -0.25 1.90625 -1.15625 C 1.289062 -2.0625 0.984375 -3.375 0.984375 -5.09375 C 0.984375 -6.707031 1.363281 -7.992188 2.125 -8.953125 C 2.894531 -9.910156 3.921875 -10.390625 5.203125 -10.390625 C 5.554688 -10.390625 5.90625 -10.351562 6.25 -10.28125 C 6.601562 -10.21875 6.972656 -10.117188 7.359375 -9.984375 Z M 7.359375 -9.984375 \"/>\n",
       "</symbol>\n",
       "<symbol overflow=\"visible\" id=\"glyph0-13\">\n",
       "<path style=\"stroke:none;\" d=\"M 1.15625 -10.203125 L 7.71875 -10.203125 L 7.71875 -9.625 L 4 0 L 2.5625 0 L 6.046875 -9.046875 L 1.15625 -9.046875 Z M 1.15625 -10.203125 \"/>\n",
       "</symbol>\n",
       "<symbol overflow=\"visible\" id=\"glyph0-14\">\n",
       "<path style=\"stroke:none;\" d=\"M 4.453125 -4.84375 C 3.796875 -4.84375 3.28125 -4.664062 2.90625 -4.3125 C 2.53125 -3.96875 2.34375 -3.488281 2.34375 -2.875 C 2.34375 -2.257812 2.53125 -1.773438 2.90625 -1.421875 C 3.28125 -1.066406 3.796875 -0.890625 4.453125 -0.890625 C 5.109375 -0.890625 5.625 -1.066406 6 -1.421875 C 6.375 -1.773438 6.5625 -2.257812 6.5625 -2.875 C 6.5625 -3.488281 6.375 -3.96875 6 -4.3125 C 5.625 -4.664062 5.109375 -4.84375 4.453125 -4.84375 Z M 3.0625 -5.4375 C 2.476562 -5.582031 2.019531 -5.859375 1.6875 -6.265625 C 1.351562 -6.671875 1.1875 -7.164062 1.1875 -7.75 C 1.1875 -8.5625 1.476562 -9.203125 2.0625 -9.671875 C 2.644531 -10.148438 3.441406 -10.390625 4.453125 -10.390625 C 5.460938 -10.390625 6.257812 -10.148438 6.84375 -9.671875 C 7.425781 -9.203125 7.71875 -8.5625 7.71875 -7.75 C 7.71875 -7.164062 7.550781 -6.671875 7.21875 -6.265625 C 6.882812 -5.859375 6.425781 -5.582031 5.84375 -5.4375 C 6.507812 -5.28125 7.023438 -4.972656 7.390625 -4.515625 C 7.765625 -4.066406 7.953125 -3.519531 7.953125 -2.875 C 7.953125 -1.882812 7.648438 -1.125 7.046875 -0.59375 C 6.441406 -0.0625 5.578125 0.203125 4.453125 0.203125 C 3.328125 0.203125 2.460938 -0.0625 1.859375 -0.59375 C 1.253906 -1.125 0.953125 -1.882812 0.953125 -2.875 C 0.953125 -3.519531 1.140625 -4.066406 1.515625 -4.515625 C 1.890625 -4.972656 2.40625 -5.28125 3.0625 -5.4375 Z M 2.5625 -7.609375 C 2.5625 -7.085938 2.726562 -6.675781 3.0625 -6.375 C 3.394531 -6.082031 3.859375 -5.9375 4.453125 -5.9375 C 5.046875 -5.9375 5.507812 -6.082031 5.84375 -6.375 C 6.175781 -6.675781 6.34375 -7.085938 6.34375 -7.609375 C 6.34375 -8.140625 6.175781 -8.550781 5.84375 -8.84375 C 5.507812 -9.144531 5.046875 -9.296875 4.453125 -9.296875 C 3.859375 -9.296875 3.394531 -9.144531 3.0625 -8.84375 C 2.726562 -8.550781 2.5625 -8.140625 2.5625 -7.609375 Z M 2.5625 -7.609375 \"/>\n",
       "</symbol>\n",
       "<symbol overflow=\"visible\" id=\"glyph0-15\">\n",
       "<path style=\"stroke:none;\" d=\"M 1.53125 -0.21875 L 1.53125 -1.46875 C 1.882812 -1.300781 2.238281 -1.175781 2.59375 -1.09375 C 2.945312 -1.007812 3.296875 -0.96875 3.640625 -0.96875 C 4.546875 -0.96875 5.238281 -1.269531 5.71875 -1.875 C 6.207031 -2.488281 6.484375 -3.421875 6.546875 -4.671875 C 6.285156 -4.285156 5.953125 -3.984375 5.546875 -3.765625 C 5.140625 -3.554688 4.691406 -3.453125 4.203125 -3.453125 C 3.179688 -3.453125 2.367188 -3.757812 1.765625 -4.375 C 1.171875 -5 0.875 -5.847656 0.875 -6.921875 C 0.875 -7.960938 1.179688 -8.800781 1.796875 -9.4375 C 2.421875 -10.070312 3.25 -10.390625 4.28125 -10.390625 C 5.46875 -10.390625 6.367188 -9.9375 6.984375 -9.03125 C 7.609375 -8.125 7.921875 -6.8125 7.921875 -5.09375 C 7.921875 -3.488281 7.539062 -2.203125 6.78125 -1.234375 C 6.019531 -0.273438 4.992188 0.203125 3.703125 0.203125 C 3.347656 0.203125 2.992188 0.164062 2.640625 0.09375 C 2.285156 0.03125 1.914062 -0.0703125 1.53125 -0.21875 Z M 4.28125 -4.546875 C 4.90625 -4.546875 5.394531 -4.753906 5.75 -5.171875 C 6.113281 -5.597656 6.296875 -6.179688 6.296875 -6.921875 C 6.296875 -7.648438 6.113281 -8.226562 5.75 -8.65625 C 5.394531 -9.082031 4.90625 -9.296875 4.28125 -9.296875 C 3.664062 -9.296875 3.175781 -9.082031 2.8125 -8.65625 C 2.445312 -8.226562 2.265625 -7.648438 2.265625 -6.921875 C 2.265625 -6.179688 2.445312 -5.597656 2.8125 -5.171875 C 3.175781 -4.753906 3.664062 -4.546875 4.28125 -4.546875 Z M 4.28125 -4.546875 \"/>\n",
       "</symbol>\n",
       "<symbol overflow=\"visible\" id=\"glyph0-16\">\n",
       "<path style=\"stroke:none;\" d=\"M 4.453125 -9.296875 C 3.742188 -9.296875 3.207031 -8.945312 2.84375 -8.25 C 2.488281 -7.550781 2.3125 -6.5 2.3125 -5.09375 C 2.3125 -3.695312 2.488281 -2.644531 2.84375 -1.9375 C 3.207031 -1.238281 3.742188 -0.890625 4.453125 -0.890625 C 5.171875 -0.890625 5.707031 -1.238281 6.0625 -1.9375 C 6.414062 -2.644531 6.59375 -3.695312 6.59375 -5.09375 C 6.59375 -6.5 6.414062 -7.550781 6.0625 -8.25 C 5.707031 -8.945312 5.171875 -9.296875 4.453125 -9.296875 Z M 4.453125 -10.390625 C 5.597656 -10.390625 6.472656 -9.9375 7.078125 -9.03125 C 7.679688 -8.125 7.984375 -6.8125 7.984375 -5.09375 C 7.984375 -3.375 7.679688 -2.0625 7.078125 -1.15625 C 6.472656 -0.25 5.597656 0.203125 4.453125 0.203125 C 3.304688 0.203125 2.429688 -0.25 1.828125 -1.15625 C 1.222656 -2.0625 0.921875 -3.375 0.921875 -5.09375 C 0.921875 -6.8125 1.222656 -8.125 1.828125 -9.03125 C 2.429688 -9.9375 3.304688 -10.390625 4.453125 -10.390625 Z M 4.453125 -10.390625 \"/>\n",
       "</symbol>\n",
       "<symbol overflow=\"visible\" id=\"glyph0-17\">\n",
       "<path style=\"stroke:none;\" d=\"M 2.5625 -9.828125 L 2.5625 -7.65625 L 5.15625 -7.65625 L 5.15625 -6.671875 L 2.5625 -6.671875 L 2.5625 -2.515625 C 2.5625 -1.898438 2.644531 -1.5 2.8125 -1.3125 C 2.988281 -1.132812 3.335938 -1.046875 3.859375 -1.046875 L 5.15625 -1.046875 L 5.15625 0 L 3.859375 0 C 2.890625 0 2.21875 -0.179688 1.84375 -0.546875 C 1.476562 -0.910156 1.296875 -1.566406 1.296875 -2.515625 L 1.296875 -6.671875 L 0.375 -6.671875 L 0.375 -7.65625 L 1.296875 -7.65625 L 1.296875 -9.828125 Z M 2.5625 -9.828125 \"/>\n",
       "</symbol>\n",
       "<symbol overflow=\"visible\" id=\"glyph0-18\">\n",
       "<path style=\"stroke:none;\" d=\"M 4.796875 -3.84375 C 3.785156 -3.84375 3.082031 -3.726562 2.6875 -3.5 C 2.289062 -3.269531 2.09375 -2.875 2.09375 -2.3125 C 2.09375 -1.863281 2.238281 -1.507812 2.53125 -1.25 C 2.832031 -0.988281 3.234375 -0.859375 3.734375 -0.859375 C 4.429688 -0.859375 4.988281 -1.101562 5.40625 -1.59375 C 5.832031 -2.09375 6.046875 -2.75 6.046875 -3.5625 L 6.046875 -3.84375 Z M 7.3125 -4.375 L 7.3125 0 L 6.046875 0 L 6.046875 -1.15625 C 5.765625 -0.695312 5.40625 -0.351562 4.96875 -0.125 C 4.539062 0.09375 4.019531 0.203125 3.40625 0.203125 C 2.625 0.203125 2 -0.015625 1.53125 -0.453125 C 1.070312 -0.898438 0.84375 -1.492188 0.84375 -2.234375 C 0.84375 -3.085938 1.128906 -3.734375 1.703125 -4.171875 C 2.285156 -4.609375 3.144531 -4.828125 4.28125 -4.828125 L 6.046875 -4.828125 L 6.046875 -4.953125 C 6.046875 -5.535156 5.851562 -5.984375 5.46875 -6.296875 C 5.09375 -6.617188 4.5625 -6.78125 3.875 -6.78125 C 3.4375 -6.78125 3.007812 -6.722656 2.59375 -6.609375 C 2.175781 -6.503906 1.78125 -6.347656 1.40625 -6.140625 L 1.40625 -7.3125 C 1.863281 -7.488281 2.304688 -7.617188 2.734375 -7.703125 C 3.171875 -7.796875 3.59375 -7.84375 4 -7.84375 C 5.113281 -7.84375 5.941406 -7.554688 6.484375 -6.984375 C 7.035156 -6.410156 7.3125 -5.539062 7.3125 -4.375 Z M 7.3125 -4.375 \"/>\n",
       "</symbol>\n",
       "<symbol overflow=\"visible\" id=\"glyph0-19\">\n",
       "<path style=\"stroke:none;\" d=\"M 7.6875 -4.625 L 7.6875 0 L 6.421875 0 L 6.421875 -4.578125 C 6.421875 -5.304688 6.28125 -5.847656 6 -6.203125 C 5.71875 -6.566406 5.296875 -6.75 4.734375 -6.75 C 4.054688 -6.75 3.519531 -6.53125 3.125 -6.09375 C 2.726562 -5.664062 2.53125 -5.078125 2.53125 -4.328125 L 2.53125 0 L 1.265625 0 L 1.265625 -7.65625 L 2.53125 -7.65625 L 2.53125 -6.46875 C 2.832031 -6.925781 3.1875 -7.269531 3.59375 -7.5 C 4.007812 -7.726562 4.484375 -7.84375 5.015625 -7.84375 C 5.890625 -7.84375 6.550781 -7.566406 7 -7.015625 C 7.457031 -6.472656 7.6875 -5.675781 7.6875 -4.625 Z M 7.6875 -4.625 \"/>\n",
       "</symbol>\n",
       "<symbol overflow=\"visible\" id=\"glyph0-20\">\n",
       "<path style=\"stroke:none;\" d=\"M 1.265625 -10.640625 L 2.53125 -10.640625 L 2.53125 -4.359375 L 6.296875 -7.65625 L 7.890625 -7.65625 L 3.828125 -4.078125 L 8.0625 0 L 6.421875 0 L 2.53125 -3.734375 L 2.53125 0 L 1.265625 0 Z M 1.265625 -10.640625 \"/>\n",
       "</symbol>\n",
       "</g>\n",
       "</defs>\n",
       "<g id=\"surface30\">\n",
       "<rect x=\"0\" y=\"0\" width=\"850\" height=\"100\" style=\"fill:rgb(100%,100%,100%);fill-opacity:1;stroke:none;\"/>\n",
       "<path style=\"fill:none;stroke-width:2;stroke-linecap:butt;stroke-linejoin:miter;stroke:rgb(26.666667%,26.666667%,26.666667%);stroke-opacity:1;stroke-miterlimit:10;\" d=\"M 20 20 L 66.167969 20 \"/>\n",
       "<path style=\" stroke:none;fill-rule:nonzero;fill:rgb(26.666667%,26.666667%,26.666667%);fill-opacity:1;\" d=\"M 80.433594 20 L 66.167969 24.636719 L 66.167969 15.363281 L 80.433594 20 \"/>\n",
       "<path style=\"fill:none;stroke-width:1;stroke-linecap:butt;stroke-linejoin:miter;stroke:rgb(26.666667%,26.666667%,26.666667%);stroke-opacity:1;stroke-miterlimit:10;\" d=\"M 90.433594 20 L 118.035156 20 \"/>\n",
       "<path style=\" stroke:none;fill-rule:nonzero;fill:rgb(26.666667%,26.666667%,26.666667%);fill-opacity:1;\" d=\"M 132.300781 20 L 118.035156 24.636719 L 118.035156 15.363281 L 132.300781 20 \"/>\n",
       "<path style=\"fill:none;stroke-width:1;stroke-linecap:butt;stroke-linejoin:miter;stroke:rgb(26.666667%,26.666667%,26.666667%);stroke-opacity:1;stroke-miterlimit:10;\" d=\"M 142.300781 20 L 162.007812 20 \"/>\n",
       "<path style=\" stroke:none;fill-rule:nonzero;fill:rgb(26.666667%,26.666667%,26.666667%);fill-opacity:1;\" d=\"M 176.273438 20 L 162.007812 24.636719 L 162.007812 15.363281 L 176.273438 20 \"/>\n",
       "<path style=\"fill:none;stroke-width:1;stroke-linecap:butt;stroke-linejoin:miter;stroke:rgb(26.666667%,26.666667%,26.666667%);stroke-opacity:1;stroke-miterlimit:10;\" d=\"M 186.273438 20 L 210.679688 20 \"/>\n",
       "<path style=\" stroke:none;fill-rule:nonzero;fill:rgb(26.666667%,26.666667%,26.666667%);fill-opacity:1;\" d=\"M 224.945312 20 L 210.679688 24.636719 L 210.679688 15.363281 L 224.945312 20 \"/>\n",
       "<path style=\"fill:none;stroke-width:1;stroke-linecap:butt;stroke-linejoin:miter;stroke:rgb(26.666667%,26.666667%,26.666667%);stroke-opacity:1;stroke-miterlimit:10;\" d=\"M 234.945312 20 L 246.863281 20 \"/>\n",
       "<path style=\" stroke:none;fill-rule:nonzero;fill:rgb(26.666667%,26.666667%,26.666667%);fill-opacity:1;\" d=\"M 261.132812 20 L 246.863281 24.636719 L 246.863281 15.363281 L 261.132812 20 \"/>\n",
       "<path style=\"fill:none;stroke-width:1;stroke-linecap:butt;stroke-linejoin:miter;stroke:rgb(26.666667%,26.666667%,26.666667%);stroke-opacity:1;stroke-miterlimit:10;\" d=\"M 271.132812 20 L 281.667969 56.675781 \"/>\n",
       "<path style=\" stroke:none;fill-rule:nonzero;fill:rgb(26.666667%,26.666667%,26.666667%);fill-opacity:1;\" d=\"M 285.605469 70.386719 L 277.210938 57.957031 L 286.121094 55.398438 L 285.605469 70.386719 \"/>\n",
       "<path style=\"fill:none;stroke-width:1;stroke-linecap:butt;stroke-linejoin:miter;stroke:rgb(26.666667%,26.666667%,26.666667%);stroke-opacity:1;stroke-miterlimit:10;\" d=\"M 234.945312 20 L 272.230469 61.875 \"/>\n",
       "<path style=\" stroke:none;fill-rule:nonzero;fill:rgb(26.666667%,26.666667%,26.666667%);fill-opacity:1;\" d=\"M 281.714844 72.53125 L 268.765625 64.957031 L 275.691406 58.792969 L 281.714844 72.53125 \"/>\n",
       "<path style=\"fill:none;stroke-width:1;stroke-linecap:butt;stroke-linejoin:miter;stroke:rgb(26.666667%,26.666667%,26.666667%);stroke-opacity:1;stroke-miterlimit:10;\" d=\"M 288.367188 80 L 324.96875 38.246094 \"/>\n",
       "<path style=\" stroke:none;fill-rule:nonzero;fill:rgb(26.666667%,26.666667%,26.666667%);fill-opacity:1;\" d=\"M 334.371094 27.519531 L 328.453125 41.300781 L 321.484375 35.191406 L 334.371094 27.519531 \"/>\n",
       "<path style=\"fill:none;stroke-width:1;stroke-linecap:butt;stroke-linejoin:miter;stroke:rgb(26.666667%,26.666667%,26.666667%);stroke-opacity:1;stroke-miterlimit:10;\" d=\"M 340.964844 20 L 356.304688 20 \"/>\n",
       "<path style=\" stroke:none;fill-rule:nonzero;fill:rgb(26.666667%,26.666667%,26.666667%);fill-opacity:1;\" d=\"M 370.570312 20 L 356.304688 24.636719 L 356.304688 15.363281 L 370.570312 20 \"/>\n",
       "<path style=\"fill:none;stroke-width:1;stroke-linecap:butt;stroke-linejoin:miter;stroke:rgb(26.666667%,26.666667%,26.666667%);stroke-opacity:1;stroke-miterlimit:10;\" d=\"M 380.570312 20 L 410.449219 20 \"/>\n",
       "<path style=\" stroke:none;fill-rule:nonzero;fill:rgb(26.666667%,26.666667%,26.666667%);fill-opacity:1;\" d=\"M 424.714844 20 L 410.449219 24.636719 L 410.449219 15.363281 L 424.714844 20 \"/>\n",
       "<path style=\"fill:none;stroke-width:1;stroke-linecap:butt;stroke-linejoin:miter;stroke:rgb(26.666667%,26.666667%,26.666667%);stroke-opacity:1;stroke-miterlimit:10;\" d=\"M 20 20 L 450.542969 20 \"/>\n",
       "<path style=\" stroke:none;fill-rule:nonzero;fill:rgb(26.666667%,26.666667%,26.666667%);fill-opacity:1;\" d=\"M 464.808594 20 L 450.542969 24.636719 L 450.542969 15.363281 L 464.808594 20 \"/>\n",
       "<path style=\"fill:none;stroke-width:1;stroke-linecap:butt;stroke-linejoin:miter;stroke:rgb(26.666667%,26.666667%,26.666667%);stroke-opacity:1;stroke-miterlimit:10;\" d=\"M 474.808594 20 L 502.164062 59.972656 \"/>\n",
       "<path style=\" stroke:none;fill-rule:nonzero;fill:rgb(26.666667%,26.666667%,26.666667%);fill-opacity:1;\" d=\"M 510.222656 71.746094 L 498.339844 62.59375 L 505.988281 57.355469 L 510.222656 71.746094 \"/>\n",
       "<path style=\"fill:none;stroke-width:1;stroke-linecap:butt;stroke-linejoin:miter;stroke:rgb(26.666667%,26.666667%,26.666667%);stroke-opacity:1;stroke-miterlimit:10;\" d=\"M 434.714844 20 L 496.355469 65.574219 \"/>\n",
       "<path style=\" stroke:none;fill-rule:nonzero;fill:rgb(26.666667%,26.666667%,26.666667%);fill-opacity:1;\" d=\"M 507.828125 74.054688 L 493.601562 69.300781 L 499.113281 61.847656 L 507.828125 74.054688 \"/>\n",
       "<path style=\"fill:none;stroke-width:1;stroke-linecap:butt;stroke-linejoin:miter;stroke:rgb(26.666667%,26.666667%,26.666667%);stroke-opacity:1;stroke-miterlimit:10;\" d=\"M 515.867188 80 L 532.097656 42.289062 \"/>\n",
       "<path style=\" stroke:none;fill-rule:nonzero;fill:rgb(26.666667%,26.666667%,26.666667%);fill-opacity:1;\" d=\"M 537.738281 29.183594 L 536.355469 44.121094 L 527.839844 40.457031 L 537.738281 29.183594 \"/>\n",
       "<path style=\"fill:none;stroke-width:1;stroke-linecap:butt;stroke-linejoin:miter;stroke:rgb(26.666667%,26.666667%,26.666667%);stroke-opacity:1;stroke-miterlimit:10;\" d=\"M 515.867188 80 L 563.015625 36.460938 \"/>\n",
       "<path style=\" stroke:none;fill-rule:nonzero;fill:rgb(26.666667%,26.666667%,26.666667%);fill-opacity:1;\" d=\"M 573.5 26.785156 L 566.160156 39.867188 L 559.871094 33.058594 L 573.5 26.785156 \"/>\n",
       "<path style=\"fill:none;stroke-width:1;stroke-linecap:butt;stroke-linejoin:miter;stroke:rgb(26.666667%,26.666667%,26.666667%);stroke-opacity:1;stroke-miterlimit:10;\" d=\"M 580.84375 20 L 612.386719 20 \"/>\n",
       "<path style=\" stroke:none;fill-rule:nonzero;fill:rgb(26.666667%,26.666667%,26.666667%);fill-opacity:1;\" d=\"M 626.652344 20 L 612.386719 24.636719 L 612.386719 15.363281 L 626.652344 20 \"/>\n",
       "<path style=\"fill:none;stroke-width:1;stroke-linecap:butt;stroke-linejoin:miter;stroke:rgb(26.666667%,26.666667%,26.666667%);stroke-opacity:1;stroke-miterlimit:10;\" d=\"M 636.652344 20 L 656.75 20 \"/>\n",
       "<path style=\" stroke:none;fill-rule:nonzero;fill:rgb(26.666667%,26.666667%,26.666667%);fill-opacity:1;\" d=\"M 671.015625 20 L 656.75 24.636719 L 656.75 15.363281 L 671.015625 20 \"/>\n",
       "<path style=\"fill:none;stroke-width:1;stroke-linecap:butt;stroke-linejoin:miter;stroke:rgb(26.666667%,26.666667%,26.666667%);stroke-opacity:1;stroke-miterlimit:10;\" d=\"M 681.015625 20 L 704.566406 20 \"/>\n",
       "<path style=\" stroke:none;fill-rule:nonzero;fill:rgb(26.666667%,26.666667%,26.666667%);fill-opacity:1;\" d=\"M 718.832031 20 L 704.566406 24.636719 L 704.566406 15.363281 L 718.832031 20 \"/>\n",
       "<path style=\"fill:none;stroke-width:1;stroke-linecap:butt;stroke-linejoin:miter;stroke:rgb(26.666667%,26.666667%,26.666667%);stroke-opacity:1;stroke-miterlimit:10;\" d=\"M 20 20 L 735.300781 20 \"/>\n",
       "<path style=\" stroke:none;fill-rule:nonzero;fill:rgb(26.666667%,26.666667%,26.666667%);fill-opacity:1;\" d=\"M 749.566406 20 L 735.300781 24.636719 L 735.300781 15.363281 L 749.566406 20 \"/>\n",
       "<path style=\"fill:none;stroke-width:1;stroke-linecap:butt;stroke-linejoin:miter;stroke:rgb(26.666667%,26.666667%,26.666667%);stroke-opacity:1;stroke-miterlimit:10;\" d=\"M 541.691406 20 L 805.734375 20 \"/>\n",
       "<path style=\" stroke:none;fill-rule:nonzero;fill:rgb(26.666667%,26.666667%,26.666667%);fill-opacity:1;\" d=\"M 820 20 L 805.734375 24.636719 L 805.734375 15.363281 L 820 20 \"/>\n",
       "<path style=\"fill:none;stroke-width:1;stroke-linecap:butt;stroke-linejoin:miter;stroke:rgb(26.666667%,26.666667%,26.666667%);stroke-opacity:1;stroke-miterlimit:10;\" d=\"M 728.832031 20 L 805.734375 20 \"/>\n",
       "<path style=\" stroke:none;fill-rule:nonzero;fill:rgb(26.666667%,26.666667%,26.666667%);fill-opacity:1;\" d=\"M 820 20 L 805.734375 24.636719 L 805.734375 15.363281 L 820 20 \"/>\n",
       "<path style=\"fill:none;stroke-width:1;stroke-linecap:butt;stroke-linejoin:miter;stroke:rgb(26.666667%,26.666667%,26.666667%);stroke-opacity:1;stroke-miterlimit:10;\" d=\"M 759.566406 20 L 805.734375 20 \"/>\n",
       "<path style=\" stroke:none;fill-rule:nonzero;fill:rgb(26.666667%,26.666667%,26.666667%);fill-opacity:1;\" d=\"M 820 20 L 805.734375 24.636719 L 805.734375 15.363281 L 820 20 \"/>\n",
       "<path style=\"fill-rule:nonzero;fill:rgb(100%,0%,0%);fill-opacity:1;stroke-width:1;stroke-linecap:butt;stroke-linejoin:miter;stroke:rgb(0%,0%,0%);stroke-opacity:1;stroke-miterlimit:10;\" d=\"M 30 20 C 30 25.523438 25.523438 30 20 30 C 14.476562 30 10 25.523438 10 20 C 10 14.476562 14.476562 10 20 10 C 25.523438 10 30 14.476562 30 20 \"/>\n",
       "<path style=\"fill-rule:nonzero;fill:rgb(17.2719%,44.8791%,55.7885%);fill-opacity:1;stroke-width:1;stroke-linecap:butt;stroke-linejoin:miter;stroke:rgb(0%,0%,0%);stroke-opacity:1;stroke-miterlimit:10;\" d=\"M 100.433594 20 C 100.433594 25.523438 95.957031 30 90.433594 30 C 84.910156 30 80.433594 25.523438 80.433594 20 C 80.433594 14.476562 84.910156 10 90.433594 10 C 95.957031 10 100.433594 14.476562 100.433594 20 \"/>\n",
       "<path style=\"fill-rule:nonzero;fill:rgb(16.6383%,69.0856%,49.6502%);fill-opacity:1;stroke-width:1;stroke-linecap:butt;stroke-linejoin:miter;stroke:rgb(0%,0%,0%);stroke-opacity:1;stroke-miterlimit:10;\" d=\"M 152.300781 20 C 152.300781 25.523438 147.824219 30 142.300781 30 C 136.777344 30 132.300781 25.523438 132.300781 20 C 132.300781 14.476562 136.777344 10 142.300781 10 C 147.824219 10 152.300781 14.476562 152.300781 20 \"/>\n",
       "<path style=\"fill-rule:nonzero;fill:rgb(46.8053%,81.8921%,32.3998%);fill-opacity:1;stroke-width:1;stroke-linecap:butt;stroke-linejoin:miter;stroke:rgb(0%,0%,0%);stroke-opacity:1;stroke-miterlimit:10;\" d=\"M 196.273438 20 C 196.273438 25.523438 191.796875 30 186.273438 30 C 180.75 30 176.273438 25.523438 176.273438 20 C 176.273438 14.476562 180.75 10 186.273438 10 C 191.796875 10 196.273438 14.476562 196.273438 20 \"/>\n",
       "<path style=\"fill-rule:nonzero;fill:rgb(48.7026%,82.3929%,31.2321%);fill-opacity:1;stroke-width:1;stroke-linecap:butt;stroke-linejoin:miter;stroke:rgb(0%,0%,0%);stroke-opacity:1;stroke-miterlimit:10;\" d=\"M 244.945312 20 C 244.945312 25.523438 240.46875 30 234.945312 30 C 229.421875 30 224.945312 25.523438 224.945312 20 C 224.945312 14.476562 229.421875 10 234.945312 10 C 240.46875 10 244.945312 14.476562 244.945312 20 \"/>\n",
       "<path style=\"fill-rule:nonzero;fill:rgb(22.3925%,33.4994%,54.8053%);fill-opacity:1;stroke-width:1;stroke-linecap:butt;stroke-linejoin:miter;stroke:rgb(0%,0%,0%);stroke-opacity:1;stroke-miterlimit:10;\" d=\"M 281.132812 20 C 281.132812 25.523438 276.652344 30 271.132812 30 C 265.609375 30 261.132812 25.523438 261.132812 20 C 261.132812 14.476562 265.609375 10 271.132812 10 C 276.652344 10 281.132812 14.476562 281.132812 20 \"/>\n",
       "<path style=\"fill-rule:nonzero;fill:rgb(31.9809%,77.0914%,41.1152%);fill-opacity:1;stroke-width:1;stroke-linecap:butt;stroke-linejoin:miter;stroke:rgb(0%,0%,0%);stroke-opacity:1;stroke-miterlimit:10;\" d=\"M 298.367188 80 C 298.367188 85.523438 293.886719 90 288.367188 90 C 282.84375 90 278.367188 85.523438 278.367188 80 C 278.367188 74.476562 282.84375 70 288.367188 70 C 293.886719 70 298.367188 74.476562 298.367188 80 \"/>\n",
       "<path style=\"fill-rule:nonzero;fill:rgb(46.8053%,81.8921%,32.3998%);fill-opacity:1;stroke-width:1;stroke-linecap:butt;stroke-linejoin:miter;stroke:rgb(0%,0%,0%);stroke-opacity:1;stroke-miterlimit:10;\" d=\"M 350.964844 20 C 350.964844 25.523438 346.488281 30 340.964844 30 C 335.441406 30 330.964844 25.523438 330.964844 20 C 330.964844 14.476562 335.441406 10 340.964844 10 C 346.488281 10 350.964844 14.476562 350.964844 20 \"/>\n",
       "<path style=\"fill-rule:nonzero;fill:rgb(99.3248%,90.6157%,14.3936%);fill-opacity:1;stroke-width:1;stroke-linecap:butt;stroke-linejoin:miter;stroke:rgb(0%,0%,0%);stroke-opacity:1;stroke-miterlimit:10;\" d=\"M 390.570312 20 C 390.570312 25.523438 386.09375 30 380.570312 30 C 375.046875 30 370.570312 25.523438 370.570312 20 C 370.570312 14.476562 375.046875 10 380.570312 10 C 386.09375 10 390.570312 14.476562 390.570312 20 \"/>\n",
       "<path style=\"fill-rule:nonzero;fill:rgb(87.6168%,89.1125%,9.525%);fill-opacity:1;stroke-width:1;stroke-linecap:butt;stroke-linejoin:miter;stroke:rgb(0%,0%,0%);stroke-opacity:1;stroke-miterlimit:10;\" d=\"M 444.714844 20 C 444.714844 25.523438 440.238281 30 434.714844 30 C 429.195312 30 424.714844 25.523438 424.714844 20 C 424.714844 14.476562 429.195312 10 434.714844 10 C 440.238281 10 444.714844 14.476562 444.714844 20 \"/>\n",
       "<path style=\"fill-rule:nonzero;fill:rgb(28.0267%,7.3417%,39.7163%);fill-opacity:1;stroke-width:1;stroke-linecap:butt;stroke-linejoin:miter;stroke:rgb(0%,0%,0%);stroke-opacity:1;stroke-miterlimit:10;\" d=\"M 484.808594 20 C 484.808594 25.523438 480.332031 30 474.808594 30 C 469.285156 30 464.808594 25.523438 464.808594 20 C 464.808594 14.476562 469.285156 10 474.808594 10 C 480.332031 10 484.808594 14.476562 484.808594 20 \"/>\n",
       "<path style=\"fill-rule:nonzero;fill:rgb(32.7796%,77.398%,40.664%);fill-opacity:1;stroke-width:1;stroke-linecap:butt;stroke-linejoin:miter;stroke:rgb(0%,0%,0%);stroke-opacity:1;stroke-miterlimit:10;\" d=\"M 525.867188 80 C 525.867188 85.523438 521.390625 90 515.867188 90 C 510.347656 90 505.867188 85.523438 505.867188 80 C 505.867188 74.476562 510.347656 70 515.867188 70 C 521.390625 70 525.867188 74.476562 525.867188 80 \"/>\n",
       "<path style=\"fill-rule:nonzero;fill:rgb(27.3809%,3.1497%,35.8853%);fill-opacity:1;stroke-width:1;stroke-linecap:butt;stroke-linejoin:miter;stroke:rgb(0%,0%,0%);stroke-opacity:1;stroke-miterlimit:10;\" d=\"M 551.691406 20 C 551.691406 25.523438 547.214844 30 541.691406 30 C 536.167969 30 531.691406 25.523438 531.691406 20 C 531.691406 14.476562 536.167969 10 541.691406 10 C 547.214844 10 551.691406 14.476562 551.691406 20 \"/>\n",
       "<path style=\"fill-rule:nonzero;fill:rgb(37.7779%,79.1781%,37.7939%);fill-opacity:1;stroke-width:1;stroke-linecap:butt;stroke-linejoin:miter;stroke:rgb(0%,0%,0%);stroke-opacity:1;stroke-miterlimit:10;\" d=\"M 590.84375 20 C 590.84375 25.523438 586.367188 30 580.84375 30 C 575.320312 30 570.84375 25.523438 570.84375 20 C 570.84375 14.476562 575.320312 10 580.84375 10 C 586.367188 10 590.84375 14.476562 590.84375 20 \"/>\n",
       "<path style=\"fill-rule:nonzero;fill:rgb(44.9368%,81.3768%,33.5384%);fill-opacity:1;stroke-width:1;stroke-linecap:butt;stroke-linejoin:miter;stroke:rgb(0%,0%,0%);stroke-opacity:1;stroke-miterlimit:10;\" d=\"M 646.652344 20 C 646.652344 25.523438 642.175781 30 636.652344 30 C 631.132812 30 626.652344 25.523438 626.652344 20 C 626.652344 14.476562 631.132812 10 636.652344 10 C 642.175781 10 646.652344 14.476562 646.652344 20 \"/>\n",
       "<path style=\"fill-rule:nonzero;fill:rgb(39.5174%,79.7475%,36.7757%);fill-opacity:1;stroke-width:1;stroke-linecap:butt;stroke-linejoin:miter;stroke:rgb(0%,0%,0%);stroke-opacity:1;stroke-miterlimit:10;\" d=\"M 691.015625 20 C 691.015625 25.523438 686.539062 30 681.015625 30 C 675.492188 30 671.015625 25.523438 671.015625 20 C 671.015625 14.476562 675.492188 10 681.015625 10 C 686.539062 10 691.015625 14.476562 691.015625 20 \"/>\n",
       "<path style=\"fill-rule:nonzero;fill:rgb(14.9039%,50.8051%,55.725%);fill-opacity:1;stroke-width:1;stroke-linecap:butt;stroke-linejoin:miter;stroke:rgb(0%,0%,0%);stroke-opacity:1;stroke-miterlimit:10;\" d=\"M 738.832031 20 C 738.832031 25.523438 734.355469 30 728.832031 30 C 723.308594 30 718.832031 25.523438 718.832031 20 C 718.832031 14.476562 723.308594 10 728.832031 10 C 734.355469 10 738.832031 14.476562 738.832031 20 \"/>\n",
       "<path style=\"fill-rule:nonzero;fill:rgb(27.1305%,1.9942%,34.7269%);fill-opacity:1;stroke-width:1;stroke-linecap:butt;stroke-linejoin:miter;stroke:rgb(0%,0%,0%);stroke-opacity:1;stroke-miterlimit:10;\" d=\"M 769.566406 20 C 769.566406 25.523438 765.089844 30 759.566406 30 C 754.042969 30 749.566406 25.523438 749.566406 20 C 749.566406 14.476562 754.042969 10 759.566406 10 C 765.089844 10 769.566406 14.476562 769.566406 20 \"/>\n",
       "<path style=\"fill-rule:nonzero;fill:rgb(100%,0%,0%);fill-opacity:1;stroke-width:1;stroke-linecap:butt;stroke-linejoin:miter;stroke:rgb(0%,0%,0%);stroke-opacity:1;stroke-miterlimit:10;\" d=\"M 840 20 C 840 25.523438 835.523438 30 830 30 C 824.476562 30 820 25.523438 820 20 C 820 14.476562 824.476562 10 830 10 C 835.523438 10 840 14.476562 840 20 \"/>\n",
       "<g style=\"fill:rgb(0%,0%,0%);fill-opacity:1;\">\n",
       "  <use xlink:href=\"#glyph0-1\" x=\"-3.40625\" y=\"25.570312\"/>\n",
       "  <use xlink:href=\"#glyph0-2\" x=\"3.887695\" y=\"25.570312\"/>\n",
       "  <use xlink:href=\"#glyph0-3\" x=\"12.453125\" y=\"25.570312\"/>\n",
       "  <use xlink:href=\"#glyph0-4\" x=\"21.326172\" y=\"25.570312\"/>\n",
       "  <use xlink:href=\"#glyph0-5\" x=\"27.082031\" y=\"25.570312\"/>\n",
       "  <use xlink:href=\"#glyph0-6\" x=\"34.779297\" y=\"25.570312\"/>\n",
       "</g>\n",
       "<g style=\"fill:rgb(0%,0%,0%);fill-opacity:1;\">\n",
       "  <use xlink:href=\"#glyph0-7\" x=\"85.859375\" y=\"26.753906\"/>\n",
       "</g>\n",
       "<g style=\"fill:rgb(0%,0%,0%);fill-opacity:1;\">\n",
       "  <use xlink:href=\"#glyph0-8\" x=\"138.035156\" y=\"26.847656\"/>\n",
       "</g>\n",
       "<g style=\"fill:rgb(0%,0%,0%);fill-opacity:1;\">\n",
       "  <use xlink:href=\"#glyph0-9\" x=\"181.847656\" y=\"26.847656\"/>\n",
       "</g>\n",
       "<g style=\"fill:rgb(0%,0%,0%);fill-opacity:1;\">\n",
       "  <use xlink:href=\"#glyph0-10\" x=\"230.542969\" y=\"26.753906\"/>\n",
       "</g>\n",
       "<g style=\"fill:rgb(0%,0%,0%);fill-opacity:1;\">\n",
       "  <use xlink:href=\"#glyph0-11\" x=\"266.75\" y=\"26.753906\"/>\n",
       "</g>\n",
       "<g style=\"fill:rgb(0%,0%,0%);fill-opacity:1;\">\n",
       "  <use xlink:href=\"#glyph0-12\" x=\"283.863281\" y=\"86.847656\"/>\n",
       "</g>\n",
       "<g style=\"fill:rgb(0%,0%,0%);fill-opacity:1;\">\n",
       "  <use xlink:href=\"#glyph0-13\" x=\"336.535156\" y=\"26.753906\"/>\n",
       "</g>\n",
       "<g style=\"fill:rgb(0%,0%,0%);fill-opacity:1;\">\n",
       "  <use xlink:href=\"#glyph0-14\" x=\"376.121094\" y=\"26.847656\"/>\n",
       "</g>\n",
       "<g style=\"fill:rgb(0%,0%,0%);fill-opacity:1;\">\n",
       "  <use xlink:href=\"#glyph0-15\" x=\"430.3125\" y=\"26.847656\"/>\n",
       "</g>\n",
       "<g style=\"fill:rgb(0%,0%,0%);fill-opacity:1;\">\n",
       "  <use xlink:href=\"#glyph0-7\" x=\"465.597656\" y=\"26.847656\"/>\n",
       "  <use xlink:href=\"#glyph0-16\" x=\"474.504883\" y=\"26.847656\"/>\n",
       "</g>\n",
       "<g style=\"fill:rgb(0%,0%,0%);fill-opacity:1;\">\n",
       "  <use xlink:href=\"#glyph0-7\" x=\"506.839844\" y=\"86.753906\"/>\n",
       "  <use xlink:href=\"#glyph0-7\" x=\"515.74707\" y=\"86.753906\"/>\n",
       "</g>\n",
       "<g style=\"fill:rgb(0%,0%,0%);fill-opacity:1;\">\n",
       "  <use xlink:href=\"#glyph0-7\" x=\"532.714844\" y=\"26.847656\"/>\n",
       "  <use xlink:href=\"#glyph0-8\" x=\"541.62207\" y=\"26.847656\"/>\n",
       "</g>\n",
       "<g style=\"fill:rgb(0%,0%,0%);fill-opacity:1;\">\n",
       "  <use xlink:href=\"#glyph0-7\" x=\"571.730469\" y=\"26.847656\"/>\n",
       "  <use xlink:href=\"#glyph0-9\" x=\"580.637695\" y=\"26.847656\"/>\n",
       "</g>\n",
       "<g style=\"fill:rgb(0%,0%,0%);fill-opacity:1;\">\n",
       "  <use xlink:href=\"#glyph0-7\" x=\"627.371094\" y=\"26.753906\"/>\n",
       "  <use xlink:href=\"#glyph0-10\" x=\"636.27832\" y=\"26.753906\"/>\n",
       "</g>\n",
       "<g style=\"fill:rgb(0%,0%,0%);fill-opacity:1;\">\n",
       "  <use xlink:href=\"#glyph0-7\" x=\"671.949219\" y=\"26.753906\"/>\n",
       "  <use xlink:href=\"#glyph0-11\" x=\"680.856445\" y=\"26.753906\"/>\n",
       "</g>\n",
       "<g style=\"fill:rgb(0%,0%,0%);fill-opacity:1;\">\n",
       "  <use xlink:href=\"#glyph0-7\" x=\"719.59375\" y=\"26.847656\"/>\n",
       "  <use xlink:href=\"#glyph0-12\" x=\"728.500977\" y=\"26.847656\"/>\n",
       "</g>\n",
       "<g style=\"fill:rgb(0%,0%,0%);fill-opacity:1;\">\n",
       "  <use xlink:href=\"#glyph0-7\" x=\"750.488281\" y=\"26.753906\"/>\n",
       "  <use xlink:href=\"#glyph0-13\" x=\"759.395508\" y=\"26.753906\"/>\n",
       "</g>\n",
       "<g style=\"fill:rgb(0%,0%,0%);fill-opacity:1;\">\n",
       "  <use xlink:href=\"#glyph0-17\" x=\"814.308594\" y=\"26.96875\"/>\n",
       "  <use xlink:href=\"#glyph0-18\" x=\"819.797852\" y=\"26.96875\"/>\n",
       "  <use xlink:href=\"#glyph0-19\" x=\"828.376953\" y=\"26.96875\"/>\n",
       "  <use xlink:href=\"#glyph0-20\" x=\"837.25\" y=\"26.96875\"/>\n",
       "</g>\n",
       "</g>\n",
       "</svg>\n"
      ],
      "text/plain": [
       "<igraph.drawing.Plot at 0x7f9e13904b90>"
      ]
     },
     "execution_count": 68,
     "metadata": {
      "image/svg+xml": {
       "isolated": true
      }
     },
     "output_type": "execute_result"
    }
   ],
   "source": [
    "igraph.plot(g, \"splice_network.pdf\", **visual_style)"
   ]
  },
  {
   "cell_type": "markdown",
   "metadata": {},
   "source": [
    "## *igraph* and the outside world"
   ]
  },
  {
   "cell_type": "markdown",
   "metadata": {},
   "source": [
    "No graph module would be complete without some kind of **import/export** *functionality* that enables the package to communicate with external programs and toolkits.\n",
    "\n",
    "*igraph* provides functions:\n",
    "* to **read the most common graph formats** \n",
    "* to **save `Graph` objects into files** obeying these format specifications\n",
    "\n",
    "The following table summarises the formats igraph can read or write:"
   ]
  },
  {
   "cell_type": "markdown",
   "metadata": {},
   "source": [
    "**Note:**\n",
    "\n",
    "Most of the *formats* have **their own limitations**;\n",
    "\n",
    "* For instance, **not all of them can store attributes**. Your best bet is probably `GraphML` or `GML` if you want to save *igraph* graphs in a format that can be read from an external package and you want to preserve `numeric` and `string` **attributes**. \n",
    "\n",
    "* `Edge list` and `NCOL` is also fine if you **don’t have attributes** (`NCOL` supports *vertex names* and *edge weights*, though).\n",
    "\n",
    "* If you don’t want to use your graphs outside igraph but you want to **store them for a later session**, the *pickled graph* format ensures that you get exactly the same graph back. The *pickled graph* format uses Python’s `pickle` **module** to store and read graphs.\n",
    "\n",
    "There are two helper methods as well:\n",
    "* `load()` is a generic entry point for reader methods which tries to infer the appropriate format from the file extension. \n",
    "* `Graph.save()` is the opposite of `load()`, it lets you save a graph where the preferred format is again inferred from the extension.\n",
    "\n",
    "The format detection of `load()` and `Graph.save()` can be overridden by the `format` *keyword argument* which accepts the short names of the formats from the above table."
   ]
  },
  {
   "cell_type": "code",
   "execution_count": 69,
   "metadata": {},
   "outputs": [],
   "source": [
    "#karate = igraph.load(\"karate.GraphML\")\n",
    "#igraph.save(\"karate.net\")\n",
    "#igraph.save(\"karate.my_extension\", format=\"gml\")"
   ]
  },
  {
   "cell_type": "markdown",
   "metadata": {},
   "source": [
    "## Where to go next"
   ]
  },
  {
   "cell_type": "markdown",
   "metadata": {},
   "source": [
    "This tutorial was only scratching the surface of what igraph can do. My long-term plans are to extend this tutorial into a proper **manual-style documentation** to igraph in the next chapters.\n",
    "\n",
    "In the meanwhile, check out the full [API documentation](https://igraph.org/python/doc/igraph-module.html) which should provide information about almost every igraph class, function or method. \n",
    "\n",
    "A good starting point is the documentation of the [Graph class](https://igraph.org/python/doc/igraph.Graph-class.html).\n",
    "\n",
    "Should you get stuck, try asking in our [Discourse group](https://igraph.discourse.group/) first - maybe there is someone out there who can help you out immediately."
   ]
  }
 ],
 "metadata": {
  "kernelspec": {
   "display_name": "Python py36",
   "language": "python",
   "name": "py36"
  },
  "language_info": {
   "codemirror_mode": {
    "name": "ipython",
    "version": 3
   },
   "file_extension": ".py",
   "mimetype": "text/x-python",
   "name": "python",
   "nbconvert_exporter": "python",
   "pygments_lexer": "ipython3",
   "version": "3.6.10"
  }
 },
 "nbformat": 4,
 "nbformat_minor": 2
}
